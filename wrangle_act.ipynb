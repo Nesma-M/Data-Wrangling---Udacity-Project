{
 "cells": [
  {
   "cell_type": "markdown",
   "metadata": {},
   "source": [
    "# Data Analysis Professional Track \n",
    "## Project: Wrangle and Analyze Data"
   ]
  },
  {
   "cell_type": "markdown",
   "metadata": {},
   "source": [
    "## Gather"
   ]
  },
  {
   "cell_type": "code",
   "execution_count": 3,
   "metadata": {},
   "outputs": [],
   "source": [
    "import pandas as pd\n",
    "pd.set_option('display.max_colwidth', -1)\n",
    "import numpy as np\n",
    "import requests\n",
    "import os\n",
    "import tweepy\n",
    "from tweepy import OAuthHandler\n",
    "import json\n",
    "from timeit import default_timer as timer\n",
    "import re\n",
    "import matplotlib.pyplot as plt\n",
    "%matplotlib inline\n",
    "import seaborn as sns\n",
    "sns.set_context(context='notebook')\n",
    "sns.set(rc={'figure.figsize':(10,6)})\n",
    "import warnings\n",
    "warnings.simplefilter('ignore')"
   ]
  },
  {
   "cell_type": "code",
   "execution_count": 4,
   "metadata": {},
   "outputs": [],
   "source": [
    "# Gather the twitter archive dataset\n",
    "twitter_archive_df = pd.read_csv('twitter-archive-enhanced.csv')\n",
    "\n",
    "# Download the Image Predictions File from a url\n",
    "url = 'https://d17h27t6h515a5.cloudfront.net/topher/2017/August/599fd2ad_image-predictions/image-predictions.tsv'\n",
    "response = requests.get(url)\n",
    "\n",
    "with open('image_predictions.tsv', 'wb') as file:\n",
    "    file.write(response.content)\n",
    "    \n",
    "# Gather The image predictions dataset   \n",
    "image_predictions_df  = pd.read_csv('image_predictions.tsv', sep='\\t')"
   ]
  },
  {
   "cell_type": "code",
   "execution_count": 8,
   "metadata": {},
   "outputs": [
    {
     "name": "stderr",
     "output_type": "stream",
     "text": [
      "Rate limit reached. Sleeping for: 80\n",
      "Rate limit reached. Sleeping for: 417\n",
      "Rate limit reached. Sleeping for: 373\n"
     ]
    }
   ],
   "source": [
    "consumer_key = ''\n",
    "consumer_secret = ''\n",
    "access_token = ''\n",
    "access_secret = '' \n",
    "\n",
    "auth = OAuthHandler(consumer_key, consumer_secret)\n",
    "auth.set_access_token(access_token, access_secret)\n",
    "\n",
    "api = tweepy.API(auth, wait_on_rate_limit=True, wait_on_rate_limit_notify=True)\n",
    "\n",
    "# Unique tweets of twitter-archive-enhanced.csv file.\n",
    "tweet_ids = twitter_archive_df.tweet_id.values\n",
    "# Get the number of unique tweets\n",
    "len(tweet_ids)\n",
    "\n",
    "# List of error\n",
    "fails_dict = {}\n",
    "\n",
    "# Current time when the Twitter API starts.\n",
    "start = timer()\n",
    "\n",
    "# Save each tweet's returned JSON as a new line in a .txt file\n",
    "with open('tweet_json.txt', 'w') as outfile:\n",
    "    # This loop will likely take 20-30 minutes to run because of Twitter's rate limit\n",
    "    for tweet_id in tweet_ids:\n",
    "        try:\n",
    "            tweet = api.get_status(tweet_id, wait_on_rate_limit = True, wait_on_rate_limit_notify = True, tweet_mode='extended')\n",
    "            json.dump(tweet._json, outfile)\n",
    "            outfile.write('\\n')\n",
    "        except tweepy.TweepError as e:\n",
    "            fails_dict[tweet_id] = e\n",
    "            pass\n",
    "        \n",
    "# Current time when the Twitter API ends.        \n",
    "end = timer()\n"
   ]
  },
  {
   "cell_type": "code",
   "execution_count": 10,
   "metadata": {},
   "outputs": [
    {
     "name": "stdout",
     "output_type": "stream",
     "text": [
      "time taken: 38.162192178333335 minutes\n"
     ]
    }
   ],
   "source": [
    "# Calculate the time taken in minutes.\n",
    "time_taken = (end - start)/60\n",
    "\n",
    "# Print the time taken of the loop.\n",
    "print(\"time taken: {} minutes\".format(time_taken))"
   ]
  },
  {
   "cell_type": "code",
   "execution_count": 5,
   "metadata": {},
   "outputs": [],
   "source": [
    "# Read the saved tweet_json.txt file into a dataframe\n",
    "df_tweet_list = []\n",
    "\n",
    "with open('tweet_json.txt', 'r') as file:\n",
    "    for line in file:\n",
    "        tweet = json.loads(line)\n",
    "        tweet_id = tweet['id']\n",
    "        retweet_count = tweet['retweet_count']\n",
    "        fav_count = tweet['favorite_count']\n",
    "        df_tweet_list.append({'tweet_id':tweet_id,\n",
    "                       'retweet_count': retweet_count,\n",
    "                       'favorite_count': fav_count})\n",
    "        \n",
    "api_df = pd.DataFrame(df_tweet_list)"
   ]
  },
  {
   "cell_type": "markdown",
   "metadata": {},
   "source": [
    "## Assess"
   ]
  },
  {
   "cell_type": "markdown",
   "metadata": {},
   "source": [
    "###### 1. Visual Assessment"
   ]
  },
  {
   "cell_type": "code",
   "execution_count": 6,
   "metadata": {},
   "outputs": [
    {
     "data": {
      "text/html": [
       "<div>\n",
       "<style scoped>\n",
       "    .dataframe tbody tr th:only-of-type {\n",
       "        vertical-align: middle;\n",
       "    }\n",
       "\n",
       "    .dataframe tbody tr th {\n",
       "        vertical-align: top;\n",
       "    }\n",
       "\n",
       "    .dataframe thead th {\n",
       "        text-align: right;\n",
       "    }\n",
       "</style>\n",
       "<table border=\"1\" class=\"dataframe\">\n",
       "  <thead>\n",
       "    <tr style=\"text-align: right;\">\n",
       "      <th></th>\n",
       "      <th>tweet_id</th>\n",
       "      <th>in_reply_to_status_id</th>\n",
       "      <th>in_reply_to_user_id</th>\n",
       "      <th>timestamp</th>\n",
       "      <th>source</th>\n",
       "      <th>text</th>\n",
       "      <th>retweeted_status_id</th>\n",
       "      <th>retweeted_status_user_id</th>\n",
       "      <th>retweeted_status_timestamp</th>\n",
       "      <th>expanded_urls</th>\n",
       "      <th>rating_numerator</th>\n",
       "      <th>rating_denominator</th>\n",
       "      <th>name</th>\n",
       "      <th>doggo</th>\n",
       "      <th>floofer</th>\n",
       "      <th>pupper</th>\n",
       "      <th>puppo</th>\n",
       "    </tr>\n",
       "  </thead>\n",
       "  <tbody>\n",
       "    <tr>\n",
       "      <th>0</th>\n",
       "      <td>892420643555336193</td>\n",
       "      <td>NaN</td>\n",
       "      <td>NaN</td>\n",
       "      <td>2017-08-01 16:23:56 +0000</td>\n",
       "      <td>&lt;a href=\"http://twitter.com/download/iphone\" rel=\"nofollow\"&gt;Twitter for iPhone&lt;/a&gt;</td>\n",
       "      <td>This is Phineas. He's a mystical boy. Only ever appears in the hole of a donut. 13/10 https://t.co/MgUWQ76dJU</td>\n",
       "      <td>NaN</td>\n",
       "      <td>NaN</td>\n",
       "      <td>NaN</td>\n",
       "      <td>https://twitter.com/dog_rates/status/892420643555336193/photo/1</td>\n",
       "      <td>13</td>\n",
       "      <td>10</td>\n",
       "      <td>Phineas</td>\n",
       "      <td>None</td>\n",
       "      <td>None</td>\n",
       "      <td>None</td>\n",
       "      <td>None</td>\n",
       "    </tr>\n",
       "    <tr>\n",
       "      <th>1</th>\n",
       "      <td>892177421306343426</td>\n",
       "      <td>NaN</td>\n",
       "      <td>NaN</td>\n",
       "      <td>2017-08-01 00:17:27 +0000</td>\n",
       "      <td>&lt;a href=\"http://twitter.com/download/iphone\" rel=\"nofollow\"&gt;Twitter for iPhone&lt;/a&gt;</td>\n",
       "      <td>This is Tilly. She's just checking pup on you. Hopes you're doing ok. If not, she's available for pats, snugs, boops, the whole bit. 13/10 https://t.co/0Xxu71qeIV</td>\n",
       "      <td>NaN</td>\n",
       "      <td>NaN</td>\n",
       "      <td>NaN</td>\n",
       "      <td>https://twitter.com/dog_rates/status/892177421306343426/photo/1</td>\n",
       "      <td>13</td>\n",
       "      <td>10</td>\n",
       "      <td>Tilly</td>\n",
       "      <td>None</td>\n",
       "      <td>None</td>\n",
       "      <td>None</td>\n",
       "      <td>None</td>\n",
       "    </tr>\n",
       "    <tr>\n",
       "      <th>2</th>\n",
       "      <td>891815181378084864</td>\n",
       "      <td>NaN</td>\n",
       "      <td>NaN</td>\n",
       "      <td>2017-07-31 00:18:03 +0000</td>\n",
       "      <td>&lt;a href=\"http://twitter.com/download/iphone\" rel=\"nofollow\"&gt;Twitter for iPhone&lt;/a&gt;</td>\n",
       "      <td>This is Archie. He is a rare Norwegian Pouncing Corgo. Lives in the tall grass. You never know when one may strike. 12/10 https://t.co/wUnZnhtVJB</td>\n",
       "      <td>NaN</td>\n",
       "      <td>NaN</td>\n",
       "      <td>NaN</td>\n",
       "      <td>https://twitter.com/dog_rates/status/891815181378084864/photo/1</td>\n",
       "      <td>12</td>\n",
       "      <td>10</td>\n",
       "      <td>Archie</td>\n",
       "      <td>None</td>\n",
       "      <td>None</td>\n",
       "      <td>None</td>\n",
       "      <td>None</td>\n",
       "    </tr>\n",
       "    <tr>\n",
       "      <th>3</th>\n",
       "      <td>891689557279858688</td>\n",
       "      <td>NaN</td>\n",
       "      <td>NaN</td>\n",
       "      <td>2017-07-30 15:58:51 +0000</td>\n",
       "      <td>&lt;a href=\"http://twitter.com/download/iphone\" rel=\"nofollow\"&gt;Twitter for iPhone&lt;/a&gt;</td>\n",
       "      <td>This is Darla. She commenced a snooze mid meal. 13/10 happens to the best of us https://t.co/tD36da7qLQ</td>\n",
       "      <td>NaN</td>\n",
       "      <td>NaN</td>\n",
       "      <td>NaN</td>\n",
       "      <td>https://twitter.com/dog_rates/status/891689557279858688/photo/1</td>\n",
       "      <td>13</td>\n",
       "      <td>10</td>\n",
       "      <td>Darla</td>\n",
       "      <td>None</td>\n",
       "      <td>None</td>\n",
       "      <td>None</td>\n",
       "      <td>None</td>\n",
       "    </tr>\n",
       "    <tr>\n",
       "      <th>4</th>\n",
       "      <td>891327558926688256</td>\n",
       "      <td>NaN</td>\n",
       "      <td>NaN</td>\n",
       "      <td>2017-07-29 16:00:24 +0000</td>\n",
       "      <td>&lt;a href=\"http://twitter.com/download/iphone\" rel=\"nofollow\"&gt;Twitter for iPhone&lt;/a&gt;</td>\n",
       "      <td>This is Franklin. He would like you to stop calling him \"cute.\" He is a very fierce shark and should be respected as such. 12/10 #BarkWeek https://t.co/AtUZn91f7f</td>\n",
       "      <td>NaN</td>\n",
       "      <td>NaN</td>\n",
       "      <td>NaN</td>\n",
       "      <td>https://twitter.com/dog_rates/status/891327558926688256/photo/1,https://twitter.com/dog_rates/status/891327558926688256/photo/1</td>\n",
       "      <td>12</td>\n",
       "      <td>10</td>\n",
       "      <td>Franklin</td>\n",
       "      <td>None</td>\n",
       "      <td>None</td>\n",
       "      <td>None</td>\n",
       "      <td>None</td>\n",
       "    </tr>\n",
       "    <tr>\n",
       "      <th>...</th>\n",
       "      <td>...</td>\n",
       "      <td>...</td>\n",
       "      <td>...</td>\n",
       "      <td>...</td>\n",
       "      <td>...</td>\n",
       "      <td>...</td>\n",
       "      <td>...</td>\n",
       "      <td>...</td>\n",
       "      <td>...</td>\n",
       "      <td>...</td>\n",
       "      <td>...</td>\n",
       "      <td>...</td>\n",
       "      <td>...</td>\n",
       "      <td>...</td>\n",
       "      <td>...</td>\n",
       "      <td>...</td>\n",
       "      <td>...</td>\n",
       "    </tr>\n",
       "    <tr>\n",
       "      <th>2351</th>\n",
       "      <td>666049248165822465</td>\n",
       "      <td>NaN</td>\n",
       "      <td>NaN</td>\n",
       "      <td>2015-11-16 00:24:50 +0000</td>\n",
       "      <td>&lt;a href=\"http://twitter.com/download/iphone\" rel=\"nofollow\"&gt;Twitter for iPhone&lt;/a&gt;</td>\n",
       "      <td>Here we have a 1949 1st generation vulpix. Enjoys sweat tea and Fox News. Cannot be phased. 5/10 https://t.co/4B7cOc1EDq</td>\n",
       "      <td>NaN</td>\n",
       "      <td>NaN</td>\n",
       "      <td>NaN</td>\n",
       "      <td>https://twitter.com/dog_rates/status/666049248165822465/photo/1</td>\n",
       "      <td>5</td>\n",
       "      <td>10</td>\n",
       "      <td>None</td>\n",
       "      <td>None</td>\n",
       "      <td>None</td>\n",
       "      <td>None</td>\n",
       "      <td>None</td>\n",
       "    </tr>\n",
       "    <tr>\n",
       "      <th>2352</th>\n",
       "      <td>666044226329800704</td>\n",
       "      <td>NaN</td>\n",
       "      <td>NaN</td>\n",
       "      <td>2015-11-16 00:04:52 +0000</td>\n",
       "      <td>&lt;a href=\"http://twitter.com/download/iphone\" rel=\"nofollow\"&gt;Twitter for iPhone&lt;/a&gt;</td>\n",
       "      <td>This is a purebred Piers Morgan. Loves to Netflix and chill. Always looks like he forgot to unplug the iron. 6/10 https://t.co/DWnyCjf2mx</td>\n",
       "      <td>NaN</td>\n",
       "      <td>NaN</td>\n",
       "      <td>NaN</td>\n",
       "      <td>https://twitter.com/dog_rates/status/666044226329800704/photo/1</td>\n",
       "      <td>6</td>\n",
       "      <td>10</td>\n",
       "      <td>a</td>\n",
       "      <td>None</td>\n",
       "      <td>None</td>\n",
       "      <td>None</td>\n",
       "      <td>None</td>\n",
       "    </tr>\n",
       "    <tr>\n",
       "      <th>2353</th>\n",
       "      <td>666033412701032449</td>\n",
       "      <td>NaN</td>\n",
       "      <td>NaN</td>\n",
       "      <td>2015-11-15 23:21:54 +0000</td>\n",
       "      <td>&lt;a href=\"http://twitter.com/download/iphone\" rel=\"nofollow\"&gt;Twitter for iPhone&lt;/a&gt;</td>\n",
       "      <td>Here is a very happy pup. Big fan of well-maintained decks. Just look at that tongue. 9/10 would cuddle af https://t.co/y671yMhoiR</td>\n",
       "      <td>NaN</td>\n",
       "      <td>NaN</td>\n",
       "      <td>NaN</td>\n",
       "      <td>https://twitter.com/dog_rates/status/666033412701032449/photo/1</td>\n",
       "      <td>9</td>\n",
       "      <td>10</td>\n",
       "      <td>a</td>\n",
       "      <td>None</td>\n",
       "      <td>None</td>\n",
       "      <td>None</td>\n",
       "      <td>None</td>\n",
       "    </tr>\n",
       "    <tr>\n",
       "      <th>2354</th>\n",
       "      <td>666029285002620928</td>\n",
       "      <td>NaN</td>\n",
       "      <td>NaN</td>\n",
       "      <td>2015-11-15 23:05:30 +0000</td>\n",
       "      <td>&lt;a href=\"http://twitter.com/download/iphone\" rel=\"nofollow\"&gt;Twitter for iPhone&lt;/a&gt;</td>\n",
       "      <td>This is a western brown Mitsubishi terrier. Upset about leaf. Actually 2 dogs here. 7/10 would walk the shit out of https://t.co/r7mOb2m0UI</td>\n",
       "      <td>NaN</td>\n",
       "      <td>NaN</td>\n",
       "      <td>NaN</td>\n",
       "      <td>https://twitter.com/dog_rates/status/666029285002620928/photo/1</td>\n",
       "      <td>7</td>\n",
       "      <td>10</td>\n",
       "      <td>a</td>\n",
       "      <td>None</td>\n",
       "      <td>None</td>\n",
       "      <td>None</td>\n",
       "      <td>None</td>\n",
       "    </tr>\n",
       "    <tr>\n",
       "      <th>2355</th>\n",
       "      <td>666020888022790149</td>\n",
       "      <td>NaN</td>\n",
       "      <td>NaN</td>\n",
       "      <td>2015-11-15 22:32:08 +0000</td>\n",
       "      <td>&lt;a href=\"http://twitter.com/download/iphone\" rel=\"nofollow\"&gt;Twitter for iPhone&lt;/a&gt;</td>\n",
       "      <td>Here we have a Japanese Irish Setter. Lost eye in Vietnam (?). Big fan of relaxing on stair. 8/10 would pet https://t.co/BLDqew2Ijj</td>\n",
       "      <td>NaN</td>\n",
       "      <td>NaN</td>\n",
       "      <td>NaN</td>\n",
       "      <td>https://twitter.com/dog_rates/status/666020888022790149/photo/1</td>\n",
       "      <td>8</td>\n",
       "      <td>10</td>\n",
       "      <td>None</td>\n",
       "      <td>None</td>\n",
       "      <td>None</td>\n",
       "      <td>None</td>\n",
       "      <td>None</td>\n",
       "    </tr>\n",
       "  </tbody>\n",
       "</table>\n",
       "<p>2356 rows × 17 columns</p>\n",
       "</div>"
      ],
      "text/plain": [
       "                tweet_id  in_reply_to_status_id  in_reply_to_user_id  \\\n",
       "0     892420643555336193 NaN                    NaN                    \n",
       "1     892177421306343426 NaN                    NaN                    \n",
       "2     891815181378084864 NaN                    NaN                    \n",
       "3     891689557279858688 NaN                    NaN                    \n",
       "4     891327558926688256 NaN                    NaN                    \n",
       "...                  ...  ..                     ..                    \n",
       "2351  666049248165822465 NaN                    NaN                    \n",
       "2352  666044226329800704 NaN                    NaN                    \n",
       "2353  666033412701032449 NaN                    NaN                    \n",
       "2354  666029285002620928 NaN                    NaN                    \n",
       "2355  666020888022790149 NaN                    NaN                    \n",
       "\n",
       "                      timestamp  \\\n",
       "0     2017-08-01 16:23:56 +0000   \n",
       "1     2017-08-01 00:17:27 +0000   \n",
       "2     2017-07-31 00:18:03 +0000   \n",
       "3     2017-07-30 15:58:51 +0000   \n",
       "4     2017-07-29 16:00:24 +0000   \n",
       "...                         ...   \n",
       "2351  2015-11-16 00:24:50 +0000   \n",
       "2352  2015-11-16 00:04:52 +0000   \n",
       "2353  2015-11-15 23:21:54 +0000   \n",
       "2354  2015-11-15 23:05:30 +0000   \n",
       "2355  2015-11-15 22:32:08 +0000   \n",
       "\n",
       "                                                                                  source  \\\n",
       "0     <a href=\"http://twitter.com/download/iphone\" rel=\"nofollow\">Twitter for iPhone</a>   \n",
       "1     <a href=\"http://twitter.com/download/iphone\" rel=\"nofollow\">Twitter for iPhone</a>   \n",
       "2     <a href=\"http://twitter.com/download/iphone\" rel=\"nofollow\">Twitter for iPhone</a>   \n",
       "3     <a href=\"http://twitter.com/download/iphone\" rel=\"nofollow\">Twitter for iPhone</a>   \n",
       "4     <a href=\"http://twitter.com/download/iphone\" rel=\"nofollow\">Twitter for iPhone</a>   \n",
       "...                                                                                  ...   \n",
       "2351  <a href=\"http://twitter.com/download/iphone\" rel=\"nofollow\">Twitter for iPhone</a>   \n",
       "2352  <a href=\"http://twitter.com/download/iphone\" rel=\"nofollow\">Twitter for iPhone</a>   \n",
       "2353  <a href=\"http://twitter.com/download/iphone\" rel=\"nofollow\">Twitter for iPhone</a>   \n",
       "2354  <a href=\"http://twitter.com/download/iphone\" rel=\"nofollow\">Twitter for iPhone</a>   \n",
       "2355  <a href=\"http://twitter.com/download/iphone\" rel=\"nofollow\">Twitter for iPhone</a>   \n",
       "\n",
       "                                                                                                                                                                    text  \\\n",
       "0     This is Phineas. He's a mystical boy. Only ever appears in the hole of a donut. 13/10 https://t.co/MgUWQ76dJU                                                        \n",
       "1     This is Tilly. She's just checking pup on you. Hopes you're doing ok. If not, she's available for pats, snugs, boops, the whole bit. 13/10 https://t.co/0Xxu71qeIV   \n",
       "2     This is Archie. He is a rare Norwegian Pouncing Corgo. Lives in the tall grass. You never know when one may strike. 12/10 https://t.co/wUnZnhtVJB                    \n",
       "3     This is Darla. She commenced a snooze mid meal. 13/10 happens to the best of us https://t.co/tD36da7qLQ                                                              \n",
       "4     This is Franklin. He would like you to stop calling him \"cute.\" He is a very fierce shark and should be respected as such. 12/10 #BarkWeek https://t.co/AtUZn91f7f   \n",
       "...                                                                                                                                                                  ...   \n",
       "2351  Here we have a 1949 1st generation vulpix. Enjoys sweat tea and Fox News. Cannot be phased. 5/10 https://t.co/4B7cOc1EDq                                             \n",
       "2352  This is a purebred Piers Morgan. Loves to Netflix and chill. Always looks like he forgot to unplug the iron. 6/10 https://t.co/DWnyCjf2mx                            \n",
       "2353  Here is a very happy pup. Big fan of well-maintained decks. Just look at that tongue. 9/10 would cuddle af https://t.co/y671yMhoiR                                   \n",
       "2354  This is a western brown Mitsubishi terrier. Upset about leaf. Actually 2 dogs here. 7/10 would walk the shit out of https://t.co/r7mOb2m0UI                          \n",
       "2355  Here we have a Japanese Irish Setter. Lost eye in Vietnam (?). Big fan of relaxing on stair. 8/10 would pet https://t.co/BLDqew2Ijj                                  \n",
       "\n",
       "      retweeted_status_id  retweeted_status_user_id  \\\n",
       "0    NaN                  NaN                         \n",
       "1    NaN                  NaN                         \n",
       "2    NaN                  NaN                         \n",
       "3    NaN                  NaN                         \n",
       "4    NaN                  NaN                         \n",
       "...   ..                   ..                         \n",
       "2351 NaN                  NaN                         \n",
       "2352 NaN                  NaN                         \n",
       "2353 NaN                  NaN                         \n",
       "2354 NaN                  NaN                         \n",
       "2355 NaN                  NaN                         \n",
       "\n",
       "     retweeted_status_timestamp  \\\n",
       "0     NaN                         \n",
       "1     NaN                         \n",
       "2     NaN                         \n",
       "3     NaN                         \n",
       "4     NaN                         \n",
       "...   ...                         \n",
       "2351  NaN                         \n",
       "2352  NaN                         \n",
       "2353  NaN                         \n",
       "2354  NaN                         \n",
       "2355  NaN                         \n",
       "\n",
       "                                                                                                                        expanded_urls  \\\n",
       "0     https://twitter.com/dog_rates/status/892420643555336193/photo/1                                                                   \n",
       "1     https://twitter.com/dog_rates/status/892177421306343426/photo/1                                                                   \n",
       "2     https://twitter.com/dog_rates/status/891815181378084864/photo/1                                                                   \n",
       "3     https://twitter.com/dog_rates/status/891689557279858688/photo/1                                                                   \n",
       "4     https://twitter.com/dog_rates/status/891327558926688256/photo/1,https://twitter.com/dog_rates/status/891327558926688256/photo/1   \n",
       "...                                                                                                                               ...   \n",
       "2351  https://twitter.com/dog_rates/status/666049248165822465/photo/1                                                                   \n",
       "2352  https://twitter.com/dog_rates/status/666044226329800704/photo/1                                                                   \n",
       "2353  https://twitter.com/dog_rates/status/666033412701032449/photo/1                                                                   \n",
       "2354  https://twitter.com/dog_rates/status/666029285002620928/photo/1                                                                   \n",
       "2355  https://twitter.com/dog_rates/status/666020888022790149/photo/1                                                                   \n",
       "\n",
       "      rating_numerator  rating_denominator      name doggo floofer pupper  \\\n",
       "0     13                10                  Phineas   None  None    None    \n",
       "1     13                10                  Tilly     None  None    None    \n",
       "2     12                10                  Archie    None  None    None    \n",
       "3     13                10                  Darla     None  None    None    \n",
       "4     12                10                  Franklin  None  None    None    \n",
       "...   ..                ..                       ...   ...   ...     ...    \n",
       "2351  5                 10                  None      None  None    None    \n",
       "2352  6                 10                  a         None  None    None    \n",
       "2353  9                 10                  a         None  None    None    \n",
       "2354  7                 10                  a         None  None    None    \n",
       "2355  8                 10                  None      None  None    None    \n",
       "\n",
       "     puppo  \n",
       "0     None  \n",
       "1     None  \n",
       "2     None  \n",
       "3     None  \n",
       "4     None  \n",
       "...    ...  \n",
       "2351  None  \n",
       "2352  None  \n",
       "2353  None  \n",
       "2354  None  \n",
       "2355  None  \n",
       "\n",
       "[2356 rows x 17 columns]"
      ]
     },
     "execution_count": 6,
     "metadata": {},
     "output_type": "execute_result"
    }
   ],
   "source": [
    "# Display the twitter_archive_df dataset \n",
    "twitter_archive_df"
   ]
  },
  {
   "cell_type": "code",
   "execution_count": 8,
   "metadata": {},
   "outputs": [
    {
     "data": {
      "text/html": [
       "<div>\n",
       "<style scoped>\n",
       "    .dataframe tbody tr th:only-of-type {\n",
       "        vertical-align: middle;\n",
       "    }\n",
       "\n",
       "    .dataframe tbody tr th {\n",
       "        vertical-align: top;\n",
       "    }\n",
       "\n",
       "    .dataframe thead th {\n",
       "        text-align: right;\n",
       "    }\n",
       "</style>\n",
       "<table border=\"1\" class=\"dataframe\">\n",
       "  <thead>\n",
       "    <tr style=\"text-align: right;\">\n",
       "      <th></th>\n",
       "      <th>tweet_id</th>\n",
       "      <th>jpg_url</th>\n",
       "      <th>img_num</th>\n",
       "      <th>p1</th>\n",
       "      <th>p1_conf</th>\n",
       "      <th>p1_dog</th>\n",
       "      <th>p2</th>\n",
       "      <th>p2_conf</th>\n",
       "      <th>p2_dog</th>\n",
       "      <th>p3</th>\n",
       "      <th>p3_conf</th>\n",
       "      <th>p3_dog</th>\n",
       "    </tr>\n",
       "  </thead>\n",
       "  <tbody>\n",
       "    <tr>\n",
       "      <th>0</th>\n",
       "      <td>666020888022790149</td>\n",
       "      <td>https://pbs.twimg.com/media/CT4udn0WwAA0aMy.jpg</td>\n",
       "      <td>1</td>\n",
       "      <td>Welsh_springer_spaniel</td>\n",
       "      <td>0.465074</td>\n",
       "      <td>True</td>\n",
       "      <td>collie</td>\n",
       "      <td>0.156665</td>\n",
       "      <td>True</td>\n",
       "      <td>Shetland_sheepdog</td>\n",
       "      <td>0.061428</td>\n",
       "      <td>True</td>\n",
       "    </tr>\n",
       "    <tr>\n",
       "      <th>1</th>\n",
       "      <td>666029285002620928</td>\n",
       "      <td>https://pbs.twimg.com/media/CT42GRgUYAA5iDo.jpg</td>\n",
       "      <td>1</td>\n",
       "      <td>redbone</td>\n",
       "      <td>0.506826</td>\n",
       "      <td>True</td>\n",
       "      <td>miniature_pinscher</td>\n",
       "      <td>0.074192</td>\n",
       "      <td>True</td>\n",
       "      <td>Rhodesian_ridgeback</td>\n",
       "      <td>0.072010</td>\n",
       "      <td>True</td>\n",
       "    </tr>\n",
       "    <tr>\n",
       "      <th>2</th>\n",
       "      <td>666033412701032449</td>\n",
       "      <td>https://pbs.twimg.com/media/CT4521TWwAEvMyu.jpg</td>\n",
       "      <td>1</td>\n",
       "      <td>German_shepherd</td>\n",
       "      <td>0.596461</td>\n",
       "      <td>True</td>\n",
       "      <td>malinois</td>\n",
       "      <td>0.138584</td>\n",
       "      <td>True</td>\n",
       "      <td>bloodhound</td>\n",
       "      <td>0.116197</td>\n",
       "      <td>True</td>\n",
       "    </tr>\n",
       "    <tr>\n",
       "      <th>3</th>\n",
       "      <td>666044226329800704</td>\n",
       "      <td>https://pbs.twimg.com/media/CT5Dr8HUEAA-lEu.jpg</td>\n",
       "      <td>1</td>\n",
       "      <td>Rhodesian_ridgeback</td>\n",
       "      <td>0.408143</td>\n",
       "      <td>True</td>\n",
       "      <td>redbone</td>\n",
       "      <td>0.360687</td>\n",
       "      <td>True</td>\n",
       "      <td>miniature_pinscher</td>\n",
       "      <td>0.222752</td>\n",
       "      <td>True</td>\n",
       "    </tr>\n",
       "    <tr>\n",
       "      <th>4</th>\n",
       "      <td>666049248165822465</td>\n",
       "      <td>https://pbs.twimg.com/media/CT5IQmsXIAAKY4A.jpg</td>\n",
       "      <td>1</td>\n",
       "      <td>miniature_pinscher</td>\n",
       "      <td>0.560311</td>\n",
       "      <td>True</td>\n",
       "      <td>Rottweiler</td>\n",
       "      <td>0.243682</td>\n",
       "      <td>True</td>\n",
       "      <td>Doberman</td>\n",
       "      <td>0.154629</td>\n",
       "      <td>True</td>\n",
       "    </tr>\n",
       "    <tr>\n",
       "      <th>...</th>\n",
       "      <td>...</td>\n",
       "      <td>...</td>\n",
       "      <td>...</td>\n",
       "      <td>...</td>\n",
       "      <td>...</td>\n",
       "      <td>...</td>\n",
       "      <td>...</td>\n",
       "      <td>...</td>\n",
       "      <td>...</td>\n",
       "      <td>...</td>\n",
       "      <td>...</td>\n",
       "      <td>...</td>\n",
       "    </tr>\n",
       "    <tr>\n",
       "      <th>2070</th>\n",
       "      <td>891327558926688256</td>\n",
       "      <td>https://pbs.twimg.com/media/DF6hr6BUMAAzZgT.jpg</td>\n",
       "      <td>2</td>\n",
       "      <td>basset</td>\n",
       "      <td>0.555712</td>\n",
       "      <td>True</td>\n",
       "      <td>English_springer</td>\n",
       "      <td>0.225770</td>\n",
       "      <td>True</td>\n",
       "      <td>German_short-haired_pointer</td>\n",
       "      <td>0.175219</td>\n",
       "      <td>True</td>\n",
       "    </tr>\n",
       "    <tr>\n",
       "      <th>2071</th>\n",
       "      <td>891689557279858688</td>\n",
       "      <td>https://pbs.twimg.com/media/DF_q7IAWsAEuuN8.jpg</td>\n",
       "      <td>1</td>\n",
       "      <td>paper_towel</td>\n",
       "      <td>0.170278</td>\n",
       "      <td>False</td>\n",
       "      <td>Labrador_retriever</td>\n",
       "      <td>0.168086</td>\n",
       "      <td>True</td>\n",
       "      <td>spatula</td>\n",
       "      <td>0.040836</td>\n",
       "      <td>False</td>\n",
       "    </tr>\n",
       "    <tr>\n",
       "      <th>2072</th>\n",
       "      <td>891815181378084864</td>\n",
       "      <td>https://pbs.twimg.com/media/DGBdLU1WsAANxJ9.jpg</td>\n",
       "      <td>1</td>\n",
       "      <td>Chihuahua</td>\n",
       "      <td>0.716012</td>\n",
       "      <td>True</td>\n",
       "      <td>malamute</td>\n",
       "      <td>0.078253</td>\n",
       "      <td>True</td>\n",
       "      <td>kelpie</td>\n",
       "      <td>0.031379</td>\n",
       "      <td>True</td>\n",
       "    </tr>\n",
       "    <tr>\n",
       "      <th>2073</th>\n",
       "      <td>892177421306343426</td>\n",
       "      <td>https://pbs.twimg.com/media/DGGmoV4XsAAUL6n.jpg</td>\n",
       "      <td>1</td>\n",
       "      <td>Chihuahua</td>\n",
       "      <td>0.323581</td>\n",
       "      <td>True</td>\n",
       "      <td>Pekinese</td>\n",
       "      <td>0.090647</td>\n",
       "      <td>True</td>\n",
       "      <td>papillon</td>\n",
       "      <td>0.068957</td>\n",
       "      <td>True</td>\n",
       "    </tr>\n",
       "    <tr>\n",
       "      <th>2074</th>\n",
       "      <td>892420643555336193</td>\n",
       "      <td>https://pbs.twimg.com/media/DGKD1-bXoAAIAUK.jpg</td>\n",
       "      <td>1</td>\n",
       "      <td>orange</td>\n",
       "      <td>0.097049</td>\n",
       "      <td>False</td>\n",
       "      <td>bagel</td>\n",
       "      <td>0.085851</td>\n",
       "      <td>False</td>\n",
       "      <td>banana</td>\n",
       "      <td>0.076110</td>\n",
       "      <td>False</td>\n",
       "    </tr>\n",
       "  </tbody>\n",
       "</table>\n",
       "<p>2075 rows × 12 columns</p>\n",
       "</div>"
      ],
      "text/plain": [
       "                tweet_id                                          jpg_url  \\\n",
       "0     666020888022790149  https://pbs.twimg.com/media/CT4udn0WwAA0aMy.jpg   \n",
       "1     666029285002620928  https://pbs.twimg.com/media/CT42GRgUYAA5iDo.jpg   \n",
       "2     666033412701032449  https://pbs.twimg.com/media/CT4521TWwAEvMyu.jpg   \n",
       "3     666044226329800704  https://pbs.twimg.com/media/CT5Dr8HUEAA-lEu.jpg   \n",
       "4     666049248165822465  https://pbs.twimg.com/media/CT5IQmsXIAAKY4A.jpg   \n",
       "...                  ...                                              ...   \n",
       "2070  891327558926688256  https://pbs.twimg.com/media/DF6hr6BUMAAzZgT.jpg   \n",
       "2071  891689557279858688  https://pbs.twimg.com/media/DF_q7IAWsAEuuN8.jpg   \n",
       "2072  891815181378084864  https://pbs.twimg.com/media/DGBdLU1WsAANxJ9.jpg   \n",
       "2073  892177421306343426  https://pbs.twimg.com/media/DGGmoV4XsAAUL6n.jpg   \n",
       "2074  892420643555336193  https://pbs.twimg.com/media/DGKD1-bXoAAIAUK.jpg   \n",
       "\n",
       "      img_num                      p1   p1_conf  p1_dog                  p2  \\\n",
       "0     1        Welsh_springer_spaniel  0.465074  True    collie               \n",
       "1     1        redbone                 0.506826  True    miniature_pinscher   \n",
       "2     1        German_shepherd         0.596461  True    malinois             \n",
       "3     1        Rhodesian_ridgeback     0.408143  True    redbone              \n",
       "4     1        miniature_pinscher      0.560311  True    Rottweiler           \n",
       "...  ..                       ...           ...   ...           ...           \n",
       "2070  2        basset                  0.555712  True    English_springer     \n",
       "2071  1        paper_towel             0.170278  False   Labrador_retriever   \n",
       "2072  1        Chihuahua               0.716012  True    malamute             \n",
       "2073  1        Chihuahua               0.323581  True    Pekinese             \n",
       "2074  1        orange                  0.097049  False   bagel                \n",
       "\n",
       "       p2_conf  p2_dog                           p3   p3_conf  p3_dog  \n",
       "0     0.156665  True    Shetland_sheepdog            0.061428  True    \n",
       "1     0.074192  True    Rhodesian_ridgeback          0.072010  True    \n",
       "2     0.138584  True    bloodhound                   0.116197  True    \n",
       "3     0.360687  True    miniature_pinscher           0.222752  True    \n",
       "4     0.243682  True    Doberman                     0.154629  True    \n",
       "...        ...   ...         ...                          ...   ...    \n",
       "2070  0.225770  True    German_short-haired_pointer  0.175219  True    \n",
       "2071  0.168086  True    spatula                      0.040836  False   \n",
       "2072  0.078253  True    kelpie                       0.031379  True    \n",
       "2073  0.090647  True    papillon                     0.068957  True    \n",
       "2074  0.085851  False   banana                       0.076110  False   \n",
       "\n",
       "[2075 rows x 12 columns]"
      ]
     },
     "execution_count": 8,
     "metadata": {},
     "output_type": "execute_result"
    }
   ],
   "source": [
    "# Display image_predictions_df dataset\n",
    "image_predictions_df"
   ]
  },
  {
   "cell_type": "code",
   "execution_count": 9,
   "metadata": {
    "scrolled": true
   },
   "outputs": [
    {
     "data": {
      "text/html": [
       "<div>\n",
       "<style scoped>\n",
       "    .dataframe tbody tr th:only-of-type {\n",
       "        vertical-align: middle;\n",
       "    }\n",
       "\n",
       "    .dataframe tbody tr th {\n",
       "        vertical-align: top;\n",
       "    }\n",
       "\n",
       "    .dataframe thead th {\n",
       "        text-align: right;\n",
       "    }\n",
       "</style>\n",
       "<table border=\"1\" class=\"dataframe\">\n",
       "  <thead>\n",
       "    <tr style=\"text-align: right;\">\n",
       "      <th></th>\n",
       "      <th>tweet_id</th>\n",
       "      <th>retweet_count</th>\n",
       "      <th>favorite_count</th>\n",
       "    </tr>\n",
       "  </thead>\n",
       "  <tbody>\n",
       "    <tr>\n",
       "      <th>0</th>\n",
       "      <td>892420643555336193</td>\n",
       "      <td>7542</td>\n",
       "      <td>35563</td>\n",
       "    </tr>\n",
       "    <tr>\n",
       "      <th>1</th>\n",
       "      <td>892177421306343426</td>\n",
       "      <td>5591</td>\n",
       "      <td>30756</td>\n",
       "    </tr>\n",
       "    <tr>\n",
       "      <th>2</th>\n",
       "      <td>891815181378084864</td>\n",
       "      <td>3705</td>\n",
       "      <td>23126</td>\n",
       "    </tr>\n",
       "    <tr>\n",
       "      <th>3</th>\n",
       "      <td>891689557279858688</td>\n",
       "      <td>7723</td>\n",
       "      <td>38878</td>\n",
       "    </tr>\n",
       "    <tr>\n",
       "      <th>4</th>\n",
       "      <td>891327558926688256</td>\n",
       "      <td>8322</td>\n",
       "      <td>37136</td>\n",
       "    </tr>\n",
       "    <tr>\n",
       "      <th>...</th>\n",
       "      <td>...</td>\n",
       "      <td>...</td>\n",
       "      <td>...</td>\n",
       "    </tr>\n",
       "    <tr>\n",
       "      <th>2326</th>\n",
       "      <td>666049248165822465</td>\n",
       "      <td>40</td>\n",
       "      <td>95</td>\n",
       "    </tr>\n",
       "    <tr>\n",
       "      <th>2327</th>\n",
       "      <td>666044226329800704</td>\n",
       "      <td>126</td>\n",
       "      <td>265</td>\n",
       "    </tr>\n",
       "    <tr>\n",
       "      <th>2328</th>\n",
       "      <td>666033412701032449</td>\n",
       "      <td>39</td>\n",
       "      <td>110</td>\n",
       "    </tr>\n",
       "    <tr>\n",
       "      <th>2329</th>\n",
       "      <td>666029285002620928</td>\n",
       "      <td>41</td>\n",
       "      <td>119</td>\n",
       "    </tr>\n",
       "    <tr>\n",
       "      <th>2330</th>\n",
       "      <td>666020888022790149</td>\n",
       "      <td>455</td>\n",
       "      <td>2369</td>\n",
       "    </tr>\n",
       "  </tbody>\n",
       "</table>\n",
       "<p>2331 rows × 3 columns</p>\n",
       "</div>"
      ],
      "text/plain": [
       "                tweet_id  retweet_count  favorite_count\n",
       "0     892420643555336193  7542           35563         \n",
       "1     892177421306343426  5591           30756         \n",
       "2     891815181378084864  3705           23126         \n",
       "3     891689557279858688  7723           38878         \n",
       "4     891327558926688256  8322           37136         \n",
       "...                  ...   ...             ...         \n",
       "2326  666049248165822465  40             95            \n",
       "2327  666044226329800704  126            265           \n",
       "2328  666033412701032449  39             110           \n",
       "2329  666029285002620928  41             119           \n",
       "2330  666020888022790149  455            2369          \n",
       "\n",
       "[2331 rows x 3 columns]"
      ]
     },
     "execution_count": 9,
     "metadata": {},
     "output_type": "execute_result"
    }
   ],
   "source": [
    "# Display api_df dataset\n",
    "api_df"
   ]
  },
  {
   "cell_type": "markdown",
   "metadata": {},
   "source": [
    "##### 2. Programmatic Assessment"
   ]
  },
  {
   "cell_type": "code",
   "execution_count": 12,
   "metadata": {},
   "outputs": [
    {
     "data": {
      "text/plain": [
       "(2356, 17)"
      ]
     },
     "execution_count": 12,
     "metadata": {},
     "output_type": "execute_result"
    }
   ],
   "source": [
    "# Get Number of rows and columns in `twitter_archive_df` dataset\n",
    "twitter_archive_df.shape"
   ]
  },
  {
   "cell_type": "code",
   "execution_count": 13,
   "metadata": {},
   "outputs": [
    {
     "name": "stdout",
     "output_type": "stream",
     "text": [
      "<class 'pandas.core.frame.DataFrame'>\n",
      "RangeIndex: 2356 entries, 0 to 2355\n",
      "Data columns (total 17 columns):\n",
      " #   Column                      Non-Null Count  Dtype  \n",
      "---  ------                      --------------  -----  \n",
      " 0   tweet_id                    2356 non-null   int64  \n",
      " 1   in_reply_to_status_id       78 non-null     float64\n",
      " 2   in_reply_to_user_id         78 non-null     float64\n",
      " 3   timestamp                   2356 non-null   object \n",
      " 4   source                      2356 non-null   object \n",
      " 5   text                        2356 non-null   object \n",
      " 6   retweeted_status_id         181 non-null    float64\n",
      " 7   retweeted_status_user_id    181 non-null    float64\n",
      " 8   retweeted_status_timestamp  181 non-null    object \n",
      " 9   expanded_urls               2297 non-null   object \n",
      " 10  rating_numerator            2356 non-null   int64  \n",
      " 11  rating_denominator          2356 non-null   int64  \n",
      " 12  name                        2356 non-null   object \n",
      " 13  doggo                       2356 non-null   object \n",
      " 14  floofer                     2356 non-null   object \n",
      " 15  pupper                      2356 non-null   object \n",
      " 16  puppo                       2356 non-null   object \n",
      "dtypes: float64(4), int64(3), object(10)\n",
      "memory usage: 313.0+ KB\n"
     ]
    }
   ],
   "source": [
    "# Get info about `twitter_archive_df` dataset\n",
    "twitter_archive_df.info()"
   ]
  },
  {
   "cell_type": "code",
   "execution_count": 14,
   "metadata": {},
   "outputs": [
    {
     "data": {
      "text/html": [
       "<div>\n",
       "<style scoped>\n",
       "    .dataframe tbody tr th:only-of-type {\n",
       "        vertical-align: middle;\n",
       "    }\n",
       "\n",
       "    .dataframe tbody tr th {\n",
       "        vertical-align: top;\n",
       "    }\n",
       "\n",
       "    .dataframe thead th {\n",
       "        text-align: right;\n",
       "    }\n",
       "</style>\n",
       "<table border=\"1\" class=\"dataframe\">\n",
       "  <thead>\n",
       "    <tr style=\"text-align: right;\">\n",
       "      <th></th>\n",
       "      <th>tweet_id</th>\n",
       "      <th>in_reply_to_status_id</th>\n",
       "      <th>in_reply_to_user_id</th>\n",
       "      <th>timestamp</th>\n",
       "      <th>source</th>\n",
       "      <th>text</th>\n",
       "      <th>retweeted_status_id</th>\n",
       "      <th>retweeted_status_user_id</th>\n",
       "      <th>retweeted_status_timestamp</th>\n",
       "      <th>expanded_urls</th>\n",
       "      <th>rating_numerator</th>\n",
       "      <th>rating_denominator</th>\n",
       "      <th>name</th>\n",
       "      <th>doggo</th>\n",
       "      <th>floofer</th>\n",
       "      <th>pupper</th>\n",
       "      <th>puppo</th>\n",
       "    </tr>\n",
       "  </thead>\n",
       "  <tbody>\n",
       "    <tr>\n",
       "      <th>591</th>\n",
       "      <td>799063482566066176</td>\n",
       "      <td>NaN</td>\n",
       "      <td>NaN</td>\n",
       "      <td>2016-11-17 01:35:54 +0000</td>\n",
       "      <td>&lt;a href=\"http://twitter.com/download/iphone\" rel=\"nofollow\"&gt;Twitter for iPhone&lt;/a&gt;</td>\n",
       "      <td>This is Mister. He only wears the most fashionable af headwear. 11/10 h*ckin stylish https://t.co/BXJFKOVnJm</td>\n",
       "      <td>NaN</td>\n",
       "      <td>NaN</td>\n",
       "      <td>NaN</td>\n",
       "      <td>https://twitter.com/dog_rates/status/799063482566066176/photo/1,https://twitter.com/dog_rates/status/799063482566066176/photo/1,https://twitter.com/dog_rates/status/799063482566066176/photo/1,https://twitter.com/dog_rates/status/799063482566066176/photo/1</td>\n",
       "      <td>11</td>\n",
       "      <td>10</td>\n",
       "      <td>Mister</td>\n",
       "      <td>None</td>\n",
       "      <td>None</td>\n",
       "      <td>None</td>\n",
       "      <td>None</td>\n",
       "    </tr>\n",
       "    <tr>\n",
       "      <th>32</th>\n",
       "      <td>886054160059072513</td>\n",
       "      <td>NaN</td>\n",
       "      <td>NaN</td>\n",
       "      <td>2017-07-15 02:45:48 +0000</td>\n",
       "      <td>&lt;a href=\"http://twitter.com/download/iphone\" rel=\"nofollow\"&gt;Twitter for iPhone&lt;/a&gt;</td>\n",
       "      <td>RT @Athletics: 12/10 #BATP https://t.co/WxwJmvjfxo</td>\n",
       "      <td>8.860537e+17</td>\n",
       "      <td>1.960740e+07</td>\n",
       "      <td>2017-07-15 02:44:07 +0000</td>\n",
       "      <td>https://twitter.com/dog_rates/status/886053434075471873,https://twitter.com/dog_rates/status/886053434075471873</td>\n",
       "      <td>12</td>\n",
       "      <td>10</td>\n",
       "      <td>None</td>\n",
       "      <td>None</td>\n",
       "      <td>None</td>\n",
       "      <td>None</td>\n",
       "      <td>None</td>\n",
       "    </tr>\n",
       "    <tr>\n",
       "      <th>1465</th>\n",
       "      <td>694352839993344000</td>\n",
       "      <td>NaN</td>\n",
       "      <td>NaN</td>\n",
       "      <td>2016-02-02 02:53:12 +0000</td>\n",
       "      <td>&lt;a href=\"http://twitter.com/download/iphone\" rel=\"nofollow\"&gt;Twitter for iPhone&lt;/a&gt;</td>\n",
       "      <td>Meet Oliviér. He takes killer selfies. Has a dog of his own. It leaps at random &amp;amp; can't bark for shit. 10/10 &amp;amp; 5/10 https://t.co/6NgsQJuSBJ</td>\n",
       "      <td>NaN</td>\n",
       "      <td>NaN</td>\n",
       "      <td>NaN</td>\n",
       "      <td>https://twitter.com/dog_rates/status/694352839993344000/photo/1,https://twitter.com/dog_rates/status/694352839993344000/photo/1,https://twitter.com/dog_rates/status/694352839993344000/photo/1,https://twitter.com/dog_rates/status/694352839993344000/photo/1</td>\n",
       "      <td>10</td>\n",
       "      <td>10</td>\n",
       "      <td>Oliviér</td>\n",
       "      <td>None</td>\n",
       "      <td>None</td>\n",
       "      <td>None</td>\n",
       "      <td>None</td>\n",
       "    </tr>\n",
       "    <tr>\n",
       "      <th>273</th>\n",
       "      <td>840728873075638272</td>\n",
       "      <td>NaN</td>\n",
       "      <td>NaN</td>\n",
       "      <td>2017-03-12 00:59:17 +0000</td>\n",
       "      <td>&lt;a href=\"http://twitter.com/download/iphone\" rel=\"nofollow\"&gt;Twitter for iPhone&lt;/a&gt;</td>\n",
       "      <td>RT @dog_rates: This is Pipsy. He is a fluffball. Enjoys traveling the sea &amp;amp; getting tangled in leash. 12/10 I would kill for Pipsy https://…</td>\n",
       "      <td>6.671522e+17</td>\n",
       "      <td>4.196984e+09</td>\n",
       "      <td>2015-11-19 01:27:25 +0000</td>\n",
       "      <td>https://twitter.com/dog_rates/status/667152164079423490/photo/1</td>\n",
       "      <td>12</td>\n",
       "      <td>10</td>\n",
       "      <td>Pipsy</td>\n",
       "      <td>None</td>\n",
       "      <td>None</td>\n",
       "      <td>None</td>\n",
       "      <td>None</td>\n",
       "    </tr>\n",
       "    <tr>\n",
       "      <th>1617</th>\n",
       "      <td>685169283572338688</td>\n",
       "      <td>NaN</td>\n",
       "      <td>NaN</td>\n",
       "      <td>2016-01-07 18:41:01 +0000</td>\n",
       "      <td>&lt;a href=\"http://twitter.com/download/iphone\" rel=\"nofollow\"&gt;Twitter for iPhone&lt;/a&gt;</td>\n",
       "      <td>Meet Gerbald. He just found out he's adopted. Poor pupper. Snazzy tongue tho. 11/10 would hold close in time of need https://t.co/UfGkB9Wrud</td>\n",
       "      <td>NaN</td>\n",
       "      <td>NaN</td>\n",
       "      <td>NaN</td>\n",
       "      <td>https://twitter.com/dog_rates/status/685169283572338688/photo/1</td>\n",
       "      <td>11</td>\n",
       "      <td>10</td>\n",
       "      <td>Gerbald</td>\n",
       "      <td>None</td>\n",
       "      <td>None</td>\n",
       "      <td>pupper</td>\n",
       "      <td>None</td>\n",
       "    </tr>\n",
       "    <tr>\n",
       "      <th>2189</th>\n",
       "      <td>668967877119254528</td>\n",
       "      <td>6.689207e+17</td>\n",
       "      <td>21435658.0</td>\n",
       "      <td>2015-11-24 01:42:25 +0000</td>\n",
       "      <td>&lt;a href=\"http://twitter.com/download/iphone\" rel=\"nofollow\"&gt;Twitter for iPhone&lt;/a&gt;</td>\n",
       "      <td>12/10 good shit Bubka\\n@wane15</td>\n",
       "      <td>NaN</td>\n",
       "      <td>NaN</td>\n",
       "      <td>NaN</td>\n",
       "      <td>NaN</td>\n",
       "      <td>12</td>\n",
       "      <td>10</td>\n",
       "      <td>None</td>\n",
       "      <td>None</td>\n",
       "      <td>None</td>\n",
       "      <td>None</td>\n",
       "      <td>None</td>\n",
       "    </tr>\n",
       "    <tr>\n",
       "      <th>932</th>\n",
       "      <td>754011816964026368</td>\n",
       "      <td>NaN</td>\n",
       "      <td>NaN</td>\n",
       "      <td>2016-07-15 17:56:40 +0000</td>\n",
       "      <td>&lt;a href=\"http://twitter.com/download/iphone\" rel=\"nofollow\"&gt;Twitter for iPhone&lt;/a&gt;</td>\n",
       "      <td>This is Charlie. He pouts until he gets to go on the swing. 12/10 manipulative af https://t.co/ilwQqWFKCh</td>\n",
       "      <td>NaN</td>\n",
       "      <td>NaN</td>\n",
       "      <td>NaN</td>\n",
       "      <td>https://twitter.com/dog_rates/status/754011816964026368/photo/1,https://twitter.com/dog_rates/status/754011816964026368/photo/1</td>\n",
       "      <td>12</td>\n",
       "      <td>10</td>\n",
       "      <td>Charlie</td>\n",
       "      <td>None</td>\n",
       "      <td>None</td>\n",
       "      <td>None</td>\n",
       "      <td>None</td>\n",
       "    </tr>\n",
       "    <tr>\n",
       "      <th>309</th>\n",
       "      <td>835536468978302976</td>\n",
       "      <td>NaN</td>\n",
       "      <td>NaN</td>\n",
       "      <td>2017-02-25 17:06:32 +0000</td>\n",
       "      <td>&lt;a href=\"http://twitter.com/download/iphone\" rel=\"nofollow\"&gt;Twitter for iPhone&lt;/a&gt;</td>\n",
       "      <td>RT @dog_rates: Meet Lola. Her hobbies include being precious af and using her foot as a toothbrush. 12/10 Lola requests your help\\n\\nhttps://…</td>\n",
       "      <td>8.352641e+17</td>\n",
       "      <td>4.196984e+09</td>\n",
       "      <td>2017-02-24 23:04:14 +0000</td>\n",
       "      <td>https://www.gofundme.com/lolas-life-saving-surgery-funds,https://twitter.com/dog_rates/status/835264098648616962/photo/1,https://twitter.com/dog_rates/status/835264098648616962/photo/1</td>\n",
       "      <td>12</td>\n",
       "      <td>10</td>\n",
       "      <td>Lola</td>\n",
       "      <td>None</td>\n",
       "      <td>None</td>\n",
       "      <td>None</td>\n",
       "      <td>None</td>\n",
       "    </tr>\n",
       "    <tr>\n",
       "      <th>141</th>\n",
       "      <td>864873206498414592</td>\n",
       "      <td>NaN</td>\n",
       "      <td>NaN</td>\n",
       "      <td>2017-05-17 16:00:15 +0000</td>\n",
       "      <td>&lt;a href=\"http://twitter.com/download/iphone\" rel=\"nofollow\"&gt;Twitter for iPhone&lt;/a&gt;</td>\n",
       "      <td>We only rate dogs. Please don't send in Jesus. We're trying to remain professional and legitimate. Thank you... 14/10 https://t.co/wr3xsjeCIR</td>\n",
       "      <td>NaN</td>\n",
       "      <td>NaN</td>\n",
       "      <td>NaN</td>\n",
       "      <td>https://twitter.com/dog_rates/status/864873206498414592/photo/1,https://twitter.com/dog_rates/status/864873206498414592/photo/1</td>\n",
       "      <td>14</td>\n",
       "      <td>10</td>\n",
       "      <td>None</td>\n",
       "      <td>None</td>\n",
       "      <td>None</td>\n",
       "      <td>None</td>\n",
       "      <td>None</td>\n",
       "    </tr>\n",
       "    <tr>\n",
       "      <th>2107</th>\n",
       "      <td>670465786746662913</td>\n",
       "      <td>NaN</td>\n",
       "      <td>NaN</td>\n",
       "      <td>2015-11-28 04:54:34 +0000</td>\n",
       "      <td>&lt;a href=\"http://twitter.com/download/iphone\" rel=\"nofollow\"&gt;Twitter for iPhone&lt;/a&gt;</td>\n",
       "      <td>Silly dog here. Wearing bunny ears. Nice long tail. Unique paws. Not crazy soft but will do. Extremely agile. 7/10 https://t.co/2BnCLtJMxD</td>\n",
       "      <td>NaN</td>\n",
       "      <td>NaN</td>\n",
       "      <td>NaN</td>\n",
       "      <td>https://twitter.com/dog_rates/status/670465786746662913/photo/1</td>\n",
       "      <td>7</td>\n",
       "      <td>10</td>\n",
       "      <td>None</td>\n",
       "      <td>None</td>\n",
       "      <td>None</td>\n",
       "      <td>None</td>\n",
       "      <td>None</td>\n",
       "    </tr>\n",
       "  </tbody>\n",
       "</table>\n",
       "</div>"
      ],
      "text/plain": [
       "                tweet_id  in_reply_to_status_id  in_reply_to_user_id  \\\n",
       "591   799063482566066176 NaN                    NaN                    \n",
       "32    886054160059072513 NaN                    NaN                    \n",
       "1465  694352839993344000 NaN                    NaN                    \n",
       "273   840728873075638272 NaN                    NaN                    \n",
       "1617  685169283572338688 NaN                    NaN                    \n",
       "2189  668967877119254528  6.689207e+17           21435658.0            \n",
       "932   754011816964026368 NaN                    NaN                    \n",
       "309   835536468978302976 NaN                    NaN                    \n",
       "141   864873206498414592 NaN                    NaN                    \n",
       "2107  670465786746662913 NaN                    NaN                    \n",
       "\n",
       "                      timestamp  \\\n",
       "591   2016-11-17 01:35:54 +0000   \n",
       "32    2017-07-15 02:45:48 +0000   \n",
       "1465  2016-02-02 02:53:12 +0000   \n",
       "273   2017-03-12 00:59:17 +0000   \n",
       "1617  2016-01-07 18:41:01 +0000   \n",
       "2189  2015-11-24 01:42:25 +0000   \n",
       "932   2016-07-15 17:56:40 +0000   \n",
       "309   2017-02-25 17:06:32 +0000   \n",
       "141   2017-05-17 16:00:15 +0000   \n",
       "2107  2015-11-28 04:54:34 +0000   \n",
       "\n",
       "                                                                                  source  \\\n",
       "591   <a href=\"http://twitter.com/download/iphone\" rel=\"nofollow\">Twitter for iPhone</a>   \n",
       "32    <a href=\"http://twitter.com/download/iphone\" rel=\"nofollow\">Twitter for iPhone</a>   \n",
       "1465  <a href=\"http://twitter.com/download/iphone\" rel=\"nofollow\">Twitter for iPhone</a>   \n",
       "273   <a href=\"http://twitter.com/download/iphone\" rel=\"nofollow\">Twitter for iPhone</a>   \n",
       "1617  <a href=\"http://twitter.com/download/iphone\" rel=\"nofollow\">Twitter for iPhone</a>   \n",
       "2189  <a href=\"http://twitter.com/download/iphone\" rel=\"nofollow\">Twitter for iPhone</a>   \n",
       "932   <a href=\"http://twitter.com/download/iphone\" rel=\"nofollow\">Twitter for iPhone</a>   \n",
       "309   <a href=\"http://twitter.com/download/iphone\" rel=\"nofollow\">Twitter for iPhone</a>   \n",
       "141   <a href=\"http://twitter.com/download/iphone\" rel=\"nofollow\">Twitter for iPhone</a>   \n",
       "2107  <a href=\"http://twitter.com/download/iphone\" rel=\"nofollow\">Twitter for iPhone</a>   \n",
       "\n",
       "                                                                                                                                                     text  \\\n",
       "591   This is Mister. He only wears the most fashionable af headwear. 11/10 h*ckin stylish https://t.co/BXJFKOVnJm                                          \n",
       "32    RT @Athletics: 12/10 #BATP https://t.co/WxwJmvjfxo                                                                                                    \n",
       "1465  Meet Oliviér. He takes killer selfies. Has a dog of his own. It leaps at random &amp; can't bark for shit. 10/10 &amp; 5/10 https://t.co/6NgsQJuSBJ   \n",
       "273   RT @dog_rates: This is Pipsy. He is a fluffball. Enjoys traveling the sea &amp; getting tangled in leash. 12/10 I would kill for Pipsy https://…      \n",
       "1617  Meet Gerbald. He just found out he's adopted. Poor pupper. Snazzy tongue tho. 11/10 would hold close in time of need https://t.co/UfGkB9Wrud          \n",
       "2189  12/10 good shit Bubka\\n@wane15                                                                                                                        \n",
       "932   This is Charlie. He pouts until he gets to go on the swing. 12/10 manipulative af https://t.co/ilwQqWFKCh                                             \n",
       "309   RT @dog_rates: Meet Lola. Her hobbies include being precious af and using her foot as a toothbrush. 12/10 Lola requests your help\\n\\nhttps://…        \n",
       "141   We only rate dogs. Please don't send in Jesus. We're trying to remain professional and legitimate. Thank you... 14/10 https://t.co/wr3xsjeCIR         \n",
       "2107  Silly dog here. Wearing bunny ears. Nice long tail. Unique paws. Not crazy soft but will do. Extremely agile. 7/10 https://t.co/2BnCLtJMxD            \n",
       "\n",
       "      retweeted_status_id  retweeted_status_user_id  \\\n",
       "591  NaN                  NaN                         \n",
       "32    8.860537e+17         1.960740e+07               \n",
       "1465 NaN                  NaN                         \n",
       "273   6.671522e+17         4.196984e+09               \n",
       "1617 NaN                  NaN                         \n",
       "2189 NaN                  NaN                         \n",
       "932  NaN                  NaN                         \n",
       "309   8.352641e+17         4.196984e+09               \n",
       "141  NaN                  NaN                         \n",
       "2107 NaN                  NaN                         \n",
       "\n",
       "     retweeted_status_timestamp  \\\n",
       "591   NaN                         \n",
       "32    2017-07-15 02:44:07 +0000   \n",
       "1465  NaN                         \n",
       "273   2015-11-19 01:27:25 +0000   \n",
       "1617  NaN                         \n",
       "2189  NaN                         \n",
       "932   NaN                         \n",
       "309   2017-02-24 23:04:14 +0000   \n",
       "141   NaN                         \n",
       "2107  NaN                         \n",
       "\n",
       "                                                                                                                                                                                                                                                        expanded_urls  \\\n",
       "591   https://twitter.com/dog_rates/status/799063482566066176/photo/1,https://twitter.com/dog_rates/status/799063482566066176/photo/1,https://twitter.com/dog_rates/status/799063482566066176/photo/1,https://twitter.com/dog_rates/status/799063482566066176/photo/1   \n",
       "32    https://twitter.com/dog_rates/status/886053434075471873,https://twitter.com/dog_rates/status/886053434075471873                                                                                                                                                   \n",
       "1465  https://twitter.com/dog_rates/status/694352839993344000/photo/1,https://twitter.com/dog_rates/status/694352839993344000/photo/1,https://twitter.com/dog_rates/status/694352839993344000/photo/1,https://twitter.com/dog_rates/status/694352839993344000/photo/1   \n",
       "273   https://twitter.com/dog_rates/status/667152164079423490/photo/1                                                                                                                                                                                                   \n",
       "1617  https://twitter.com/dog_rates/status/685169283572338688/photo/1                                                                                                                                                                                                   \n",
       "2189  NaN                                                                                                                                                                                                                                                               \n",
       "932   https://twitter.com/dog_rates/status/754011816964026368/photo/1,https://twitter.com/dog_rates/status/754011816964026368/photo/1                                                                                                                                   \n",
       "309   https://www.gofundme.com/lolas-life-saving-surgery-funds,https://twitter.com/dog_rates/status/835264098648616962/photo/1,https://twitter.com/dog_rates/status/835264098648616962/photo/1                                                                          \n",
       "141   https://twitter.com/dog_rates/status/864873206498414592/photo/1,https://twitter.com/dog_rates/status/864873206498414592/photo/1                                                                                                                                   \n",
       "2107  https://twitter.com/dog_rates/status/670465786746662913/photo/1                                                                                                                                                                                                   \n",
       "\n",
       "      rating_numerator  rating_denominator     name doggo floofer  pupper  \\\n",
       "591   11                10                  Mister   None  None    None     \n",
       "32    12                10                  None     None  None    None     \n",
       "1465  10                10                  Oliviér  None  None    None     \n",
       "273   12                10                  Pipsy    None  None    None     \n",
       "1617  11                10                  Gerbald  None  None    pupper   \n",
       "2189  12                10                  None     None  None    None     \n",
       "932   12                10                  Charlie  None  None    None     \n",
       "309   12                10                  Lola     None  None    None     \n",
       "141   14                10                  None     None  None    None     \n",
       "2107  7                 10                  None     None  None    None     \n",
       "\n",
       "     puppo  \n",
       "591   None  \n",
       "32    None  \n",
       "1465  None  \n",
       "273   None  \n",
       "1617  None  \n",
       "2189  None  \n",
       "932   None  \n",
       "309   None  \n",
       "141   None  \n",
       "2107  None  "
      ]
     },
     "execution_count": 14,
     "metadata": {},
     "output_type": "execute_result"
    }
   ],
   "source": [
    "# Print the random 10 rows of the `twitter_archive_df` dataset\n",
    "twitter_archive_df.sample(10)"
   ]
  },
  {
   "cell_type": "code",
   "execution_count": 15,
   "metadata": {},
   "outputs": [
    {
     "data": {
      "text/html": [
       "<div>\n",
       "<style scoped>\n",
       "    .dataframe tbody tr th:only-of-type {\n",
       "        vertical-align: middle;\n",
       "    }\n",
       "\n",
       "    .dataframe tbody tr th {\n",
       "        vertical-align: top;\n",
       "    }\n",
       "\n",
       "    .dataframe thead th {\n",
       "        text-align: right;\n",
       "    }\n",
       "</style>\n",
       "<table border=\"1\" class=\"dataframe\">\n",
       "  <thead>\n",
       "    <tr style=\"text-align: right;\">\n",
       "      <th></th>\n",
       "      <th>tweet_id</th>\n",
       "      <th>in_reply_to_status_id</th>\n",
       "      <th>in_reply_to_user_id</th>\n",
       "      <th>timestamp</th>\n",
       "      <th>source</th>\n",
       "      <th>text</th>\n",
       "      <th>retweeted_status_id</th>\n",
       "      <th>retweeted_status_user_id</th>\n",
       "      <th>retweeted_status_timestamp</th>\n",
       "      <th>expanded_urls</th>\n",
       "      <th>rating_numerator</th>\n",
       "      <th>rating_denominator</th>\n",
       "      <th>name</th>\n",
       "      <th>doggo</th>\n",
       "      <th>floofer</th>\n",
       "      <th>pupper</th>\n",
       "      <th>puppo</th>\n",
       "    </tr>\n",
       "  </thead>\n",
       "  <tbody>\n",
       "    <tr>\n",
       "      <th>2351</th>\n",
       "      <td>666049248165822465</td>\n",
       "      <td>NaN</td>\n",
       "      <td>NaN</td>\n",
       "      <td>2015-11-16 00:24:50 +0000</td>\n",
       "      <td>&lt;a href=\"http://twitter.com/download/iphone\" rel=\"nofollow\"&gt;Twitter for iPhone&lt;/a&gt;</td>\n",
       "      <td>Here we have a 1949 1st generation vulpix. Enjoys sweat tea and Fox News. Cannot be phased. 5/10 https://t.co/4B7cOc1EDq</td>\n",
       "      <td>NaN</td>\n",
       "      <td>NaN</td>\n",
       "      <td>NaN</td>\n",
       "      <td>https://twitter.com/dog_rates/status/666049248165822465/photo/1</td>\n",
       "      <td>5</td>\n",
       "      <td>10</td>\n",
       "      <td>None</td>\n",
       "      <td>None</td>\n",
       "      <td>None</td>\n",
       "      <td>None</td>\n",
       "      <td>None</td>\n",
       "    </tr>\n",
       "    <tr>\n",
       "      <th>2352</th>\n",
       "      <td>666044226329800704</td>\n",
       "      <td>NaN</td>\n",
       "      <td>NaN</td>\n",
       "      <td>2015-11-16 00:04:52 +0000</td>\n",
       "      <td>&lt;a href=\"http://twitter.com/download/iphone\" rel=\"nofollow\"&gt;Twitter for iPhone&lt;/a&gt;</td>\n",
       "      <td>This is a purebred Piers Morgan. Loves to Netflix and chill. Always looks like he forgot to unplug the iron. 6/10 https://t.co/DWnyCjf2mx</td>\n",
       "      <td>NaN</td>\n",
       "      <td>NaN</td>\n",
       "      <td>NaN</td>\n",
       "      <td>https://twitter.com/dog_rates/status/666044226329800704/photo/1</td>\n",
       "      <td>6</td>\n",
       "      <td>10</td>\n",
       "      <td>a</td>\n",
       "      <td>None</td>\n",
       "      <td>None</td>\n",
       "      <td>None</td>\n",
       "      <td>None</td>\n",
       "    </tr>\n",
       "    <tr>\n",
       "      <th>2353</th>\n",
       "      <td>666033412701032449</td>\n",
       "      <td>NaN</td>\n",
       "      <td>NaN</td>\n",
       "      <td>2015-11-15 23:21:54 +0000</td>\n",
       "      <td>&lt;a href=\"http://twitter.com/download/iphone\" rel=\"nofollow\"&gt;Twitter for iPhone&lt;/a&gt;</td>\n",
       "      <td>Here is a very happy pup. Big fan of well-maintained decks. Just look at that tongue. 9/10 would cuddle af https://t.co/y671yMhoiR</td>\n",
       "      <td>NaN</td>\n",
       "      <td>NaN</td>\n",
       "      <td>NaN</td>\n",
       "      <td>https://twitter.com/dog_rates/status/666033412701032449/photo/1</td>\n",
       "      <td>9</td>\n",
       "      <td>10</td>\n",
       "      <td>a</td>\n",
       "      <td>None</td>\n",
       "      <td>None</td>\n",
       "      <td>None</td>\n",
       "      <td>None</td>\n",
       "    </tr>\n",
       "    <tr>\n",
       "      <th>2354</th>\n",
       "      <td>666029285002620928</td>\n",
       "      <td>NaN</td>\n",
       "      <td>NaN</td>\n",
       "      <td>2015-11-15 23:05:30 +0000</td>\n",
       "      <td>&lt;a href=\"http://twitter.com/download/iphone\" rel=\"nofollow\"&gt;Twitter for iPhone&lt;/a&gt;</td>\n",
       "      <td>This is a western brown Mitsubishi terrier. Upset about leaf. Actually 2 dogs here. 7/10 would walk the shit out of https://t.co/r7mOb2m0UI</td>\n",
       "      <td>NaN</td>\n",
       "      <td>NaN</td>\n",
       "      <td>NaN</td>\n",
       "      <td>https://twitter.com/dog_rates/status/666029285002620928/photo/1</td>\n",
       "      <td>7</td>\n",
       "      <td>10</td>\n",
       "      <td>a</td>\n",
       "      <td>None</td>\n",
       "      <td>None</td>\n",
       "      <td>None</td>\n",
       "      <td>None</td>\n",
       "    </tr>\n",
       "    <tr>\n",
       "      <th>2355</th>\n",
       "      <td>666020888022790149</td>\n",
       "      <td>NaN</td>\n",
       "      <td>NaN</td>\n",
       "      <td>2015-11-15 22:32:08 +0000</td>\n",
       "      <td>&lt;a href=\"http://twitter.com/download/iphone\" rel=\"nofollow\"&gt;Twitter for iPhone&lt;/a&gt;</td>\n",
       "      <td>Here we have a Japanese Irish Setter. Lost eye in Vietnam (?). Big fan of relaxing on stair. 8/10 would pet https://t.co/BLDqew2Ijj</td>\n",
       "      <td>NaN</td>\n",
       "      <td>NaN</td>\n",
       "      <td>NaN</td>\n",
       "      <td>https://twitter.com/dog_rates/status/666020888022790149/photo/1</td>\n",
       "      <td>8</td>\n",
       "      <td>10</td>\n",
       "      <td>None</td>\n",
       "      <td>None</td>\n",
       "      <td>None</td>\n",
       "      <td>None</td>\n",
       "      <td>None</td>\n",
       "    </tr>\n",
       "  </tbody>\n",
       "</table>\n",
       "</div>"
      ],
      "text/plain": [
       "                tweet_id  in_reply_to_status_id  in_reply_to_user_id  \\\n",
       "2351  666049248165822465 NaN                    NaN                    \n",
       "2352  666044226329800704 NaN                    NaN                    \n",
       "2353  666033412701032449 NaN                    NaN                    \n",
       "2354  666029285002620928 NaN                    NaN                    \n",
       "2355  666020888022790149 NaN                    NaN                    \n",
       "\n",
       "                      timestamp  \\\n",
       "2351  2015-11-16 00:24:50 +0000   \n",
       "2352  2015-11-16 00:04:52 +0000   \n",
       "2353  2015-11-15 23:21:54 +0000   \n",
       "2354  2015-11-15 23:05:30 +0000   \n",
       "2355  2015-11-15 22:32:08 +0000   \n",
       "\n",
       "                                                                                  source  \\\n",
       "2351  <a href=\"http://twitter.com/download/iphone\" rel=\"nofollow\">Twitter for iPhone</a>   \n",
       "2352  <a href=\"http://twitter.com/download/iphone\" rel=\"nofollow\">Twitter for iPhone</a>   \n",
       "2353  <a href=\"http://twitter.com/download/iphone\" rel=\"nofollow\">Twitter for iPhone</a>   \n",
       "2354  <a href=\"http://twitter.com/download/iphone\" rel=\"nofollow\">Twitter for iPhone</a>   \n",
       "2355  <a href=\"http://twitter.com/download/iphone\" rel=\"nofollow\">Twitter for iPhone</a>   \n",
       "\n",
       "                                                                                                                                             text  \\\n",
       "2351  Here we have a 1949 1st generation vulpix. Enjoys sweat tea and Fox News. Cannot be phased. 5/10 https://t.co/4B7cOc1EDq                      \n",
       "2352  This is a purebred Piers Morgan. Loves to Netflix and chill. Always looks like he forgot to unplug the iron. 6/10 https://t.co/DWnyCjf2mx     \n",
       "2353  Here is a very happy pup. Big fan of well-maintained decks. Just look at that tongue. 9/10 would cuddle af https://t.co/y671yMhoiR            \n",
       "2354  This is a western brown Mitsubishi terrier. Upset about leaf. Actually 2 dogs here. 7/10 would walk the shit out of https://t.co/r7mOb2m0UI   \n",
       "2355  Here we have a Japanese Irish Setter. Lost eye in Vietnam (?). Big fan of relaxing on stair. 8/10 would pet https://t.co/BLDqew2Ijj           \n",
       "\n",
       "      retweeted_status_id  retweeted_status_user_id  \\\n",
       "2351 NaN                  NaN                         \n",
       "2352 NaN                  NaN                         \n",
       "2353 NaN                  NaN                         \n",
       "2354 NaN                  NaN                         \n",
       "2355 NaN                  NaN                         \n",
       "\n",
       "     retweeted_status_timestamp  \\\n",
       "2351  NaN                         \n",
       "2352  NaN                         \n",
       "2353  NaN                         \n",
       "2354  NaN                         \n",
       "2355  NaN                         \n",
       "\n",
       "                                                        expanded_urls  \\\n",
       "2351  https://twitter.com/dog_rates/status/666049248165822465/photo/1   \n",
       "2352  https://twitter.com/dog_rates/status/666044226329800704/photo/1   \n",
       "2353  https://twitter.com/dog_rates/status/666033412701032449/photo/1   \n",
       "2354  https://twitter.com/dog_rates/status/666029285002620928/photo/1   \n",
       "2355  https://twitter.com/dog_rates/status/666020888022790149/photo/1   \n",
       "\n",
       "      rating_numerator  rating_denominator  name doggo floofer pupper puppo  \n",
       "2351  5                 10                  None  None  None    None   None  \n",
       "2352  6                 10                  a     None  None    None   None  \n",
       "2353  9                 10                  a     None  None    None   None  \n",
       "2354  7                 10                  a     None  None    None   None  \n",
       "2355  8                 10                  None  None  None    None   None  "
      ]
     },
     "execution_count": 15,
     "metadata": {},
     "output_type": "execute_result"
    }
   ],
   "source": [
    "# Print the last 5 rows of the `twitter_archive_df` dataset\n",
    "twitter_archive_df.tail()"
   ]
  },
  {
   "cell_type": "code",
   "execution_count": 16,
   "metadata": {},
   "outputs": [
    {
     "data": {
      "text/html": [
       "<div>\n",
       "<style scoped>\n",
       "    .dataframe tbody tr th:only-of-type {\n",
       "        vertical-align: middle;\n",
       "    }\n",
       "\n",
       "    .dataframe tbody tr th {\n",
       "        vertical-align: top;\n",
       "    }\n",
       "\n",
       "    .dataframe thead th {\n",
       "        text-align: right;\n",
       "    }\n",
       "</style>\n",
       "<table border=\"1\" class=\"dataframe\">\n",
       "  <thead>\n",
       "    <tr style=\"text-align: right;\">\n",
       "      <th></th>\n",
       "      <th>tweet_id</th>\n",
       "      <th>in_reply_to_status_id</th>\n",
       "      <th>in_reply_to_user_id</th>\n",
       "      <th>timestamp</th>\n",
       "      <th>source</th>\n",
       "      <th>text</th>\n",
       "      <th>retweeted_status_id</th>\n",
       "      <th>retweeted_status_user_id</th>\n",
       "      <th>retweeted_status_timestamp</th>\n",
       "      <th>expanded_urls</th>\n",
       "      <th>rating_numerator</th>\n",
       "      <th>rating_denominator</th>\n",
       "      <th>name</th>\n",
       "      <th>doggo</th>\n",
       "      <th>floofer</th>\n",
       "      <th>pupper</th>\n",
       "      <th>puppo</th>\n",
       "    </tr>\n",
       "  </thead>\n",
       "  <tbody>\n",
       "  </tbody>\n",
       "</table>\n",
       "</div>"
      ],
      "text/plain": [
       "Empty DataFrame\n",
       "Columns: [tweet_id, in_reply_to_status_id, in_reply_to_user_id, timestamp, source, text, retweeted_status_id, retweeted_status_user_id, retweeted_status_timestamp, expanded_urls, rating_numerator, rating_denominator, name, doggo, floofer, pupper, puppo]\n",
       "Index: []"
      ]
     },
     "execution_count": 16,
     "metadata": {},
     "output_type": "execute_result"
    }
   ],
   "source": [
    "# Get duplicated records\n",
    "twitter_archive_df[twitter_archive_df.duplicated()]"
   ]
  },
  {
   "cell_type": "code",
   "execution_count": 17,
   "metadata": {},
   "outputs": [
    {
     "data": {
      "text/plain": [
       "745"
      ]
     },
     "execution_count": 17,
     "metadata": {},
     "output_type": "execute_result"
    }
   ],
   "source": [
    "# Get number of records that have \"None\" value in `name` column\n",
    "twitter_archive_df[twitter_archive_df.name == 'None'].shape[0]"
   ]
  },
  {
   "cell_type": "code",
   "execution_count": 18,
   "metadata": {},
   "outputs": [
    {
     "data": {
      "text/plain": [
       "0"
      ]
     },
     "execution_count": 18,
     "metadata": {},
     "output_type": "execute_result"
    }
   ],
   "source": [
    "# Get total number of records that have \"null\" value in `name` column\n",
    "twitter_archive_df.name.isnull().sum()"
   ]
  },
  {
   "cell_type": "code",
   "execution_count": 19,
   "metadata": {
    "scrolled": true
   },
   "outputs": [
    {
     "data": {
      "text/plain": [
       "None       745\n",
       "a          55 \n",
       "Charlie    12 \n",
       "Cooper     11 \n",
       "Oliver     11 \n",
       "           .. \n",
       "Ambrose    1  \n",
       "Tripp      1  \n",
       "Tom        1  \n",
       "Flash      1  \n",
       "Bloop      1  \n",
       "Name: name, Length: 957, dtype: int64"
      ]
     },
     "execution_count": 19,
     "metadata": {},
     "output_type": "execute_result"
    }
   ],
   "source": [
    "# Get the name of dogs with count of each in 'name' column\n",
    "twitter_archive_df.name.value_counts()"
   ]
  },
  {
   "cell_type": "code",
   "execution_count": 20,
   "metadata": {
    "scrolled": false
   },
   "outputs": [
    {
     "data": {
      "text/plain": [
       "a     55\n",
       "Bo    9 \n",
       "an    7 \n",
       "by    1 \n",
       "Mo    1 \n",
       "JD    1 \n",
       "my    1 \n",
       "Al    1 \n",
       "Jo    1 \n",
       "Ed    1 \n",
       "O     1 \n",
       "Name: name, dtype: int64"
      ]
     },
     "execution_count": 20,
     "metadata": {},
     "output_type": "execute_result"
    }
   ],
   "source": [
    "# Get all name of dogs that have length is less than 3 character\n",
    "twitter_archive_df[twitter_archive_df.name.str.len() < 3].name.value_counts()"
   ]
  },
  {
   "cell_type": "code",
   "execution_count": 466,
   "metadata": {},
   "outputs": [
    {
     "data": {
      "text/plain": [
       "775    This is O'Malley. That is how he sleeps. Doesn't care what you think about it. 10/10 comfy af https://t.co/Pq150LeRaC\n",
       "Name: text, dtype: object"
      ]
     },
     "execution_count": 466,
     "metadata": {},
     "output_type": "execute_result"
    }
   ],
   "source": [
    "twitter_archive_df_clean[twitter_archive_df_clean.name == 'O'].text"
   ]
  },
  {
   "cell_type": "code",
   "execution_count": 467,
   "metadata": {},
   "outputs": [
    {
     "data": {
      "text/plain": [
       "820    Meet Al Cabone. He's a gangsta puppa. Rather h*ckin ruthless. Shows no mercy sometimes. 11/10 pet w extreme caution https://t.co/OUwWbEKOUV\n",
       "Name: text, dtype: object"
      ]
     },
     "execution_count": 467,
     "metadata": {},
     "output_type": "execute_result"
    }
   ],
   "source": [
    "twitter_archive_df_clean[twitter_archive_df_clean.name == 'Al'].text"
   ]
  },
  {
   "cell_type": "code",
   "execution_count": 28,
   "metadata": {},
   "outputs": [
    {
     "data": {
      "text/plain": [
       "a               55\n",
       "the             8 \n",
       "an              7 \n",
       "very            5 \n",
       "just            4 \n",
       "one             4 \n",
       "quite           4 \n",
       "not             2 \n",
       "mad             2 \n",
       "getting         2 \n",
       "actually        2 \n",
       "light           1 \n",
       "unacceptable    1 \n",
       "this            1 \n",
       "my              1 \n",
       "all             1 \n",
       "old             1 \n",
       "life            1 \n",
       "space           1 \n",
       "such            1 \n",
       "infuriating     1 \n",
       "by              1 \n",
       "his             1 \n",
       "incredibly      1 \n",
       "officially      1 \n",
       "Name: name, dtype: int64"
      ]
     },
     "execution_count": 28,
     "metadata": {},
     "output_type": "execute_result"
    }
   ],
   "source": [
    "# Get all name of dogs that start with lowercase letter\n",
    "twitter_archive_df[twitter_archive_df['name'].str[0].str.islower()].name.value_counts()"
   ]
  },
  {
   "cell_type": "code",
   "execution_count": 29,
   "metadata": {},
   "outputs": [
    {
     "name": "stdout",
     "output_type": "stream",
     "text": [
      "181\n",
      "78\n"
     ]
    }
   ],
   "source": [
    "# Get retweets and replies records\n",
    "retweet_entries = twitter_archive_df.retweeted_status_id.notnull()\n",
    "replies_entries = twitter_archive_df.in_reply_to_status_id.notnull()\n",
    "\n",
    "# Check the number of rows of retweets and replies\n",
    "print(twitter_archive_df[retweet_entries].shape[0])\n",
    "print(twitter_archive_df[replies_entries].shape[0])"
   ]
  },
  {
   "cell_type": "code",
   "execution_count": 30,
   "metadata": {},
   "outputs": [
    {
     "data": {
      "text/plain": [
       "59"
      ]
     },
     "execution_count": 30,
     "metadata": {},
     "output_type": "execute_result"
    }
   ],
   "source": [
    "# Get Number of rows that have \"null\" value in `expanded_urls' column\n",
    "twitter_archive_df[twitter_archive_df.expanded_urls.isnull()].shape[0]"
   ]
  },
  {
   "cell_type": "code",
   "execution_count": 31,
   "metadata": {
    "scrolled": true
   },
   "outputs": [
    {
     "data": {
      "text/plain": [
       "12      558\n",
       "11      464\n",
       "10      461\n",
       "13      351\n",
       "9       158\n",
       "8       102\n",
       "7       55 \n",
       "14      54 \n",
       "5       37 \n",
       "6       32 \n",
       "3       19 \n",
       "4       17 \n",
       "1       9  \n",
       "2       9  \n",
       "420     2  \n",
       "0       2  \n",
       "15      2  \n",
       "75      2  \n",
       "80      1  \n",
       "20      1  \n",
       "24      1  \n",
       "26      1  \n",
       "44      1  \n",
       "50      1  \n",
       "60      1  \n",
       "165     1  \n",
       "84      1  \n",
       "88      1  \n",
       "144     1  \n",
       "182     1  \n",
       "143     1  \n",
       "666     1  \n",
       "960     1  \n",
       "1776    1  \n",
       "17      1  \n",
       "27      1  \n",
       "45      1  \n",
       "99      1  \n",
       "121     1  \n",
       "204     1  \n",
       "Name: rating_numerator, dtype: int64"
      ]
     },
     "execution_count": 31,
     "metadata": {},
     "output_type": "execute_result"
    }
   ],
   "source": [
    "# Get numerator rating with count of each in 'rating_numerator' column\n",
    "twitter_archive_df.rating_numerator.value_counts()"
   ]
  },
  {
   "cell_type": "code",
   "execution_count": 32,
   "metadata": {
    "scrolled": true
   },
   "outputs": [
    {
     "data": {
      "text/plain": [
       "10     2333\n",
       "11     3   \n",
       "50     3   \n",
       "80     2   \n",
       "20     2   \n",
       "2      1   \n",
       "16     1   \n",
       "40     1   \n",
       "70     1   \n",
       "15     1   \n",
       "90     1   \n",
       "110    1   \n",
       "120    1   \n",
       "130    1   \n",
       "150    1   \n",
       "170    1   \n",
       "7      1   \n",
       "0      1   \n",
       "Name: rating_denominator, dtype: int64"
      ]
     },
     "execution_count": 32,
     "metadata": {},
     "output_type": "execute_result"
    }
   ],
   "source": [
    "# Get denominator rating with count of each in 'rating_denominator' column\n",
    "twitter_archive_df.rating_denominator.value_counts()"
   ]
  },
  {
   "cell_type": "code",
   "execution_count": 33,
   "metadata": {
    "scrolled": false
   },
   "outputs": [
    {
     "data": {
      "text/plain": [
       "315     When you're so blinded by your systematic plagiarism that you forget what day it is. 0/10 https://t.co/YbEJPkg4Ag                           \n",
       "605     RT @dog_rates: Not familiar with this breed. No tail (weird). Only 2 legs. Doesn't bark. Surprisingly quick. Shits eggs. 1/10 https://t.co/…\n",
       "765     This is Wesley. He's clearly trespassing. Seems rather h*ckin violent too. Weaponized forehead. 3/10 wouldn't let in https://t.co/pL7wbMRW7M\n",
       "883     This is Fido. He can tell the weather. Not good at fetch tho. Never comes when called. 4/10 would probably still pet https://t.co/4gOv2Q3iKP\n",
       "912     Here's another picture without a dog in it. Idk why you guys keep sending these. 4/10 just because that's a neat rug https://t.co/mOmnL19Wsl\n",
       "1004    Viewer discretion is advised. This is a terrible attack in progress. Not even in water (tragic af). 4/10 bad sherk https://t.co/L3U0j14N5R  \n",
       "1016    PUPDATE: can't see any. Even if I could, I couldn't reach them to pet. 0/10 much disappointment https://t.co/c7WXaB2nqX                     \n",
       "1165    Happy 4/20 from the squad! 13/10 for all https://t.co/eV1diwds8a                                                                            \n",
       "1189    This is Alexanderson. He's got a weird ass birth mark. Dreadful at fetch. Won't eat kibble. 3/10 wtf @Target https://t.co/FmxOpf2Sgl        \n",
       "1219    This is Benedict. He's a feisty pup. Needs a brushing. Portable af. Looks very angry actually. 4/10 might not pet https://t.co/3oeFfHjv0Z   \n",
       "1249    What hooligan sent in pictures w/out a dog in them? Churlish af. 3/10 just bc that's a neat fluffy bean bag chair https://t.co/wcwoGOkZvz   \n",
       "1303    This is Keurig. He's a rare dog. Laughs like an idiot tho. Head is basically a weapon. Poorly maintained goatee 4/10 https://t.co/xOrUyj7K30\n",
       "1314    This is Elliot. He's blocking the roadway. Downright rude as hell. Doesn't care that you're already late. 3/10 https://t.co/FMUxir5pYu      \n",
       "1406    This is Charl. He's a bully. Chucks that dumbbell around like its nothing. Sharp neck. Exceptionally unfluffy. 3/10 https://t.co/VfLoDZecJ7 \n",
       "1446    After reading the comments I may have overestimated this pup. Downgraded to a 1/10. Please forgive me                                       \n",
       "1459    This may be the greatest video I've ever been sent. 4/10 for Charles the puppy, 13/10 overall. (Vid by @stevenxx_) https://t.co/uaJmNgXR2P  \n",
       "1478    Meet Phil. He's big af. Currently destroying this nice family home. Completely uncalled for. 3/10 not a good pupper https://t.co/fShNNhBWYx \n",
       "1598    Yes I do realize a rating of 4/20 would've been fitting. However, it would be unjust to give these cooperative pups that low of a rating    \n",
       "1601    This is Hammond. He's a peculiar pup. Loves long walks. Bark barely audible. Too many legs. 3/10 must be rare https://t.co/NOIiRWr5Jf       \n",
       "1629    This is Bobby. He doesn't give a damn about personal space. Convinced he called shotgun first. 4/10 not the best dog https://t.co/b8XW69gSaU\n",
       "1692    This is Chuck. He's a neat dog. Very flexible. Trapped in a glass case of emotion. Devastatingly unfluffy 3/10 https://t.co/YqbU9xHV3p      \n",
       "1701    This is Alice. She's an idiot. 4/10 https://t.co/VQXdwJfkyS                                                                                 \n",
       "1761    Exotic pup here. Tail long af. Throat looks swollen. Might breathe fire. Exceptionally unfluffy 2/10 would still pet https://t.co/a8SqCaSo2r\n",
       "1764    This is Crystal. She's a shitty fireman. No sense of urgency. People could be dying Crystal. 2/10 just irresponsible https://t.co/rtMtjSl9pz\n",
       "1836    Extremely rare pup here. Very religious. Always praying. Too many legs. Not overwhelmingly fluffy. Won't bark. 3/10 https://t.co/REyE5YKVBb \n",
       "1869    What kind of person sends in a picture without a dog in it? 1/10 just because that's a nice table https://t.co/RDXCfk8hK0                   \n",
       "1898    Meet Patrick. He's an exotic pup. Jumps great distances for a dog. Always gets injured when I toss him a ball. 3/10 https://t.co/Unz1uNrOzo \n",
       "1920    This is Henry. He's a shit dog. Short pointy ears. Leaves trail of pee. Not fluffy. Doesn't come when called. 2/10 https://t.co/Pu9RhfHDEQ  \n",
       "1928    Herd of wild dogs here. Not sure what they're trying to do. No real goals in life. 3/10 find your purpose puppers https://t.co/t5ih0VrK02   \n",
       "1938    Guys I'm getting real tired of this. We only rate dogs. Please don't send in other things like this Bulbasaur. 3/10 https://t.co/t5rQHl6W8M \n",
       "1940    The millennials have spoken and we've decided to immediately demote to a 1/10. Thank you                                                    \n",
       "1941    This is a heavily opinionated dog. Loves walls. Nobody knows how the hair works. Always ready for a kiss. 4/10 https://t.co/dFiaKZ9cDl      \n",
       "1947    Large blue dog here. Cool shades. Flipping us off w both hands. Obviously a preteen. 3/10 for rude blue preteen pup https://t.co/mcPd5AFfhA \n",
       "2038    After 22 minutes of careful deliberation this dog is being demoted to a 1/10. The longer you look at him the more terrifying he becomes     \n",
       "2070    Two miniature golden retrievers here. Webbed paws. Don't walk very efficiently. Can't catch a tennis ball. 4/10s https://t.co/WzVLdSHJU7    \n",
       "2076    Pink dogs here. Unreasonably long necks. Left guy has only 1 leg. Quite nimble. Don't bark tho 4/10s would still pet https://t.co/QY5uvMmmQk\n",
       "2079    Scary dog here. Too many legs. Extra tail. Not soft, let alone fluffy. Won't bark. Moves sideways. Has weapon. 2/10 https://t.co/XOPXCSXiUT \n",
       "2091    Flamboyant pup here. Probably poisonous. Won't eat kibble. Doesn't bark. Slow af. Petting doesn't look fun. 1/10 https://t.co/jxukeh2BeO    \n",
       "2136    This is Tommy. He's a cool dog. Hard not to step on. Won't let go of seashell. Not fast by any means. 3/10 https://t.co/0gY6XTOpn3          \n",
       "2183    This is Bernie. He's taking his Halloween costume very seriously. Wants to be baked. 3/10 not a good idea Bernie smh https://t.co/1zBp1moFlX\n",
       "2186    Unique dog here. Oddly shaped tail. Long pink front legs. I don't think dogs breath underwater sos. 4/10 bad owner https://t.co/0EJXxE9UxW  \n",
       "2202    Fascinating dog here. Loves beach. Oddly long nose for dog. Massive ass paws. Hard to cuddle w. 3/10 would still pet https://t.co/IiSdmhkC5N\n",
       "2222    Here is a mother dog caring for her pups. Snazzy red mohawk. Doesn't wag tail. Pups look confused. Overall 4/10 https://t.co/YOHe6lf09m     \n",
       "2237    This lil pup is Oliver. Hops around. Has wings but doesn't fly (lame). Annoying chirp. Won't catch tennis balls 2/10 https://t.co/DnhUw0aBM2\n",
       "2239    This dog resembles a baked potato. Bed looks uncomfortable. No tail. Comes with butter tho. 3/10 petting still fun https://t.co/x89NSCEZCq  \n",
       "2246    This is Tedrick. He lives on the edge. Needs someone to hit the gas tho. Other than that he's a baller. 10&amp;2/10 https://t.co/LvP1TTYSCN \n",
       "2261    Never seen dog like this. Breathes heavy. Tilts head in a pattern. No bark. Shitty at fetch. Not even cordless. 1/10 https://t.co/i9iSGNn3fx\n",
       "2288    These are strange dogs. All have toupees. Long neck for dogs. In a shed of sorts? Work in groups? 4/10 still petable https://t.co/PZxSarAfSN\n",
       "2305    My goodness. Very rare dog here. Large. Tail dangerous. Kinda fat. Only eats leaves. Doesn't come when called 3/10 https://t.co/xYGdBrMS9h  \n",
       "2310    Unfamiliar with this breed. Ears pointy af. Won't let go of seashell. Won't eat kibble. Not very fast. Bad dog 2/10 https://t.co/EIn5kElY1S \n",
       "2316    Cool dog. Enjoys couch. Low monotone bark. Very nice kicks. Pisses milk (must be rare). Can't go down stairs. 4/10 https://t.co/vXMKrJC81s  \n",
       "2326    This is quite the dog. Gets really excited when not in water. Not very soft tho. Bad at fetch. Can't do tricks. 2/10 https://t.co/aMCTNWO94t\n",
       "2334    This is a funny dog. Weird toes. Won't come down. Loves branch. Refuses to eat his food. Hard to cuddle with. 3/10 https://t.co/IIXis0zta0  \n",
       "2335    This is an Albanian 3 1/2 legged  Episcopalian. Loves well-polished hardwood flooring. Penis on the collar. 9/10 https://t.co/d9NcXFKwLv    \n",
       "2338    Not familiar with this breed. No tail (weird). Only 2 legs. Doesn't bark. Surprisingly quick. Shits eggs. 1/10 https://t.co/Asgdc6kuLX      \n",
       "2349    This is an odd dog. Hard on the outside but loving on the inside. Petting still fun. Doesn't play catch well. 2/10 https://t.co/v5A4vzSDdc  \n",
       "Name: text, dtype: object"
      ]
     },
     "execution_count": 33,
     "metadata": {},
     "output_type": "execute_result"
    }
   ],
   "source": [
    "# Get text of records that have rating_numerator < 5\n",
    "twitter_archive_df[twitter_archive_df['rating_numerator'] < 5 ].text"
   ]
  },
  {
   "cell_type": "code",
   "execution_count": 35,
   "metadata": {
    "scrolled": true
   },
   "outputs": [
    {
     "data": {
      "text/plain": [
       "55      @roushfenway These are good dogs but 17/10 is an emotional impulse rating. More like 13/10s                                                                              \n",
       "188     @dhmontgomery We also gave snoop dogg a 420/10 but I think that predated your research                                                                                   \n",
       "189     @s8n You tried very hard to portray this good boy as not so good, but you have ultimately failed. His goodness shines through. 666/10                                    \n",
       "290     @markhoppus 182/10                                                                                                                                                       \n",
       "313     @jonnysun @Lin_Manuel ok jomny I know you're excited but 960/00 isn't a valid rating, 13/10 is tho                                                                       \n",
       "340     RT @dog_rates: This is Logan, the Chow who lived. He solemnly swears he's up to lots of good. H*ckin magical af 9.75/10 https://t.co/yBO5wu…                             \n",
       "433     The floofs have been released I repeat the floofs have been released. 84/70 https://t.co/NIYC820tmd                                                                      \n",
       "516     Meet Sam. She smiles 24/7 &amp; secretly aspires to be a reindeer. \\nKeep Sam smiling by clicking and sharing this link:\\nhttps://t.co/98tB8y7y7t https://t.co/LouL5vdvxx\n",
       "695     This is Logan, the Chow who lived. He solemnly swears he's up to lots of good. H*ckin magical af 9.75/10 https://t.co/yBO5wuqaPS                                         \n",
       "763     This is Sophie. She's a Jubilant Bush Pupper. Super h*ckin rare. Appears at random just to smile at the locals. 11.27/10 would smile back https://t.co/QFaUiIHxHq        \n",
       "902     Why does this never happen at my front door... 165/150 https://t.co/HmwrdfEfUE                                                                                           \n",
       "979     This is Atticus. He's quite simply America af. 1776/10 https://t.co/GRXwMxLBkh                                                                                           \n",
       "1120    Say hello to this unbelievably well behaved squad of doggos. 204/170 would try to pet all at once https://t.co/yGQI3He3xv                                                \n",
       "1202    This is Bluebert. He just saw that both #FinalFur match ups are split 50/50. Amazed af. 11/10 https://t.co/Kky1DPG4iq                                                    \n",
       "1228    Happy Saturday here's 9 puppers on a bench. 99/90 good work everybody https://t.co/mpvaVxKmc1                                                                            \n",
       "1254    Here's a brigade of puppers. All look very prepared for whatever happens next. 80/80 https://t.co/0eb7R1Om12                                                             \n",
       "1274    From left to right:\\nCletus, Jerome, Alejandro, Burp, &amp; Titson\\nNone know where camera is. 45/50 would hug all at once https://t.co/sedre1ivTK                       \n",
       "1351    Here is a whole flock of puppers.  60/50 I'll take the lot https://t.co/9dpcw6MdWa                                                                                       \n",
       "1433    Happy Wednesday here's a bucket of pups. 44/40 would pet all at once https://t.co/HppvrYuamZ                                                                             \n",
       "1634    Two sneaky puppers were not initially seen, moving the rating to 143/130. Please forgive us. Thank you https://t.co/kRK51Y5ac3                                           \n",
       "1635    Someone help the girl is being mugged. Several are distracting her while two steal her shoes. Clever puppers 121/110 https://t.co/1zfnTJLt55                             \n",
       "1663    I'm aware that I could've said 20/16, but here at WeRateDogs we are very professional. An inconsistent rating scale is simply irresponsible                              \n",
       "1712    Here we have uncovered an entire battalion of holiday puppers. Average of 11.26/10 https://t.co/eNm2S6p9BD                                                               \n",
       "1779    IT'S PUPPERGEDDON. Total of 144/120 ...I think https://t.co/ZanVtAtvIq                                                                                                   \n",
       "1843    Here we have an entire platoon of puppers. Total score: 88/80 would pet all at once https://t.co/y93p6FLvVw                                                              \n",
       "2074    After so many requests... here you go.\\n\\nGood dogg. 420/10 https://t.co/yfAAo1gdeY                                                                                      \n",
       "Name: text, dtype: object"
      ]
     },
     "execution_count": 35,
     "metadata": {},
     "output_type": "execute_result"
    }
   ],
   "source": [
    "# Get text of records that have rating_numerator > 15\n",
    "twitter_archive_df[twitter_archive_df['rating_numerator'] > 15 ].text"
   ]
  },
  {
   "cell_type": "code",
   "execution_count": 405,
   "metadata": {
    "scrolled": true
   },
   "outputs": [
    {
     "data": {
      "text/html": [
       "<div>\n",
       "<style scoped>\n",
       "    .dataframe tbody tr th:only-of-type {\n",
       "        vertical-align: middle;\n",
       "    }\n",
       "\n",
       "    .dataframe tbody tr th {\n",
       "        vertical-align: top;\n",
       "    }\n",
       "\n",
       "    .dataframe thead th {\n",
       "        text-align: right;\n",
       "    }\n",
       "</style>\n",
       "<table border=\"1\" class=\"dataframe\">\n",
       "  <thead>\n",
       "    <tr style=\"text-align: right;\">\n",
       "      <th></th>\n",
       "      <th>tweet_id</th>\n",
       "      <th>in_reply_to_status_id</th>\n",
       "      <th>in_reply_to_user_id</th>\n",
       "      <th>timestamp</th>\n",
       "      <th>source</th>\n",
       "      <th>text</th>\n",
       "      <th>retweeted_status_id</th>\n",
       "      <th>retweeted_status_user_id</th>\n",
       "      <th>retweeted_status_timestamp</th>\n",
       "      <th>expanded_urls</th>\n",
       "      <th>rating_numerator</th>\n",
       "      <th>rating_denominator</th>\n",
       "      <th>name</th>\n",
       "      <th>doggo</th>\n",
       "      <th>floofer</th>\n",
       "      <th>pupper</th>\n",
       "      <th>puppo</th>\n",
       "    </tr>\n",
       "  </thead>\n",
       "  <tbody>\n",
       "    <tr>\n",
       "      <th>45</th>\n",
       "      <td>883482846933004288</td>\n",
       "      <td>NaN</td>\n",
       "      <td>NaN</td>\n",
       "      <td>2017-07-08 00:28:19 +0000</td>\n",
       "      <td>&lt;a href=\"http://twitter.com/download/iphone\" rel=\"nofollow\"&gt;Twitter for iPhone&lt;/a&gt;</td>\n",
       "      <td>This is Bella. She hopes her smile made you smile. If not, she is also offering you her favorite monkey. 13.5/10 https://t.co/qjrljjt948</td>\n",
       "      <td>NaN</td>\n",
       "      <td>NaN</td>\n",
       "      <td>NaN</td>\n",
       "      <td>https://twitter.com/dog_rates/status/883482846933004288/photo/1,https://twitter.com/dog_rates/status/883482846933004288/photo/1</td>\n",
       "      <td>5</td>\n",
       "      <td>10</td>\n",
       "      <td>Bella</td>\n",
       "      <td>None</td>\n",
       "      <td>None</td>\n",
       "      <td>None</td>\n",
       "      <td>None</td>\n",
       "    </tr>\n",
       "    <tr>\n",
       "      <th>340</th>\n",
       "      <td>832215909146226688</td>\n",
       "      <td>NaN</td>\n",
       "      <td>NaN</td>\n",
       "      <td>2017-02-16 13:11:49 +0000</td>\n",
       "      <td>&lt;a href=\"http://twitter.com/download/iphone\" rel=\"nofollow\"&gt;Twitter for iPhone&lt;/a&gt;</td>\n",
       "      <td>RT @dog_rates: This is Logan, the Chow who lived. He solemnly swears he's up to lots of good. H*ckin magical af 9.75/10 https://t.co/yBO5wu…</td>\n",
       "      <td>7.867091e+17</td>\n",
       "      <td>4.196984e+09</td>\n",
       "      <td>2016-10-13 23:23:56 +0000</td>\n",
       "      <td>https://twitter.com/dog_rates/status/786709082849828864/photo/1</td>\n",
       "      <td>75</td>\n",
       "      <td>10</td>\n",
       "      <td>Logan</td>\n",
       "      <td>None</td>\n",
       "      <td>None</td>\n",
       "      <td>None</td>\n",
       "      <td>None</td>\n",
       "    </tr>\n",
       "    <tr>\n",
       "      <th>695</th>\n",
       "      <td>786709082849828864</td>\n",
       "      <td>NaN</td>\n",
       "      <td>NaN</td>\n",
       "      <td>2016-10-13 23:23:56 +0000</td>\n",
       "      <td>&lt;a href=\"http://twitter.com/download/iphone\" rel=\"nofollow\"&gt;Twitter for iPhone&lt;/a&gt;</td>\n",
       "      <td>This is Logan, the Chow who lived. He solemnly swears he's up to lots of good. H*ckin magical af 9.75/10 https://t.co/yBO5wuqaPS</td>\n",
       "      <td>NaN</td>\n",
       "      <td>NaN</td>\n",
       "      <td>NaN</td>\n",
       "      <td>https://twitter.com/dog_rates/status/786709082849828864/photo/1</td>\n",
       "      <td>75</td>\n",
       "      <td>10</td>\n",
       "      <td>Logan</td>\n",
       "      <td>None</td>\n",
       "      <td>None</td>\n",
       "      <td>None</td>\n",
       "      <td>None</td>\n",
       "    </tr>\n",
       "    <tr>\n",
       "      <th>763</th>\n",
       "      <td>778027034220126208</td>\n",
       "      <td>NaN</td>\n",
       "      <td>NaN</td>\n",
       "      <td>2016-09-20 00:24:34 +0000</td>\n",
       "      <td>&lt;a href=\"http://twitter.com/download/iphone\" rel=\"nofollow\"&gt;Twitter for iPhone&lt;/a&gt;</td>\n",
       "      <td>This is Sophie. She's a Jubilant Bush Pupper. Super h*ckin rare. Appears at random just to smile at the locals. 11.27/10 would smile back https://t.co/QFaUiIHxHq</td>\n",
       "      <td>NaN</td>\n",
       "      <td>NaN</td>\n",
       "      <td>NaN</td>\n",
       "      <td>https://twitter.com/dog_rates/status/778027034220126208/photo/1</td>\n",
       "      <td>27</td>\n",
       "      <td>10</td>\n",
       "      <td>Sophie</td>\n",
       "      <td>None</td>\n",
       "      <td>None</td>\n",
       "      <td>pupper</td>\n",
       "      <td>None</td>\n",
       "    </tr>\n",
       "    <tr>\n",
       "      <th>1689</th>\n",
       "      <td>681340665377193984</td>\n",
       "      <td>6.813394e+17</td>\n",
       "      <td>4.196984e+09</td>\n",
       "      <td>2015-12-28 05:07:27 +0000</td>\n",
       "      <td>&lt;a href=\"http://twitter.com/download/iphone\" rel=\"nofollow\"&gt;Twitter for iPhone&lt;/a&gt;</td>\n",
       "      <td>I've been told there's a slight possibility he's checking his mirror. We'll bump to 9.5/10. Still a menace</td>\n",
       "      <td>NaN</td>\n",
       "      <td>NaN</td>\n",
       "      <td>NaN</td>\n",
       "      <td>NaN</td>\n",
       "      <td>5</td>\n",
       "      <td>10</td>\n",
       "      <td>None</td>\n",
       "      <td>None</td>\n",
       "      <td>None</td>\n",
       "      <td>None</td>\n",
       "      <td>None</td>\n",
       "    </tr>\n",
       "    <tr>\n",
       "      <th>1712</th>\n",
       "      <td>680494726643068929</td>\n",
       "      <td>NaN</td>\n",
       "      <td>NaN</td>\n",
       "      <td>2015-12-25 21:06:00 +0000</td>\n",
       "      <td>&lt;a href=\"http://twitter.com/download/iphone\" rel=\"nofollow\"&gt;Twitter for iPhone&lt;/a&gt;</td>\n",
       "      <td>Here we have uncovered an entire battalion of holiday puppers. Average of 11.26/10 https://t.co/eNm2S6p9BD</td>\n",
       "      <td>NaN</td>\n",
       "      <td>NaN</td>\n",
       "      <td>NaN</td>\n",
       "      <td>https://twitter.com/dog_rates/status/680494726643068929/photo/1</td>\n",
       "      <td>26</td>\n",
       "      <td>10</td>\n",
       "      <td>None</td>\n",
       "      <td>None</td>\n",
       "      <td>None</td>\n",
       "      <td>None</td>\n",
       "      <td>None</td>\n",
       "    </tr>\n",
       "  </tbody>\n",
       "</table>\n",
       "</div>"
      ],
      "text/plain": [
       "                tweet_id  in_reply_to_status_id  in_reply_to_user_id  \\\n",
       "45    883482846933004288 NaN                    NaN                    \n",
       "340   832215909146226688 NaN                    NaN                    \n",
       "695   786709082849828864 NaN                    NaN                    \n",
       "763   778027034220126208 NaN                    NaN                    \n",
       "1689  681340665377193984  6.813394e+17           4.196984e+09          \n",
       "1712  680494726643068929 NaN                    NaN                    \n",
       "\n",
       "                      timestamp  \\\n",
       "45    2017-07-08 00:28:19 +0000   \n",
       "340   2017-02-16 13:11:49 +0000   \n",
       "695   2016-10-13 23:23:56 +0000   \n",
       "763   2016-09-20 00:24:34 +0000   \n",
       "1689  2015-12-28 05:07:27 +0000   \n",
       "1712  2015-12-25 21:06:00 +0000   \n",
       "\n",
       "                                                                                  source  \\\n",
       "45    <a href=\"http://twitter.com/download/iphone\" rel=\"nofollow\">Twitter for iPhone</a>   \n",
       "340   <a href=\"http://twitter.com/download/iphone\" rel=\"nofollow\">Twitter for iPhone</a>   \n",
       "695   <a href=\"http://twitter.com/download/iphone\" rel=\"nofollow\">Twitter for iPhone</a>   \n",
       "763   <a href=\"http://twitter.com/download/iphone\" rel=\"nofollow\">Twitter for iPhone</a>   \n",
       "1689  <a href=\"http://twitter.com/download/iphone\" rel=\"nofollow\">Twitter for iPhone</a>   \n",
       "1712  <a href=\"http://twitter.com/download/iphone\" rel=\"nofollow\">Twitter for iPhone</a>   \n",
       "\n",
       "                                                                                                                                                                   text  \\\n",
       "45    This is Bella. She hopes her smile made you smile. If not, she is also offering you her favorite monkey. 13.5/10 https://t.co/qjrljjt948                            \n",
       "340   RT @dog_rates: This is Logan, the Chow who lived. He solemnly swears he's up to lots of good. H*ckin magical af 9.75/10 https://t.co/yBO5wu…                        \n",
       "695   This is Logan, the Chow who lived. He solemnly swears he's up to lots of good. H*ckin magical af 9.75/10 https://t.co/yBO5wuqaPS                                    \n",
       "763   This is Sophie. She's a Jubilant Bush Pupper. Super h*ckin rare. Appears at random just to smile at the locals. 11.27/10 would smile back https://t.co/QFaUiIHxHq   \n",
       "1689  I've been told there's a slight possibility he's checking his mirror. We'll bump to 9.5/10. Still a menace                                                          \n",
       "1712  Here we have uncovered an entire battalion of holiday puppers. Average of 11.26/10 https://t.co/eNm2S6p9BD                                                          \n",
       "\n",
       "      retweeted_status_id  retweeted_status_user_id  \\\n",
       "45   NaN                  NaN                         \n",
       "340   7.867091e+17         4.196984e+09               \n",
       "695  NaN                  NaN                         \n",
       "763  NaN                  NaN                         \n",
       "1689 NaN                  NaN                         \n",
       "1712 NaN                  NaN                         \n",
       "\n",
       "     retweeted_status_timestamp  \\\n",
       "45    NaN                         \n",
       "340   2016-10-13 23:23:56 +0000   \n",
       "695   NaN                         \n",
       "763   NaN                         \n",
       "1689  NaN                         \n",
       "1712  NaN                         \n",
       "\n",
       "                                                                                                                        expanded_urls  \\\n",
       "45    https://twitter.com/dog_rates/status/883482846933004288/photo/1,https://twitter.com/dog_rates/status/883482846933004288/photo/1   \n",
       "340   https://twitter.com/dog_rates/status/786709082849828864/photo/1                                                                   \n",
       "695   https://twitter.com/dog_rates/status/786709082849828864/photo/1                                                                   \n",
       "763   https://twitter.com/dog_rates/status/778027034220126208/photo/1                                                                   \n",
       "1689  NaN                                                                                                                               \n",
       "1712  https://twitter.com/dog_rates/status/680494726643068929/photo/1                                                                   \n",
       "\n",
       "      rating_numerator  rating_denominator    name doggo floofer  pupper puppo  \n",
       "45    5                 10                  Bella   None  None    None    None  \n",
       "340   75                10                  Logan   None  None    None    None  \n",
       "695   75                10                  Logan   None  None    None    None  \n",
       "763   27                10                  Sophie  None  None    pupper  None  \n",
       "1689  5                 10                  None    None  None    None    None  \n",
       "1712  26                10                  None    None  None    None    None  "
      ]
     },
     "execution_count": 405,
     "metadata": {},
     "output_type": "execute_result"
    }
   ],
   "source": [
    "# Get all tweets with fraction numerators\n",
    "twitter_archive_df[twitter_archive_df.text.str.contains( r'(\\d+\\.\\d?\\d?)\\/(\\d{1,3})')]"
   ]
  },
  {
   "cell_type": "code",
   "execution_count": 34,
   "metadata": {},
   "outputs": [
    {
     "data": {
      "text/plain": [
       "342     @docmisterio account started on 11/15/15                                                                                                          \n",
       "433     The floofs have been released I repeat the floofs have been released. 84/70 https://t.co/NIYC820tmd                                               \n",
       "784     RT @dog_rates: After so many requests, this is Bretagne. She was the last surviving 9/11 search dog, and our second ever 14/10. RIP https:/…      \n",
       "902     Why does this never happen at my front door... 165/150 https://t.co/HmwrdfEfUE                                                                    \n",
       "1068    After so many requests, this is Bretagne. She was the last surviving 9/11 search dog, and our second ever 14/10. RIP https://t.co/XAVDNDaVgQ      \n",
       "1120    Say hello to this unbelievably well behaved squad of doggos. 204/170 would try to pet all at once https://t.co/yGQI3He3xv                         \n",
       "1165    Happy 4/20 from the squad! 13/10 for all https://t.co/eV1diwds8a                                                                                  \n",
       "1202    This is Bluebert. He just saw that both #FinalFur match ups are split 50/50. Amazed af. 11/10 https://t.co/Kky1DPG4iq                             \n",
       "1228    Happy Saturday here's 9 puppers on a bench. 99/90 good work everybody https://t.co/mpvaVxKmc1                                                     \n",
       "1254    Here's a brigade of puppers. All look very prepared for whatever happens next. 80/80 https://t.co/0eb7R1Om12                                      \n",
       "1274    From left to right:\\nCletus, Jerome, Alejandro, Burp, &amp; Titson\\nNone know where camera is. 45/50 would hug all at once https://t.co/sedre1ivTK\n",
       "1351    Here is a whole flock of puppers.  60/50 I'll take the lot https://t.co/9dpcw6MdWa                                                                \n",
       "1433    Happy Wednesday here's a bucket of pups. 44/40 would pet all at once https://t.co/HppvrYuamZ                                                      \n",
       "1598    Yes I do realize a rating of 4/20 would've been fitting. However, it would be unjust to give these cooperative pups that low of a rating          \n",
       "1634    Two sneaky puppers were not initially seen, moving the rating to 143/130. Please forgive us. Thank you https://t.co/kRK51Y5ac3                    \n",
       "1635    Someone help the girl is being mugged. Several are distracting her while two steal her shoes. Clever puppers 121/110 https://t.co/1zfnTJLt55      \n",
       "1662    This is Darrel. He just robbed a 7/11 and is in a high speed police chase. Was just spotted by the helicopter 10/10 https://t.co/7EsP8LmSp5       \n",
       "1663    I'm aware that I could've said 20/16, but here at WeRateDogs we are very professional. An inconsistent rating scale is simply irresponsible       \n",
       "1779    IT'S PUPPERGEDDON. Total of 144/120 ...I think https://t.co/ZanVtAtvIq                                                                            \n",
       "1843    Here we have an entire platoon of puppers. Total score: 88/80 would pet all at once https://t.co/y93p6FLvVw                                       \n",
       "Name: text, dtype: object"
      ]
     },
     "execution_count": 34,
     "metadata": {},
     "output_type": "execute_result"
    }
   ],
   "source": [
    "# Get text of records that have rating_denominator > 10\n",
    "twitter_archive_df[twitter_archive_df['rating_denominator'] > 10 ].text"
   ]
  },
  {
   "cell_type": "code",
   "execution_count": 39,
   "metadata": {},
   "outputs": [
    {
     "data": {
      "text/plain": [
       "(2331, 3)"
      ]
     },
     "execution_count": 39,
     "metadata": {},
     "output_type": "execute_result"
    }
   ],
   "source": [
    "# Get number of rows and columns in `api_df` dataset\n",
    "api_df.shape"
   ]
  },
  {
   "cell_type": "code",
   "execution_count": 41,
   "metadata": {},
   "outputs": [
    {
     "name": "stdout",
     "output_type": "stream",
     "text": [
      "<class 'pandas.core.frame.DataFrame'>\n",
      "RangeIndex: 2331 entries, 0 to 2330\n",
      "Data columns (total 3 columns):\n",
      " #   Column          Non-Null Count  Dtype\n",
      "---  ------          --------------  -----\n",
      " 0   tweet_id        2331 non-null   int64\n",
      " 1   retweet_count   2331 non-null   int64\n",
      " 2   favorite_count  2331 non-null   int64\n",
      "dtypes: int64(3)\n",
      "memory usage: 54.8 KB\n"
     ]
    }
   ],
   "source": [
    "# Get info about `api_df` dataset\n",
    "api_df.info()"
   ]
  },
  {
   "cell_type": "code",
   "execution_count": 42,
   "metadata": {
    "scrolled": true
   },
   "outputs": [
    {
     "data": {
      "text/html": [
       "<div>\n",
       "<style scoped>\n",
       "    .dataframe tbody tr th:only-of-type {\n",
       "        vertical-align: middle;\n",
       "    }\n",
       "\n",
       "    .dataframe tbody tr th {\n",
       "        vertical-align: top;\n",
       "    }\n",
       "\n",
       "    .dataframe thead th {\n",
       "        text-align: right;\n",
       "    }\n",
       "</style>\n",
       "<table border=\"1\" class=\"dataframe\">\n",
       "  <thead>\n",
       "    <tr style=\"text-align: right;\">\n",
       "      <th></th>\n",
       "      <th>tweet_id</th>\n",
       "      <th>retweet_count</th>\n",
       "      <th>favorite_count</th>\n",
       "    </tr>\n",
       "  </thead>\n",
       "  <tbody>\n",
       "    <tr>\n",
       "      <th>0</th>\n",
       "      <td>892420643555336193</td>\n",
       "      <td>7542</td>\n",
       "      <td>35563</td>\n",
       "    </tr>\n",
       "    <tr>\n",
       "      <th>1</th>\n",
       "      <td>892177421306343426</td>\n",
       "      <td>5591</td>\n",
       "      <td>30756</td>\n",
       "    </tr>\n",
       "    <tr>\n",
       "      <th>2</th>\n",
       "      <td>891815181378084864</td>\n",
       "      <td>3705</td>\n",
       "      <td>23126</td>\n",
       "    </tr>\n",
       "    <tr>\n",
       "      <th>3</th>\n",
       "      <td>891689557279858688</td>\n",
       "      <td>7723</td>\n",
       "      <td>38878</td>\n",
       "    </tr>\n",
       "    <tr>\n",
       "      <th>4</th>\n",
       "      <td>891327558926688256</td>\n",
       "      <td>8322</td>\n",
       "      <td>37136</td>\n",
       "    </tr>\n",
       "  </tbody>\n",
       "</table>\n",
       "</div>"
      ],
      "text/plain": [
       "             tweet_id  retweet_count  favorite_count\n",
       "0  892420643555336193  7542           35563         \n",
       "1  892177421306343426  5591           30756         \n",
       "2  891815181378084864  3705           23126         \n",
       "3  891689557279858688  7723           38878         \n",
       "4  891327558926688256  8322           37136         "
      ]
     },
     "execution_count": 42,
     "metadata": {},
     "output_type": "execute_result"
    }
   ],
   "source": [
    "# Get the first 5 rows from `api_df` dataset\n",
    "api_df.head()"
   ]
  },
  {
   "cell_type": "code",
   "execution_count": 4,
   "metadata": {},
   "outputs": [
    {
     "data": {
      "text/plain": [
       "(2075, 12)"
      ]
     },
     "execution_count": 4,
     "metadata": {},
     "output_type": "execute_result"
    }
   ],
   "source": [
    "# Get the number of rows and columns in `image_predictions_df` dataset\n",
    "image_predictions_df.shape"
   ]
  },
  {
   "cell_type": "code",
   "execution_count": 5,
   "metadata": {},
   "outputs": [
    {
     "name": "stdout",
     "output_type": "stream",
     "text": [
      "<class 'pandas.core.frame.DataFrame'>\n",
      "RangeIndex: 2075 entries, 0 to 2074\n",
      "Data columns (total 12 columns):\n",
      " #   Column    Non-Null Count  Dtype  \n",
      "---  ------    --------------  -----  \n",
      " 0   tweet_id  2075 non-null   int64  \n",
      " 1   jpg_url   2075 non-null   object \n",
      " 2   img_num   2075 non-null   int64  \n",
      " 3   p1        2075 non-null   object \n",
      " 4   p1_conf   2075 non-null   float64\n",
      " 5   p1_dog    2075 non-null   bool   \n",
      " 6   p2        2075 non-null   object \n",
      " 7   p2_conf   2075 non-null   float64\n",
      " 8   p2_dog    2075 non-null   bool   \n",
      " 9   p3        2075 non-null   object \n",
      " 10  p3_conf   2075 non-null   float64\n",
      " 11  p3_dog    2075 non-null   bool   \n",
      "dtypes: bool(3), float64(3), int64(2), object(4)\n",
      "memory usage: 152.1+ KB\n"
     ]
    }
   ],
   "source": [
    "# Get info about `image_predictions_df' dataset\n",
    "image_predictions_df.info()"
   ]
  },
  {
   "cell_type": "code",
   "execution_count": 6,
   "metadata": {},
   "outputs": [
    {
     "data": {
      "text/html": [
       "<div>\n",
       "<style scoped>\n",
       "    .dataframe tbody tr th:only-of-type {\n",
       "        vertical-align: middle;\n",
       "    }\n",
       "\n",
       "    .dataframe tbody tr th {\n",
       "        vertical-align: top;\n",
       "    }\n",
       "\n",
       "    .dataframe thead th {\n",
       "        text-align: right;\n",
       "    }\n",
       "</style>\n",
       "<table border=\"1\" class=\"dataframe\">\n",
       "  <thead>\n",
       "    <tr style=\"text-align: right;\">\n",
       "      <th></th>\n",
       "      <th>tweet_id</th>\n",
       "      <th>jpg_url</th>\n",
       "      <th>img_num</th>\n",
       "      <th>p1</th>\n",
       "      <th>p1_conf</th>\n",
       "      <th>p1_dog</th>\n",
       "      <th>p2</th>\n",
       "      <th>p2_conf</th>\n",
       "      <th>p2_dog</th>\n",
       "      <th>p3</th>\n",
       "      <th>p3_conf</th>\n",
       "      <th>p3_dog</th>\n",
       "    </tr>\n",
       "  </thead>\n",
       "  <tbody>\n",
       "    <tr>\n",
       "      <th>0</th>\n",
       "      <td>666020888022790149</td>\n",
       "      <td>https://pbs.twimg.com/media/CT4udn0WwAA0aMy.jpg</td>\n",
       "      <td>1</td>\n",
       "      <td>Welsh_springer_spaniel</td>\n",
       "      <td>0.465074</td>\n",
       "      <td>True</td>\n",
       "      <td>collie</td>\n",
       "      <td>0.156665</td>\n",
       "      <td>True</td>\n",
       "      <td>Shetland_sheepdog</td>\n",
       "      <td>0.061428</td>\n",
       "      <td>True</td>\n",
       "    </tr>\n",
       "    <tr>\n",
       "      <th>1</th>\n",
       "      <td>666029285002620928</td>\n",
       "      <td>https://pbs.twimg.com/media/CT42GRgUYAA5iDo.jpg</td>\n",
       "      <td>1</td>\n",
       "      <td>redbone</td>\n",
       "      <td>0.506826</td>\n",
       "      <td>True</td>\n",
       "      <td>miniature_pinscher</td>\n",
       "      <td>0.074192</td>\n",
       "      <td>True</td>\n",
       "      <td>Rhodesian_ridgeback</td>\n",
       "      <td>0.072010</td>\n",
       "      <td>True</td>\n",
       "    </tr>\n",
       "    <tr>\n",
       "      <th>2</th>\n",
       "      <td>666033412701032449</td>\n",
       "      <td>https://pbs.twimg.com/media/CT4521TWwAEvMyu.jpg</td>\n",
       "      <td>1</td>\n",
       "      <td>German_shepherd</td>\n",
       "      <td>0.596461</td>\n",
       "      <td>True</td>\n",
       "      <td>malinois</td>\n",
       "      <td>0.138584</td>\n",
       "      <td>True</td>\n",
       "      <td>bloodhound</td>\n",
       "      <td>0.116197</td>\n",
       "      <td>True</td>\n",
       "    </tr>\n",
       "    <tr>\n",
       "      <th>3</th>\n",
       "      <td>666044226329800704</td>\n",
       "      <td>https://pbs.twimg.com/media/CT5Dr8HUEAA-lEu.jpg</td>\n",
       "      <td>1</td>\n",
       "      <td>Rhodesian_ridgeback</td>\n",
       "      <td>0.408143</td>\n",
       "      <td>True</td>\n",
       "      <td>redbone</td>\n",
       "      <td>0.360687</td>\n",
       "      <td>True</td>\n",
       "      <td>miniature_pinscher</td>\n",
       "      <td>0.222752</td>\n",
       "      <td>True</td>\n",
       "    </tr>\n",
       "    <tr>\n",
       "      <th>4</th>\n",
       "      <td>666049248165822465</td>\n",
       "      <td>https://pbs.twimg.com/media/CT5IQmsXIAAKY4A.jpg</td>\n",
       "      <td>1</td>\n",
       "      <td>miniature_pinscher</td>\n",
       "      <td>0.560311</td>\n",
       "      <td>True</td>\n",
       "      <td>Rottweiler</td>\n",
       "      <td>0.243682</td>\n",
       "      <td>True</td>\n",
       "      <td>Doberman</td>\n",
       "      <td>0.154629</td>\n",
       "      <td>True</td>\n",
       "    </tr>\n",
       "  </tbody>\n",
       "</table>\n",
       "</div>"
      ],
      "text/plain": [
       "             tweet_id                                          jpg_url  \\\n",
       "0  666020888022790149  https://pbs.twimg.com/media/CT4udn0WwAA0aMy.jpg   \n",
       "1  666029285002620928  https://pbs.twimg.com/media/CT42GRgUYAA5iDo.jpg   \n",
       "2  666033412701032449  https://pbs.twimg.com/media/CT4521TWwAEvMyu.jpg   \n",
       "3  666044226329800704  https://pbs.twimg.com/media/CT5Dr8HUEAA-lEu.jpg   \n",
       "4  666049248165822465  https://pbs.twimg.com/media/CT5IQmsXIAAKY4A.jpg   \n",
       "\n",
       "   img_num                      p1   p1_conf  p1_dog                  p2  \\\n",
       "0  1        Welsh_springer_spaniel  0.465074  True    collie               \n",
       "1  1        redbone                 0.506826  True    miniature_pinscher   \n",
       "2  1        German_shepherd         0.596461  True    malinois             \n",
       "3  1        Rhodesian_ridgeback     0.408143  True    redbone              \n",
       "4  1        miniature_pinscher      0.560311  True    Rottweiler           \n",
       "\n",
       "    p2_conf  p2_dog                   p3   p3_conf  p3_dog  \n",
       "0  0.156665  True    Shetland_sheepdog    0.061428  True    \n",
       "1  0.074192  True    Rhodesian_ridgeback  0.072010  True    \n",
       "2  0.138584  True    bloodhound           0.116197  True    \n",
       "3  0.360687  True    miniature_pinscher   0.222752  True    \n",
       "4  0.243682  True    Doberman             0.154629  True    "
      ]
     },
     "execution_count": 6,
     "metadata": {},
     "output_type": "execute_result"
    }
   ],
   "source": [
    "# Get the first 5 rows from `image_predictions_df` dataset\n",
    "image_predictions_df.head()"
   ]
  },
  {
   "cell_type": "code",
   "execution_count": 7,
   "metadata": {},
   "outputs": [
    {
     "data": {
      "text/html": [
       "<div>\n",
       "<style scoped>\n",
       "    .dataframe tbody tr th:only-of-type {\n",
       "        vertical-align: middle;\n",
       "    }\n",
       "\n",
       "    .dataframe tbody tr th {\n",
       "        vertical-align: top;\n",
       "    }\n",
       "\n",
       "    .dataframe thead th {\n",
       "        text-align: right;\n",
       "    }\n",
       "</style>\n",
       "<table border=\"1\" class=\"dataframe\">\n",
       "  <thead>\n",
       "    <tr style=\"text-align: right;\">\n",
       "      <th></th>\n",
       "      <th>tweet_id</th>\n",
       "      <th>jpg_url</th>\n",
       "      <th>img_num</th>\n",
       "      <th>p1</th>\n",
       "      <th>p1_conf</th>\n",
       "      <th>p1_dog</th>\n",
       "      <th>p2</th>\n",
       "      <th>p2_conf</th>\n",
       "      <th>p2_dog</th>\n",
       "      <th>p3</th>\n",
       "      <th>p3_conf</th>\n",
       "      <th>p3_dog</th>\n",
       "    </tr>\n",
       "  </thead>\n",
       "  <tbody>\n",
       "    <tr>\n",
       "      <th>2070</th>\n",
       "      <td>891327558926688256</td>\n",
       "      <td>https://pbs.twimg.com/media/DF6hr6BUMAAzZgT.jpg</td>\n",
       "      <td>2</td>\n",
       "      <td>basset</td>\n",
       "      <td>0.555712</td>\n",
       "      <td>True</td>\n",
       "      <td>English_springer</td>\n",
       "      <td>0.225770</td>\n",
       "      <td>True</td>\n",
       "      <td>German_short-haired_pointer</td>\n",
       "      <td>0.175219</td>\n",
       "      <td>True</td>\n",
       "    </tr>\n",
       "    <tr>\n",
       "      <th>2071</th>\n",
       "      <td>891689557279858688</td>\n",
       "      <td>https://pbs.twimg.com/media/DF_q7IAWsAEuuN8.jpg</td>\n",
       "      <td>1</td>\n",
       "      <td>paper_towel</td>\n",
       "      <td>0.170278</td>\n",
       "      <td>False</td>\n",
       "      <td>Labrador_retriever</td>\n",
       "      <td>0.168086</td>\n",
       "      <td>True</td>\n",
       "      <td>spatula</td>\n",
       "      <td>0.040836</td>\n",
       "      <td>False</td>\n",
       "    </tr>\n",
       "    <tr>\n",
       "      <th>2072</th>\n",
       "      <td>891815181378084864</td>\n",
       "      <td>https://pbs.twimg.com/media/DGBdLU1WsAANxJ9.jpg</td>\n",
       "      <td>1</td>\n",
       "      <td>Chihuahua</td>\n",
       "      <td>0.716012</td>\n",
       "      <td>True</td>\n",
       "      <td>malamute</td>\n",
       "      <td>0.078253</td>\n",
       "      <td>True</td>\n",
       "      <td>kelpie</td>\n",
       "      <td>0.031379</td>\n",
       "      <td>True</td>\n",
       "    </tr>\n",
       "    <tr>\n",
       "      <th>2073</th>\n",
       "      <td>892177421306343426</td>\n",
       "      <td>https://pbs.twimg.com/media/DGGmoV4XsAAUL6n.jpg</td>\n",
       "      <td>1</td>\n",
       "      <td>Chihuahua</td>\n",
       "      <td>0.323581</td>\n",
       "      <td>True</td>\n",
       "      <td>Pekinese</td>\n",
       "      <td>0.090647</td>\n",
       "      <td>True</td>\n",
       "      <td>papillon</td>\n",
       "      <td>0.068957</td>\n",
       "      <td>True</td>\n",
       "    </tr>\n",
       "    <tr>\n",
       "      <th>2074</th>\n",
       "      <td>892420643555336193</td>\n",
       "      <td>https://pbs.twimg.com/media/DGKD1-bXoAAIAUK.jpg</td>\n",
       "      <td>1</td>\n",
       "      <td>orange</td>\n",
       "      <td>0.097049</td>\n",
       "      <td>False</td>\n",
       "      <td>bagel</td>\n",
       "      <td>0.085851</td>\n",
       "      <td>False</td>\n",
       "      <td>banana</td>\n",
       "      <td>0.076110</td>\n",
       "      <td>False</td>\n",
       "    </tr>\n",
       "  </tbody>\n",
       "</table>\n",
       "</div>"
      ],
      "text/plain": [
       "                tweet_id                                          jpg_url  \\\n",
       "2070  891327558926688256  https://pbs.twimg.com/media/DF6hr6BUMAAzZgT.jpg   \n",
       "2071  891689557279858688  https://pbs.twimg.com/media/DF_q7IAWsAEuuN8.jpg   \n",
       "2072  891815181378084864  https://pbs.twimg.com/media/DGBdLU1WsAANxJ9.jpg   \n",
       "2073  892177421306343426  https://pbs.twimg.com/media/DGGmoV4XsAAUL6n.jpg   \n",
       "2074  892420643555336193  https://pbs.twimg.com/media/DGKD1-bXoAAIAUK.jpg   \n",
       "\n",
       "      img_num           p1   p1_conf  p1_dog                  p2   p2_conf  \\\n",
       "2070  2        basset       0.555712  True    English_springer    0.225770   \n",
       "2071  1        paper_towel  0.170278  False   Labrador_retriever  0.168086   \n",
       "2072  1        Chihuahua    0.716012  True    malamute            0.078253   \n",
       "2073  1        Chihuahua    0.323581  True    Pekinese            0.090647   \n",
       "2074  1        orange       0.097049  False   bagel               0.085851   \n",
       "\n",
       "      p2_dog                           p3   p3_conf  p3_dog  \n",
       "2070  True    German_short-haired_pointer  0.175219  True    \n",
       "2071  True    spatula                      0.040836  False   \n",
       "2072  True    kelpie                       0.031379  True    \n",
       "2073  True    papillon                     0.068957  True    \n",
       "2074  False   banana                       0.076110  False   "
      ]
     },
     "execution_count": 7,
     "metadata": {},
     "output_type": "execute_result"
    }
   ],
   "source": [
    "# Get the last 5 rows from `image_predictions_df` dataset\n",
    "image_predictions_df.tail()"
   ]
  },
  {
   "cell_type": "code",
   "execution_count": 134,
   "metadata": {
    "scrolled": false
   },
   "outputs": [
    {
     "data": {
      "text/html": [
       "<div>\n",
       "<style scoped>\n",
       "    .dataframe tbody tr th:only-of-type {\n",
       "        vertical-align: middle;\n",
       "    }\n",
       "\n",
       "    .dataframe tbody tr th {\n",
       "        vertical-align: top;\n",
       "    }\n",
       "\n",
       "    .dataframe thead th {\n",
       "        text-align: right;\n",
       "    }\n",
       "</style>\n",
       "<table border=\"1\" class=\"dataframe\">\n",
       "  <thead>\n",
       "    <tr style=\"text-align: right;\">\n",
       "      <th></th>\n",
       "      <th>tweet_id</th>\n",
       "      <th>jpg_url</th>\n",
       "      <th>img_num</th>\n",
       "      <th>p1</th>\n",
       "      <th>p1_conf</th>\n",
       "      <th>p1_dog</th>\n",
       "      <th>p2</th>\n",
       "      <th>p2_conf</th>\n",
       "      <th>p2_dog</th>\n",
       "      <th>p3</th>\n",
       "      <th>p3_conf</th>\n",
       "      <th>p3_dog</th>\n",
       "    </tr>\n",
       "  </thead>\n",
       "  <tbody>\n",
       "  </tbody>\n",
       "</table>\n",
       "</div>"
      ],
      "text/plain": [
       "Empty DataFrame\n",
       "Columns: [tweet_id, jpg_url, img_num, p1, p1_conf, p1_dog, p2, p2_conf, p2_dog, p3, p3_conf, p3_dog]\n",
       "Index: []"
      ]
     },
     "execution_count": 134,
     "metadata": {},
     "output_type": "execute_result"
    }
   ],
   "source": [
    "# Get duplicated `tweet_id`\n",
    "image_predictions_df[image_predictions_df.tweet_id.duplicated()]"
   ]
  },
  {
   "cell_type": "code",
   "execution_count": 131,
   "metadata": {},
   "outputs": [
    {
     "data": {
      "text/html": [
       "<div>\n",
       "<style scoped>\n",
       "    .dataframe tbody tr th:only-of-type {\n",
       "        vertical-align: middle;\n",
       "    }\n",
       "\n",
       "    .dataframe tbody tr th {\n",
       "        vertical-align: top;\n",
       "    }\n",
       "\n",
       "    .dataframe thead th {\n",
       "        text-align: right;\n",
       "    }\n",
       "</style>\n",
       "<table border=\"1\" class=\"dataframe\">\n",
       "  <thead>\n",
       "    <tr style=\"text-align: right;\">\n",
       "      <th></th>\n",
       "      <th>tweet_id</th>\n",
       "      <th>jpg_url</th>\n",
       "      <th>img_num</th>\n",
       "      <th>p1</th>\n",
       "      <th>p1_conf</th>\n",
       "      <th>p1_dog</th>\n",
       "      <th>p2</th>\n",
       "      <th>p2_conf</th>\n",
       "      <th>p2_dog</th>\n",
       "      <th>p3</th>\n",
       "      <th>p3_conf</th>\n",
       "      <th>p3_dog</th>\n",
       "    </tr>\n",
       "  </thead>\n",
       "  <tbody>\n",
       "    <tr>\n",
       "      <th>1297</th>\n",
       "      <td>752309394570878976</td>\n",
       "      <td>https://pbs.twimg.com/ext_tw_video_thumb/675354114423808004/pu/img/qL1R_nGLqa6lmkOx.jpg</td>\n",
       "      <td>1</td>\n",
       "      <td>upright</td>\n",
       "      <td>0.303415</td>\n",
       "      <td>False</td>\n",
       "      <td>golden_retriever</td>\n",
       "      <td>0.181351</td>\n",
       "      <td>True</td>\n",
       "      <td>Brittany_spaniel</td>\n",
       "      <td>0.162084</td>\n",
       "      <td>True</td>\n",
       "    </tr>\n",
       "    <tr>\n",
       "      <th>1315</th>\n",
       "      <td>754874841593970688</td>\n",
       "      <td>https://pbs.twimg.com/media/CWza7kpWcAAdYLc.jpg</td>\n",
       "      <td>1</td>\n",
       "      <td>pug</td>\n",
       "      <td>0.272205</td>\n",
       "      <td>True</td>\n",
       "      <td>bull_mastiff</td>\n",
       "      <td>0.251530</td>\n",
       "      <td>True</td>\n",
       "      <td>bath_towel</td>\n",
       "      <td>0.116806</td>\n",
       "      <td>False</td>\n",
       "    </tr>\n",
       "    <tr>\n",
       "      <th>1333</th>\n",
       "      <td>757729163776290825</td>\n",
       "      <td>https://pbs.twimg.com/media/CWyD2HGUYAQ1Xa7.jpg</td>\n",
       "      <td>2</td>\n",
       "      <td>cash_machine</td>\n",
       "      <td>0.802333</td>\n",
       "      <td>False</td>\n",
       "      <td>schipperke</td>\n",
       "      <td>0.045519</td>\n",
       "      <td>True</td>\n",
       "      <td>German_shepherd</td>\n",
       "      <td>0.023353</td>\n",
       "      <td>True</td>\n",
       "    </tr>\n",
       "    <tr>\n",
       "      <th>1345</th>\n",
       "      <td>759159934323924993</td>\n",
       "      <td>https://pbs.twimg.com/media/CU1zsMSUAAAS0qW.jpg</td>\n",
       "      <td>1</td>\n",
       "      <td>Irish_terrier</td>\n",
       "      <td>0.254856</td>\n",
       "      <td>True</td>\n",
       "      <td>briard</td>\n",
       "      <td>0.227716</td>\n",
       "      <td>True</td>\n",
       "      <td>soft-coated_wheaten_terrier</td>\n",
       "      <td>0.223263</td>\n",
       "      <td>True</td>\n",
       "    </tr>\n",
       "    <tr>\n",
       "      <th>1349</th>\n",
       "      <td>759566828574212096</td>\n",
       "      <td>https://pbs.twimg.com/media/CkNjahBXAAQ2kWo.jpg</td>\n",
       "      <td>1</td>\n",
       "      <td>Labrador_retriever</td>\n",
       "      <td>0.967397</td>\n",
       "      <td>True</td>\n",
       "      <td>golden_retriever</td>\n",
       "      <td>0.016641</td>\n",
       "      <td>True</td>\n",
       "      <td>ice_bear</td>\n",
       "      <td>0.014858</td>\n",
       "      <td>False</td>\n",
       "    </tr>\n",
       "    <tr>\n",
       "      <th>...</th>\n",
       "      <td>...</td>\n",
       "      <td>...</td>\n",
       "      <td>...</td>\n",
       "      <td>...</td>\n",
       "      <td>...</td>\n",
       "      <td>...</td>\n",
       "      <td>...</td>\n",
       "      <td>...</td>\n",
       "      <td>...</td>\n",
       "      <td>...</td>\n",
       "      <td>...</td>\n",
       "      <td>...</td>\n",
       "    </tr>\n",
       "    <tr>\n",
       "      <th>1903</th>\n",
       "      <td>851953902622658560</td>\n",
       "      <td>https://pbs.twimg.com/media/C4KHj-nWQAA3poV.jpg</td>\n",
       "      <td>1</td>\n",
       "      <td>Staffordshire_bullterrier</td>\n",
       "      <td>0.757547</td>\n",
       "      <td>True</td>\n",
       "      <td>American_Staffordshire_terrier</td>\n",
       "      <td>0.149950</td>\n",
       "      <td>True</td>\n",
       "      <td>Chesapeake_Bay_retriever</td>\n",
       "      <td>0.047523</td>\n",
       "      <td>True</td>\n",
       "    </tr>\n",
       "    <tr>\n",
       "      <th>1944</th>\n",
       "      <td>861769973181624320</td>\n",
       "      <td>https://pbs.twimg.com/media/CzG425nWgAAnP7P.jpg</td>\n",
       "      <td>2</td>\n",
       "      <td>Arabian_camel</td>\n",
       "      <td>0.366248</td>\n",
       "      <td>False</td>\n",
       "      <td>house_finch</td>\n",
       "      <td>0.209852</td>\n",
       "      <td>False</td>\n",
       "      <td>cocker_spaniel</td>\n",
       "      <td>0.046403</td>\n",
       "      <td>True</td>\n",
       "    </tr>\n",
       "    <tr>\n",
       "      <th>1992</th>\n",
       "      <td>873697596434513921</td>\n",
       "      <td>https://pbs.twimg.com/media/DA7iHL5U0AA1OQo.jpg</td>\n",
       "      <td>1</td>\n",
       "      <td>laptop</td>\n",
       "      <td>0.153718</td>\n",
       "      <td>False</td>\n",
       "      <td>French_bulldog</td>\n",
       "      <td>0.099984</td>\n",
       "      <td>True</td>\n",
       "      <td>printer</td>\n",
       "      <td>0.077130</td>\n",
       "      <td>False</td>\n",
       "    </tr>\n",
       "    <tr>\n",
       "      <th>2041</th>\n",
       "      <td>885311592912609280</td>\n",
       "      <td>https://pbs.twimg.com/media/C4bTH6nWMAAX_bJ.jpg</td>\n",
       "      <td>1</td>\n",
       "      <td>Labrador_retriever</td>\n",
       "      <td>0.908703</td>\n",
       "      <td>True</td>\n",
       "      <td>seat_belt</td>\n",
       "      <td>0.057091</td>\n",
       "      <td>False</td>\n",
       "      <td>pug</td>\n",
       "      <td>0.011933</td>\n",
       "      <td>True</td>\n",
       "    </tr>\n",
       "    <tr>\n",
       "      <th>2055</th>\n",
       "      <td>888202515573088257</td>\n",
       "      <td>https://pbs.twimg.com/media/DFDw2tyUQAAAFke.jpg</td>\n",
       "      <td>2</td>\n",
       "      <td>Pembroke</td>\n",
       "      <td>0.809197</td>\n",
       "      <td>True</td>\n",
       "      <td>Rhodesian_ridgeback</td>\n",
       "      <td>0.054950</td>\n",
       "      <td>True</td>\n",
       "      <td>beagle</td>\n",
       "      <td>0.038915</td>\n",
       "      <td>True</td>\n",
       "    </tr>\n",
       "  </tbody>\n",
       "</table>\n",
       "<p>66 rows × 12 columns</p>\n",
       "</div>"
      ],
      "text/plain": [
       "                tweet_id  \\\n",
       "1297  752309394570878976   \n",
       "1315  754874841593970688   \n",
       "1333  757729163776290825   \n",
       "1345  759159934323924993   \n",
       "1349  759566828574212096   \n",
       "...                  ...   \n",
       "1903  851953902622658560   \n",
       "1944  861769973181624320   \n",
       "1992  873697596434513921   \n",
       "2041  885311592912609280   \n",
       "2055  888202515573088257   \n",
       "\n",
       "                                                                                      jpg_url  \\\n",
       "1297  https://pbs.twimg.com/ext_tw_video_thumb/675354114423808004/pu/img/qL1R_nGLqa6lmkOx.jpg   \n",
       "1315  https://pbs.twimg.com/media/CWza7kpWcAAdYLc.jpg                                           \n",
       "1333  https://pbs.twimg.com/media/CWyD2HGUYAQ1Xa7.jpg                                           \n",
       "1345  https://pbs.twimg.com/media/CU1zsMSUAAAS0qW.jpg                                           \n",
       "1349  https://pbs.twimg.com/media/CkNjahBXAAQ2kWo.jpg                                           \n",
       "...                                               ...                                           \n",
       "1903  https://pbs.twimg.com/media/C4KHj-nWQAA3poV.jpg                                           \n",
       "1944  https://pbs.twimg.com/media/CzG425nWgAAnP7P.jpg                                           \n",
       "1992  https://pbs.twimg.com/media/DA7iHL5U0AA1OQo.jpg                                           \n",
       "2041  https://pbs.twimg.com/media/C4bTH6nWMAAX_bJ.jpg                                           \n",
       "2055  https://pbs.twimg.com/media/DFDw2tyUQAAAFke.jpg                                           \n",
       "\n",
       "      img_num                         p1   p1_conf  p1_dog  \\\n",
       "1297  1        upright                    0.303415  False    \n",
       "1315  1        pug                        0.272205  True     \n",
       "1333  2        cash_machine               0.802333  False    \n",
       "1345  1        Irish_terrier              0.254856  True     \n",
       "1349  1        Labrador_retriever         0.967397  True     \n",
       "...  ..                       ...              ...   ...     \n",
       "1903  1        Staffordshire_bullterrier  0.757547  True     \n",
       "1944  2        Arabian_camel              0.366248  False    \n",
       "1992  1        laptop                     0.153718  False    \n",
       "2041  1        Labrador_retriever         0.908703  True     \n",
       "2055  2        Pembroke                   0.809197  True     \n",
       "\n",
       "                                  p2   p2_conf  p2_dog  \\\n",
       "1297  golden_retriever                0.181351  True     \n",
       "1315  bull_mastiff                    0.251530  True     \n",
       "1333  schipperke                      0.045519  True     \n",
       "1345  briard                          0.227716  True     \n",
       "1349  golden_retriever                0.016641  True     \n",
       "...                ...                     ...   ...     \n",
       "1903  American_Staffordshire_terrier  0.149950  True     \n",
       "1944  house_finch                     0.209852  False    \n",
       "1992  French_bulldog                  0.099984  True     \n",
       "2041  seat_belt                       0.057091  False    \n",
       "2055  Rhodesian_ridgeback             0.054950  True     \n",
       "\n",
       "                               p3   p3_conf  p3_dog  \n",
       "1297  Brittany_spaniel             0.162084  True    \n",
       "1315  bath_towel                   0.116806  False   \n",
       "1333  German_shepherd              0.023353  True    \n",
       "1345  soft-coated_wheaten_terrier  0.223263  True    \n",
       "1349  ice_bear                     0.014858  False   \n",
       "...        ...                          ...    ...   \n",
       "1903  Chesapeake_Bay_retriever     0.047523  True    \n",
       "1944  cocker_spaniel               0.046403  True    \n",
       "1992  printer                      0.077130  False   \n",
       "2041  pug                          0.011933  True    \n",
       "2055  beagle                       0.038915  True    \n",
       "\n",
       "[66 rows x 12 columns]"
      ]
     },
     "execution_count": 131,
     "metadata": {},
     "output_type": "execute_result"
    }
   ],
   "source": [
    "# Get duplicated `jpg_url`\n",
    "image_predictions_df[image_predictions_df.jpg_url.duplicated()]"
   ]
  },
  {
   "cell_type": "markdown",
   "metadata": {},
   "source": [
    "#### Quality\n",
    "##### `twitter_archive_df` dataset\n",
    "- Invalid names in `name` column like 'a', 'an', 'by', etc...\n",
    "- 'None' value in `name` column.\n",
    "- Erroneous datatypes in `timestamp` column, we need to convert it to *datetime* datatype.\n",
    "- Tweets Records without image.\n",
    "- Remove retweets in `retweeted_status_id` column.\n",
    "- Remove replies in `in_reply_to_status_id` column.\n",
    "- Invalid values in `rating_numerator` column.\n",
    "- Invalid values in `rating_denominator` column.\n",
    "- Erroneous datatypes in `rating_numerator` column, we need to convert it to *float* datatype.\n",
    "- Extra columns not needed in analysis `in_reply_to_status_id`, `in_reply_to_user_id`, `retweeted_status_id`, `retweeted_status_user_id` and `retweeted_status_timestamp`.\n",
    "\n",
    "##### `image_predictions_df` dataset\n",
    "- Columns name are not clear `p1`, `p2`, and `p3`\n",
    "- Remove retweets.\n",
    "- Remove replies.\n",
    "\n",
    "#### `api_df` dataset\n",
    "- Remove tweets that not exist in archive dataset."
   ]
  },
  {
   "cell_type": "markdown",
   "metadata": {},
   "source": [
    "#### Tidiness\n",
    "##### `twitter_archive_df` dataset\n",
    "- One variable in four columns (`doggo`, `pupper`, `floofer` and `pupppo`).\n",
    "- `api_df` should be part of the `twitter_archive_df` dataset.\n",
    "\n",
    "##### `image_predictions_df_clean` dataset\n",
    "- Four variable in nine columns (`p1`, `p1_conf`, `p1_dog`, `p2`, `p2_conf`, `p2_dog`, `p3`, `p3_conf`, `p3_dog`).\n",
    "\n",
    "#### `api_df_clean` dataset\n",
    "- Merge `api_df_clean` and `twitter_archive_df` in one dataset."
   ]
  },
  {
   "cell_type": "markdown",
   "metadata": {},
   "source": [
    "## Clean"
   ]
  },
  {
   "cell_type": "code",
   "execution_count": 406,
   "metadata": {},
   "outputs": [],
   "source": [
    "# Get copy from dataframes\n",
    "twitter_archive_df_clean = twitter_archive_df.copy()\n",
    "image_predictions_df_clean = image_predictions_df.copy()\n",
    "api_df_clean = api_df.copy()"
   ]
  },
  {
   "cell_type": "markdown",
   "metadata": {},
   "source": [
    "#### Define\n",
    "#### `twitter_archive_df_clean`\n",
    "- Drop all tweets without image."
   ]
  },
  {
   "cell_type": "markdown",
   "metadata": {},
   "source": [
    "#### Code"
   ]
  },
  {
   "cell_type": "code",
   "execution_count": 407,
   "metadata": {},
   "outputs": [],
   "source": [
    "# Creat a list of tweet_ids with images\n",
    "tweets_with_image = list(image_predictions_df_clean.tweet_id.unique())\n",
    "\n",
    "# Drop all tweets without image.\n",
    "twitter_archive_df_clean = twitter_archive_df_clean[twitter_archive_df_clean.tweet_id.isin(tweets_with_image)]"
   ]
  },
  {
   "cell_type": "markdown",
   "metadata": {},
   "source": [
    "#### Test"
   ]
  },
  {
   "cell_type": "code",
   "execution_count": 408,
   "metadata": {
    "scrolled": true
   },
   "outputs": [
    {
     "name": "stdout",
     "output_type": "stream",
     "text": [
      "2075\n",
      "2075\n"
     ]
    }
   ],
   "source": [
    "print(twitter_archive_df_clean.shape[0])\n",
    "print(image_predictions_df_clean.shape[0])"
   ]
  },
  {
   "cell_type": "code",
   "execution_count": 409,
   "metadata": {},
   "outputs": [
    {
     "data": {
      "text/plain": [
       "True"
      ]
     },
     "execution_count": 409,
     "metadata": {},
     "output_type": "execute_result"
    }
   ],
   "source": [
    "# Confirm that all the tweets with images exist in the archive dataset\n",
    "len(tweets_with_image) == twitter_archive_df_clean.tweet_id.isin(tweets_with_image).sum()"
   ]
  },
  {
   "cell_type": "markdown",
   "metadata": {},
   "source": [
    "#### Define\n",
    "#### `twitter_archive_df_clean`\n",
    "- Drop all tweets with `retweeted_status_id` not null.\n",
    "- Drop all tweets with `in_reply_to_status_id` not null."
   ]
  },
  {
   "cell_type": "markdown",
   "metadata": {},
   "source": [
    "#### Code"
   ]
  },
  {
   "cell_type": "code",
   "execution_count": 410,
   "metadata": {},
   "outputs": [],
   "source": [
    "# Extract the tweets that include data in the retweeted_status_id.\n",
    "retweet_entries = twitter_archive_df_clean.retweeted_status_id.notnull()\n",
    "\n",
    "# Drop the retweets from the archive data set\n",
    "twitter_archive_df_clean = twitter_archive_df_clean[~retweet_entries]\n",
    "\n",
    "# Extract the replies that include data in the in_reply_to_status_id\n",
    "replies_entries = twitter_archive_df_clean.in_reply_to_status_id.notnull()\n",
    "\n",
    "# Drop the replies from the archive data set\n",
    "twitter_archive_df_clean = twitter_archive_df_clean[~replies_entries]"
   ]
  },
  {
   "cell_type": "markdown",
   "metadata": {},
   "source": [
    "#### Test"
   ]
  },
  {
   "cell_type": "code",
   "execution_count": 411,
   "metadata": {
    "scrolled": true
   },
   "outputs": [
    {
     "name": "stdout",
     "output_type": "stream",
     "text": [
      "0\n",
      "0\n"
     ]
    }
   ],
   "source": [
    "# Check the number of rows of retweets and replies\n",
    "print(twitter_archive_df_clean[retweet_entries].shape[0])\n",
    "print(twitter_archive_df_clean[replies_entries].shape[0])"
   ]
  },
  {
   "cell_type": "code",
   "execution_count": 412,
   "metadata": {},
   "outputs": [
    {
     "data": {
      "text/plain": [
       "1971"
      ]
     },
     "execution_count": 412,
     "metadata": {},
     "output_type": "execute_result"
    }
   ],
   "source": [
    "twitter_archive_df_clean.shape[0]"
   ]
  },
  {
   "cell_type": "markdown",
   "metadata": {},
   "source": [
    "#### Define\n",
    "#### `image_predictions_df_clean`\n",
    "- Drop all retweets from the image prediction dataset.\n",
    "- Drop all replies from the image prediction dataset."
   ]
  },
  {
   "cell_type": "markdown",
   "metadata": {},
   "source": [
    "#### Code"
   ]
  },
  {
   "cell_type": "code",
   "execution_count": 413,
   "metadata": {},
   "outputs": [],
   "source": [
    "# Get the extra tweet ids not in the archive table\n",
    "tweets_ids = np.logical_not(image_predictions_df_clean.tweet_id.isin(list(twitter_archive_df_clean.tweet_id)))\n",
    "\n",
    "# Drop the retweets and replies ids from the image prediction dataframe\n",
    "image_predictions_df_clean = image_predictions_df_clean[~tweets_ids]"
   ]
  },
  {
   "cell_type": "markdown",
   "metadata": {},
   "source": [
    "#### Test"
   ]
  },
  {
   "cell_type": "code",
   "execution_count": 414,
   "metadata": {
    "scrolled": true
   },
   "outputs": [
    {
     "data": {
      "text/plain": [
       "1971"
      ]
     },
     "execution_count": 414,
     "metadata": {},
     "output_type": "execute_result"
    }
   ],
   "source": [
    "image_predictions_df_clean.shape[0]"
   ]
  },
  {
   "cell_type": "markdown",
   "metadata": {},
   "source": [
    "#### Define\n",
    "#### `api_df_clean`\n",
    "- Drop the tweets that not exist in archive dataset"
   ]
  },
  {
   "cell_type": "markdown",
   "metadata": {},
   "source": [
    "#### Code"
   ]
  },
  {
   "cell_type": "code",
   "execution_count": 415,
   "metadata": {},
   "outputs": [],
   "source": [
    "# Create a list of tweet_ids with api \"tweets_with_api\"\n",
    "tweets_with_api = list(twitter_archive_df_clean.tweet_id.unique())\n",
    "\n",
    "# Drop all tweets that not exist in archive dataset\n",
    "api_df_clean = api_df_clean[api_df_clean.tweet_id.isin(tweets_with_api)]"
   ]
  },
  {
   "cell_type": "markdown",
   "metadata": {},
   "source": [
    "#### Test"
   ]
  },
  {
   "cell_type": "code",
   "execution_count": 416,
   "metadata": {
    "scrolled": true
   },
   "outputs": [
    {
     "name": "stdout",
     "output_type": "stream",
     "text": [
      "1964\n"
     ]
    }
   ],
   "source": [
    "print(api_df_clean.shape[0])"
   ]
  },
  {
   "cell_type": "markdown",
   "metadata": {},
   "source": [
    "#### Define\n",
    "#### `twitter_archive_df_clean`\n",
    "- Convert `timestamp` column datatype into *datetime* datatype."
   ]
  },
  {
   "cell_type": "markdown",
   "metadata": {},
   "source": [
    "#### Code"
   ]
  },
  {
   "cell_type": "code",
   "execution_count": 417,
   "metadata": {},
   "outputs": [],
   "source": [
    "# Convert timestamp to datetime datatype\n",
    "twitter_archive_df_clean.timestamp = twitter_archive_df_clean.timestamp.astype('datetime64[ns]')"
   ]
  },
  {
   "cell_type": "markdown",
   "metadata": {},
   "source": [
    "#### Test"
   ]
  },
  {
   "cell_type": "code",
   "execution_count": 418,
   "metadata": {},
   "outputs": [
    {
     "name": "stdout",
     "output_type": "stream",
     "text": [
      "<class 'pandas.core.frame.DataFrame'>\n",
      "Int64Index: 1971 entries, 0 to 2355\n",
      "Data columns (total 17 columns):\n",
      " #   Column                      Non-Null Count  Dtype         \n",
      "---  ------                      --------------  -----         \n",
      " 0   tweet_id                    1971 non-null   int64         \n",
      " 1   in_reply_to_status_id       0 non-null      float64       \n",
      " 2   in_reply_to_user_id         0 non-null      float64       \n",
      " 3   timestamp                   1971 non-null   datetime64[ns]\n",
      " 4   source                      1971 non-null   object        \n",
      " 5   text                        1971 non-null   object        \n",
      " 6   retweeted_status_id         0 non-null      float64       \n",
      " 7   retweeted_status_user_id    0 non-null      float64       \n",
      " 8   retweeted_status_timestamp  0 non-null      object        \n",
      " 9   expanded_urls               1971 non-null   object        \n",
      " 10  rating_numerator            1971 non-null   int64         \n",
      " 11  rating_denominator          1971 non-null   int64         \n",
      " 12  name                        1971 non-null   object        \n",
      " 13  doggo                       1971 non-null   object        \n",
      " 14  floofer                     1971 non-null   object        \n",
      " 15  pupper                      1971 non-null   object        \n",
      " 16  puppo                       1971 non-null   object        \n",
      "dtypes: datetime64[ns](1), float64(4), int64(3), object(9)\n",
      "memory usage: 277.2+ KB\n"
     ]
    }
   ],
   "source": [
    "# Get datatype of `timestamp`.\n",
    "twitter_archive_df_clean.info()"
   ]
  },
  {
   "cell_type": "markdown",
   "metadata": {},
   "source": [
    "#### Define\n",
    "#### `twitter_archive_df_clean`\n",
    "- Replace \"None\" with \"*np.nan*\" in `name` column"
   ]
  },
  {
   "cell_type": "markdown",
   "metadata": {},
   "source": [
    "#### Code"
   ]
  },
  {
   "cell_type": "code",
   "execution_count": 419,
   "metadata": {},
   "outputs": [],
   "source": [
    "# Replace 'None' value with 'np.nan' in `name` column\n",
    "twitter_archive_df_clean.name.replace('None', np.nan, inplace=True)"
   ]
  },
  {
   "cell_type": "markdown",
   "metadata": {},
   "source": [
    "#### Test"
   ]
  },
  {
   "cell_type": "code",
   "execution_count": 420,
   "metadata": {},
   "outputs": [
    {
     "data": {
      "text/plain": [
       "0"
      ]
     },
     "execution_count": 420,
     "metadata": {},
     "output_type": "execute_result"
    }
   ],
   "source": [
    "# Get total number of records that have 'None' value in `name` column.\n",
    "twitter_archive_df_clean[twitter_archive_df_clean.name == 'None'].name.sum()"
   ]
  },
  {
   "cell_type": "code",
   "execution_count": 421,
   "metadata": {},
   "outputs": [
    {
     "data": {
      "text/plain": [
       "524"
      ]
     },
     "execution_count": 421,
     "metadata": {},
     "output_type": "execute_result"
    }
   ],
   "source": [
    "# Get total number of records that have \"null\" value in `name` column\n",
    "twitter_archive_df_clean.name.isnull().sum()"
   ]
  },
  {
   "cell_type": "markdown",
   "metadata": {},
   "source": [
    "#### Define\n",
    "- Replace invalid name in `name` column like 'a', 'an', 'my', etc.. with name that exist in `text` column if applicable else replace it with np.nan.\n",
    "- Replace `O` with correct name `O'Malley` and `Al` with `Al Cabone`."
   ]
  },
  {
   "cell_type": "markdown",
   "metadata": {},
   "source": [
    "#### Code"
   ]
  },
  {
   "cell_type": "code",
   "execution_count": 422,
   "metadata": {},
   "outputs": [],
   "source": [
    "# Pattern to extract the name from `text` column.\n",
    "pattern = re.compile(r'(?:name(?:d)?)\\s{1}(?:is\\s)?([A-Za-z]+)')\n",
    "\n",
    "for index, row in twitter_archive_df_clean[twitter_archive_df_clean.name.notnull()].iterrows():\n",
    "    try:\n",
    "        # Check all names that start with lowercase letter.\n",
    "        if row['name'][0].islower():\n",
    "            c_name = re.findall(pattern, row['text'])[0]\n",
    "            twitter_archive_df_clean.loc[index,'name'] = twitter_archive_df_clean.loc[index,'name'].replace(row['name'], c_name)\n",
    "    except IndexError:\n",
    "        twitter_archive_df_clean.loc[index,'name'] = np.nan"
   ]
  },
  {
   "cell_type": "code",
   "execution_count": 468,
   "metadata": {},
   "outputs": [
    {
     "data": {
      "text/plain": [
       "Int64Index([775], dtype='int64')"
      ]
     },
     "execution_count": 468,
     "metadata": {},
     "output_type": "execute_result"
    }
   ],
   "source": [
    "twitter_archive_df_clean[twitter_archive_df_clean.name == 'O'].index"
   ]
  },
  {
   "cell_type": "code",
   "execution_count": 470,
   "metadata": {},
   "outputs": [],
   "source": [
    "twitter_archive_df_clean['name'][775] = 'O\\'Malley'"
   ]
  },
  {
   "cell_type": "code",
   "execution_count": 471,
   "metadata": {},
   "outputs": [
    {
     "data": {
      "text/plain": [
       "Int64Index([820], dtype='int64')"
      ]
     },
     "execution_count": 471,
     "metadata": {},
     "output_type": "execute_result"
    }
   ],
   "source": [
    "twitter_archive_df_clean[twitter_archive_df_clean.name == 'Al'].index"
   ]
  },
  {
   "cell_type": "code",
   "execution_count": 473,
   "metadata": {},
   "outputs": [],
   "source": [
    "twitter_archive_df_clean['name'][820] = 'Al Cabone'"
   ]
  },
  {
   "cell_type": "markdown",
   "metadata": {},
   "source": [
    "#### Test"
   ]
  },
  {
   "cell_type": "code",
   "execution_count": 423,
   "metadata": {
    "scrolled": false
   },
   "outputs": [
    {
     "data": {
      "text/plain": [
       "Charlie           11\n",
       "Lucy              10\n",
       "Cooper            10\n",
       "Oliver            10\n",
       "Penny             9 \n",
       "Tucker            9 \n",
       "Winston           8 \n",
       "Sadie             8 \n",
       "Toby              7 \n",
       "Lola              7 \n",
       "Daisy             7 \n",
       "Jax               6 \n",
       "Bella             6 \n",
       "Bo                6 \n",
       "Stanley           6 \n",
       "Koda              6 \n",
       "Rusty             5 \n",
       "Chester           5 \n",
       "Louis             5 \n",
       "Milo              5 \n",
       "Leo               5 \n",
       "Dave              5 \n",
       "Oscar             5 \n",
       "Bailey            5 \n",
       "Buddy             5 \n",
       "Scout             5 \n",
       "Maggie            4 \n",
       "Zoey              4 \n",
       "Gus               4 \n",
       "Clark             4 \n",
       "Duke              4 \n",
       "Chip              4 \n",
       "Phil              4 \n",
       "Jerry             4 \n",
       "Archie            4 \n",
       "Alfie             4 \n",
       "Cassie            4 \n",
       "Clarence          4 \n",
       "Bentley           4 \n",
       "Oakley            4 \n",
       "Jack              4 \n",
       "Dexter            4 \n",
       "Bear              4 \n",
       "Gary              4 \n",
       "Sophie            4 \n",
       "Larry             4 \n",
       "Winnie            4 \n",
       "Brody             4 \n",
       "Derek             4 \n",
       "George            4 \n",
       "Scooter           4 \n",
       "Finn              4 \n",
       "Reggie            4 \n",
       "Steven            3 \n",
       "Lily              3 \n",
       "Wilson            3 \n",
       "Malcolm           3 \n",
       "Rufus             3 \n",
       "Gerald            3 \n",
       "Ellie             3 \n",
       "Kyle              3 \n",
       "Earl              3 \n",
       "Calvin            3 \n",
       "Bruce             3 \n",
       "Walter            3 \n",
       "Jeffrey           3 \n",
       "Beau              3 \n",
       "Louie             3 \n",
       "Boomer            3 \n",
       "Nala              3 \n",
       "Loki              3 \n",
       "Max               3 \n",
       "Sebastian         3 \n",
       "Olive             3 \n",
       "Sunny             3 \n",
       "Moose             3 \n",
       "Wyatt             3 \n",
       "Zeke              3 \n",
       "Jimothy           3 \n",
       "Sammy             3 \n",
       "Rosie             3 \n",
       "Waffles           3 \n",
       "Otis              3 \n",
       "Reese             3 \n",
       "Samson            3 \n",
       "Vincent           3 \n",
       "Hank              3 \n",
       "Wallace           3 \n",
       "Ruby              3 \n",
       "Riley             3 \n",
       "Shadow            3 \n",
       "Mia               3 \n",
       "Gizmo             3 \n",
       "Panda             2 \n",
       "Phineas           2 \n",
       "Crystal           2 \n",
       "Charles           2 \n",
       "Solomon           2 \n",
       "Dakota            2 \n",
       "Sandy             2 \n",
       "Bubbles           2 \n",
       "Albus             2 \n",
       "Indie             2 \n",
       "Kreg              2 \n",
       "Patrick           2 \n",
       "Atlas             2 \n",
       "Terry             2 \n",
       "Paisley           2 \n",
       "Fiona             2 \n",
       "Peaches           2 \n",
       "Django            2 \n",
       "Brad              2 \n",
       "Sarge             2 \n",
       "Rocky             2 \n",
       "Alice             2 \n",
       "Nelly             2 \n",
       "Albert            2 \n",
       "CeCe              2 \n",
       "Bob               2 \n",
       "Pippa             2 \n",
       "Cody              2 \n",
       "Frank             2 \n",
       "Ted               2 \n",
       "Romeo             2 \n",
       "Calbert           2 \n",
       "Churlie           2 \n",
       "Jimison           2 \n",
       "Curtis            2 \n",
       "Jessiga           2 \n",
       "Chet              2 \n",
       "Percy             2 \n",
       "Lenny             2 \n",
       "Lennon            2 \n",
       "Sampson           2 \n",
       "Eli               2 \n",
       "Lincoln           2 \n",
       "Kenneth           2 \n",
       "Jesse             2 \n",
       "Tyr               2 \n",
       "Ava               2 \n",
       "Penelope          2 \n",
       "Flávio            2 \n",
       "Roosevelt         2 \n",
       "Sam               2 \n",
       "Atticus           2 \n",
       "Abby              2 \n",
       "Thumas            2 \n",
       "Phred             2 \n",
       "Coco              2 \n",
       "Franklin          2 \n",
       "Keith             2 \n",
       "Benedict          2 \n",
       "Wally             2 \n",
       "Odie              2 \n",
       "Moe               2 \n",
       "Pickles           2 \n",
       "Herm              2 \n",
       "Bernie            2 \n",
       "Linda             2 \n",
       "Reginald          2 \n",
       "Aspen             2 \n",
       "Griffin           2 \n",
       "Elliot            2 \n",
       "Remington         2 \n",
       "Theodore          2 \n",
       "Raymond           2 \n",
       "Marley            2 \n",
       "Misty             2 \n",
       "Gabe              2 \n",
       "Maximus           2 \n",
       "Chipson           2 \n",
       "Titan             2 \n",
       "Doug              2 \n",
       "Axel              2 \n",
       "Kilo              2 \n",
       "Jeph              2 \n",
       "Luca              2 \n",
       "Watson            2 \n",
       "Piper             2 \n",
       "Mister            2 \n",
       "Sugar             2 \n",
       "Lorenzo           2 \n",
       "Lou               2 \n",
       "Cupcake           2 \n",
       "Herald            2 \n",
       "Baxter            2 \n",
       "Cheryl            2 \n",
       "Colby             2 \n",
       "Ollie             2 \n",
       "Frankie           2 \n",
       "Harold            2 \n",
       "Rory              2 \n",
       "Juno              2 \n",
       "Bisquick          2 \n",
       "Maxaroni          2 \n",
       "Kreggory          2 \n",
       "Chuckles          2 \n",
       "Luna              2 \n",
       "Cash              2 \n",
       "Klevin            2 \n",
       "Hobbes            2 \n",
       "Belle             2 \n",
       "Doc               2 \n",
       "Smokey            2 \n",
       "Jiminy            2 \n",
       "Jackson           2 \n",
       "Ash               2 \n",
       "Kirby             2 \n",
       "Opal              2 \n",
       "Trooper           2 \n",
       "Kevin             2 \n",
       "Benji             2 \n",
       "Oliviér           2 \n",
       "Neptune           2 \n",
       "Coops             2 \n",
       "Finley            2 \n",
       "Hunter            2 \n",
       "Sansa             2 \n",
       "Yogi              2 \n",
       "Carl              2 \n",
       "Hammond           2 \n",
       "Olivia            2 \n",
       "Dash              2 \n",
       "Rizzo             1 \n",
       "Stephan           1 \n",
       "Bodie             1 \n",
       "Jangle            1 \n",
       "Tom               1 \n",
       "Dallas            1 \n",
       "Jeffrie           1 \n",
       "Rose              1 \n",
       "Mojo              1 \n",
       "Fido              1 \n",
       "Moofasa           1 \n",
       "Ashleigh          1 \n",
       "Mitch             1 \n",
       "Toffee            1 \n",
       "Joey              1 \n",
       "Julio             1 \n",
       "Johm              1 \n",
       "Spencer           1 \n",
       "Damon             1 \n",
       "Tino              1 \n",
       "Kloey             1 \n",
       "Pilot             1 \n",
       "Zara              1 \n",
       "Norman            1 \n",
       "Leroi             1 \n",
       "Travis            1 \n",
       "Bowie             1 \n",
       "Beebop            1 \n",
       "Roscoe            1 \n",
       "Dobby             1 \n",
       "Shakespeare       1 \n",
       "Marq              1 \n",
       "Goose             1 \n",
       "Tyrus             1 \n",
       "Tupawc            1 \n",
       "Klein             1 \n",
       "Milky             1 \n",
       "Perry             1 \n",
       "Kane              1 \n",
       "Noosh             1 \n",
       "Jareld            1 \n",
       "Mark              1 \n",
       "Sunshine          1 \n",
       "Laika             1 \n",
       "Geno              1 \n",
       "Rover             1 \n",
       "Lambeau           1 \n",
       "Kanu              1 \n",
       "Pete              1 \n",
       "Wylie             1 \n",
       "Major             1 \n",
       "Severus           1 \n",
       "Huck              1 \n",
       "Donny             1 \n",
       "Brady             1 \n",
       "Spanky            1 \n",
       "Ed                1 \n",
       "Kip               1 \n",
       "Tess              1 \n",
       "Berb              1 \n",
       "Ulysses           1 \n",
       "Bell              1 \n",
       "Keet              1 \n",
       "Carper            1 \n",
       "Bode              1 \n",
       "Leela             1 \n",
       "Pablo             1 \n",
       "Spork             1 \n",
       "Dido              1 \n",
       "Tayzie            1 \n",
       "O                 1 \n",
       "Boston            1 \n",
       "Godi              1 \n",
       "Maya              1 \n",
       "Maks              1 \n",
       "Butter            1 \n",
       "Willem            1 \n",
       "Gustaf            1 \n",
       "Anthony           1 \n",
       "Chelsea           1 \n",
       "Cilantro          1 \n",
       "Asher             1 \n",
       "Nida              1 \n",
       "Covach            1 \n",
       "Brudge            1 \n",
       "Richie            1 \n",
       "Alfy              1 \n",
       "Benny             1 \n",
       "Jaycob            1 \n",
       "Chesney           1 \n",
       "Mac               1 \n",
       "Ace               1 \n",
       "Herb              1 \n",
       "Tove              1 \n",
       "Napolean          1 \n",
       "Molly             1 \n",
       "Arnie             1 \n",
       "Lipton            1 \n",
       "Trevith           1 \n",
       "Gilbert           1 \n",
       "Jimbo             1 \n",
       "Ike               1 \n",
       "Mo                1 \n",
       "Astrid            1 \n",
       "Smiley            1 \n",
       "Loomis            1 \n",
       "General           1 \n",
       "Kenny             1 \n",
       "Dex               1 \n",
       "Harper            1 \n",
       "Stubert           1 \n",
       "Fizz              1 \n",
       "Pubert            1 \n",
       "Gerbald           1 \n",
       "Ridley            1 \n",
       "Cuddles           1 \n",
       "Jockson           1 \n",
       "Timofy            1 \n",
       "Divine            1 \n",
       "Durg              1 \n",
       "Mairi             1 \n",
       "Chuck             1 \n",
       "Bradley           1 \n",
       "Fiji              1 \n",
       "Duchess           1 \n",
       "Crawford          1 \n",
       "Darrel            1 \n",
       "Kayla             1 \n",
       "Swagger           1 \n",
       "Chuk              1 \n",
       "Rueben            1 \n",
       "Lugan             1 \n",
       "Kulet             1 \n",
       "Kyro              1 \n",
       "Frönq             1 \n",
       "Trigger           1 \n",
       "Tuco              1 \n",
       "Blu               1 \n",
       "Carll             1 \n",
       "Glenn             1 \n",
       "Al                1 \n",
       "Gunner            1 \n",
       "Hanz              1 \n",
       "Mike              1 \n",
       "Alfredo           1 \n",
       "Tater             1 \n",
       "Jamesy            1 \n",
       "Dewey             1 \n",
       "Devón             1 \n",
       "Charleson         1 \n",
       "Edmund            1 \n",
       "Ester             1 \n",
       "Billl             1 \n",
       "Marty             1 \n",
       "Moreton           1 \n",
       "Jerome            1 \n",
       "Clarkus           1 \n",
       "Maisey            1 \n",
       "Eevee             1 \n",
       "Ralphson          1 \n",
       "Blitz             1 \n",
       "Sundance          1 \n",
       "Alexander         1 \n",
       "Creg              1 \n",
       "Coleman           1 \n",
       "Wesley            1 \n",
       "Dunkin            1 \n",
       "Aldrick           1 \n",
       "Bobby             1 \n",
       "Stella            1 \n",
       "Lenox             1 \n",
       "Shooter           1 \n",
       "Genevieve         1 \n",
       "Bones             1 \n",
       "Remus             1 \n",
       "Betty             1 \n",
       "Joshwa            1 \n",
       "Nico              1 \n",
       "Florence          1 \n",
       "Herschel          1 \n",
       "Poppy             1 \n",
       "Derby             1 \n",
       "Enchilada         1 \n",
       "Quinn             1 \n",
       "Ricky             1 \n",
       "Chompsky          1 \n",
       "Einstein          1 \n",
       "Cal               1 \n",
       "Meyer             1 \n",
       "Brandonald        1 \n",
       "Jarvis            1 \n",
       "Georgie           1 \n",
       "Anakin            1 \n",
       "Rey               1 \n",
       "Champ             1 \n",
       "Kaia              1 \n",
       "Lance             1 \n",
       "Jo                1 \n",
       "Shiloh            1 \n",
       "Banjo             1 \n",
       "Cali              1 \n",
       "Schnozz           1 \n",
       "Monty             1 \n",
       "Jebberson         1 \n",
       "Peanut            1 \n",
       "Flash             1 \n",
       "Socks             1 \n",
       "Binky             1 \n",
       "Kingsley          1 \n",
       "Davey             1 \n",
       "Mack              1 \n",
       "Raphael           1 \n",
       "Jazzy             1 \n",
       "Bookstore         1 \n",
       "Birf              1 \n",
       "Hemry             1 \n",
       "Aja               1 \n",
       "Pipsy             1 \n",
       "Hazel             1 \n",
       "Karl              1 \n",
       "Hall              1 \n",
       "Canela            1 \n",
       "Opie              1 \n",
       "Sobe              1 \n",
       "Nimbus            1 \n",
       "Aqua              1 \n",
       "Mabel             1 \n",
       "Willie            1 \n",
       "Mookie            1 \n",
       "Lilli             1 \n",
       "Willow            1 \n",
       "Pavlov            1 \n",
       "Huxley            1 \n",
       "Meera             1 \n",
       "Rumble            1 \n",
       "Olaf              1 \n",
       "Stewie            1 \n",
       "Alf               1 \n",
       "Lizzie            1 \n",
       "Bruno             1 \n",
       "Strider           1 \n",
       "Hamrick           1 \n",
       "Millie            1 \n",
       "Cermet            1 \n",
       "Sailer            1 \n",
       "Kohl              1 \n",
       "Rizzy             1 \n",
       "Amy               1 \n",
       "Cherokee          1 \n",
       "Filup             1 \n",
       "Fwed              1 \n",
       "Glacier           1 \n",
       "Mya               1 \n",
       "Rolf              1 \n",
       "Reagan            1 \n",
       "Akumi             1 \n",
       "Howie             1 \n",
       "Rodman            1 \n",
       "Diogi             1 \n",
       "Pupcasso          1 \n",
       "Gòrdón            1 \n",
       "Tedrick           1 \n",
       "Kody              1 \n",
       "Dante             1 \n",
       "Bert              1 \n",
       "Gustav            1 \n",
       "Colin             1 \n",
       "Newt              1 \n",
       "Lolo              1 \n",
       "Clybe             1 \n",
       "Jay               1 \n",
       "Lucky             1 \n",
       "Naphaniel         1 \n",
       "Barney            1 \n",
       "Sparky            1 \n",
       "Hurley            1 \n",
       "Skittles          1 \n",
       "Leonard           1 \n",
       "Stephanus         1 \n",
       "Steve             1 \n",
       "Arya              1 \n",
       "Pumpkin           1 \n",
       "Bayley            1 \n",
       "Odin              1 \n",
       "Christoper        1 \n",
       "Brooks            1 \n",
       "Grady             1 \n",
       "Sprout            1 \n",
       "Kevon             1 \n",
       "Ron               1 \n",
       "Cleopatricia      1 \n",
       "Terrenth          1 \n",
       "Samsom            1 \n",
       "Obi               1 \n",
       "Lucia             1 \n",
       "Tedders           1 \n",
       "Vixen             1 \n",
       "Julius            1 \n",
       "Flurpson          1 \n",
       "Stu               1 \n",
       "Finnegus          1 \n",
       "Sonny             1 \n",
       "Ralf              1 \n",
       "Pluto             1 \n",
       "Blanket           1 \n",
       "DayZ              1 \n",
       "Stuart            1 \n",
       "Hubertson         1 \n",
       "Lorelei           1 \n",
       "Yoda              1 \n",
       "Jonah             1 \n",
       "Iroh              1 \n",
       "Kaiya             1 \n",
       "Hercules          1 \n",
       "Hector            1 \n",
       "Rorie             1 \n",
       "Carbon            1 \n",
       "Eazy              1 \n",
       "Snicku            1 \n",
       "Darla             1 \n",
       "Tito              1 \n",
       "Mollie            1 \n",
       "Dook              1 \n",
       "Fillup            1 \n",
       "Ambrose           1 \n",
       "Ozzy              1 \n",
       "Tebow             1 \n",
       "Rooney            1 \n",
       "Mauve             1 \n",
       "Hero              1 \n",
       "Happy             1 \n",
       "Eugene            1 \n",
       "Kawhi             1 \n",
       "Chesterson        1 \n",
       "Rambo             1 \n",
       "BeBe              1 \n",
       "Andru             1 \n",
       "Obie              1 \n",
       "Mosby             1 \n",
       "Oshie             1 \n",
       "Chef              1 \n",
       "Mingus            1 \n",
       "Sprinkles         1 \n",
       "Ronnie            1 \n",
       "Strudel           1 \n",
       "Lassie            1 \n",
       "Zeus              1 \n",
       "Link              1 \n",
       "Vinscent          1 \n",
       "Chloe             1 \n",
       "Logan             1 \n",
       "Butters           1 \n",
       "Schnitzel         1 \n",
       "Cecil             1 \n",
       "Gordon            1 \n",
       "Bertson           1 \n",
       "Jed               1 \n",
       "Jacob             1 \n",
       "Sully             1 \n",
       "Alfonso           1 \n",
       "Arnold            1 \n",
       "Rubio             1 \n",
       "Simba             1 \n",
       "Zuzu              1 \n",
       "Brandi            1 \n",
       "Stark             1 \n",
       "Rhino             1 \n",
       "Zeek              1 \n",
       "Patch             1 \n",
       "Jersey            1 \n",
       "Charl             1 \n",
       "Sweet             1 \n",
       "Kirk              1 \n",
       "Augie             1 \n",
       "Sephie            1 \n",
       "Maxwell           1 \n",
       "Torque            1 \n",
       "Gin               1 \n",
       "Jiminus           1 \n",
       "Levi              1 \n",
       "Terrance          1 \n",
       "Amber             1 \n",
       "Karma             1 \n",
       "Todo              1 \n",
       "Franq             1 \n",
       "Angel             1 \n",
       "Zooey             1 \n",
       "Deacon            1 \n",
       "Henry             1 \n",
       "Wishes            1 \n",
       "Sailor            1 \n",
       "Iggy              1 \n",
       "Shikha            1 \n",
       "Karll             1 \n",
       "Batdog            1 \n",
       "River             1 \n",
       "Jeremy            1 \n",
       "Shaggy            1 \n",
       "Autumn            1 \n",
       "Evy               1 \n",
       "Oreo              1 \n",
       "Buckley           1 \n",
       "Harrison          1 \n",
       "Miguel            1 \n",
       "Dietrich          1 \n",
       "Corey             1 \n",
       "Snickers          1 \n",
       "Barclay           1 \n",
       "Ronduh            1 \n",
       "Tiger             1 \n",
       "Halo              1 \n",
       "Jennifur          1 \n",
       "Taco              1 \n",
       "Blue              1 \n",
       "Marvin            1 \n",
       "Sage              1 \n",
       "Bubba             1 \n",
       "Lacy              1 \n",
       "Crimson           1 \n",
       "Scruffers         1 \n",
       "Shelby            1 \n",
       "William           1 \n",
       "Noah              1 \n",
       "Bungalo           1 \n",
       "Octaviath         1 \n",
       "Harry             1 \n",
       "Biden             1 \n",
       "Walker            1 \n",
       "Ralphé            1 \n",
       "Willy             1 \n",
       "Jessifer          1 \n",
       "Dutch             1 \n",
       "Kathmandu         1 \n",
       "Michelangelope    1 \n",
       "Tilly             1 \n",
       "Mary              1 \n",
       "Arlen             1 \n",
       "Lillie            1 \n",
       "Aiden             1 \n",
       "Philippe          1 \n",
       "Ralpher           1 \n",
       "Winifred          1 \n",
       "Robin             1 \n",
       "Pippin            1 \n",
       "Godzilla          1 \n",
       "Luther            1 \n",
       "Traviss           1 \n",
       "Rilo              1 \n",
       "Sid               1 \n",
       "Bobb              1 \n",
       "Danny             1 \n",
       "Lili              1 \n",
       "Callie            1 \n",
       "Tug               1 \n",
       "Marlee            1 \n",
       "Grey              1 \n",
       "Zoe               1 \n",
       "Fred              1 \n",
       "Koko              1 \n",
       "Humphrey          1 \n",
       "Boots             1 \n",
       "Chevy             1 \n",
       "Nigel             1 \n",
       "Apollo            1 \n",
       "Aubie             1 \n",
       "Buddah            1 \n",
       "Cedrick           1 \n",
       "Miley             1 \n",
       "Ben               1 \n",
       "Dawn              1 \n",
       "Remy              1 \n",
       "Coopson           1 \n",
       "Berkeley          1 \n",
       "Adele             1 \n",
       "Brockly           1 \n",
       "Kuyu              1 \n",
       "Lupe              1 \n",
       "Tommy             1 \n",
       "Beemo             1 \n",
       "Ginger            1 \n",
       "Amélie            1 \n",
       "Billy             1 \n",
       "Jazz              1 \n",
       "Gert              1 \n",
       "Malikai           1 \n",
       "Sierra            1 \n",
       "Grizz             1 \n",
       "Jeb               1 \n",
       "Goliath           1 \n",
       "JD                1 \n",
       "Sky               1 \n",
       "Shnuggles         1 \n",
       "Timison           1 \n",
       "Duddles           1 \n",
       "Alejandro         1 \n",
       "Ziva              1 \n",
       "Dylan             1 \n",
       "Cora              1 \n",
       "Ozzie             1 \n",
       "Layla             1 \n",
       "Brutus            1 \n",
       "Keurig            1 \n",
       "Edgar             1 \n",
       "Ebby              1 \n",
       "Edd               1 \n",
       "Acro              1 \n",
       "Stefan            1 \n",
       "DonDon            1 \n",
       "Lilly             1 \n",
       "Berta             1 \n",
       "Staniel           1 \n",
       "Suki              1 \n",
       "Margo             1 \n",
       "Stormy            1 \n",
       "Jett              1 \n",
       "Farfle            1 \n",
       "Alphred           1 \n",
       "Scott             1 \n",
       "Emanuel           1 \n",
       "Bloop             1 \n",
       "Bloo              1 \n",
       "Klint             1 \n",
       "Sojourner         1 \n",
       "Harvey            1 \n",
       "Tassy             1 \n",
       "Siba              1 \n",
       "Baloo             1 \n",
       "Clyde             1 \n",
       "Crouton           1 \n",
       "Ken               1 \n",
       "Kara              1 \n",
       "Longfellow        1 \n",
       "Thor              1 \n",
       "Ruffles           1 \n",
       "Ole               1 \n",
       "Mimosa            1 \n",
       "Pancake           1 \n",
       "Baron             1 \n",
       "Wiggles           1 \n",
       "Laela             1 \n",
       "Paull             1 \n",
       "Snoop             1 \n",
       "Nollie            1 \n",
       "Beckham           1 \n",
       "Alexanderson      1 \n",
       "Griswold          1 \n",
       "Eriq              1 \n",
       "Chaz              1 \n",
       "Erik              1 \n",
       "Emmy              1 \n",
       "Harlso            1 \n",
       "Harnold           1 \n",
       "Theo              1 \n",
       "Bauer             1 \n",
       "Kallie            1 \n",
       "Clifford          1 \n",
       "Tyrone            1 \n",
       "Carter            1 \n",
       "Jackie            1 \n",
       "Tobi              1 \n",
       "Saydee            1 \n",
       "Ralphie           1 \n",
       "Comet             1 \n",
       "Taz               1 \n",
       "Emmie             1 \n",
       "Meatball          1 \n",
       "Wafer             1 \n",
       "Shawwn            1 \n",
       "Brandy            1 \n",
       "Bruiser           1 \n",
       "Rontu             1 \n",
       "Murphy            1 \n",
       "Liam              1 \n",
       "Holly             1 \n",
       "Mattie            1 \n",
       "Andy              1 \n",
       "Livvie            1 \n",
       "Juckson           1 \n",
       "Monster           1 \n",
       "Chuq              1 \n",
       "Dudley            1 \n",
       "Puff              1 \n",
       "Randall           1 \n",
       "Brat              1 \n",
       "Tango             1 \n",
       "Jim               1 \n",
       "Horace            1 \n",
       "Brian             1 \n",
       "Kial              1 \n",
       "Eleanor           1 \n",
       "Tripp             1 \n",
       "Vince             1 \n",
       "Pip               1 \n",
       "Blakely           1 \n",
       "Cannon            1 \n",
       "Tuck              1 \n",
       "Chubbs            1 \n",
       "Leonidas          1 \n",
       "Snoopy            1 \n",
       "Dot               1 \n",
       "Petrick           1 \n",
       "Vinnie            1 \n",
       "Lilah             1 \n",
       "Carly             1 \n",
       "Jordy             1 \n",
       "Dixie             1 \n",
       "Sora              1 \n",
       "Dwight            1 \n",
       "Antony            1 \n",
       "Banditt           1 \n",
       "Mutt              1 \n",
       "Katie             1 \n",
       "Anna              1 \n",
       "Claude            1 \n",
       "Storkson          1 \n",
       "Philbert          1 \n",
       "Josep             1 \n",
       "Heinrich          1 \n",
       "Arlo              1 \n",
       "Crumpet           1 \n",
       "Craig             1 \n",
       "Kenzie            1 \n",
       "Pepper            1 \n",
       "Maddie            1 \n",
       "Blipson           1 \n",
       "Dug               1 \n",
       "Timmy             1 \n",
       "Emma              1 \n",
       "Timber            1 \n",
       "Trip              1 \n",
       "Fynn              1 \n",
       "Eve               1 \n",
       "Gidget            1 \n",
       "Superpup          1 \n",
       "Bonaparte         1 \n",
       "Striker           1 \n",
       "Rufio             1 \n",
       "Grizzwald         1 \n",
       "Mason             1 \n",
       "Nugget            1 \n",
       "Chadrick          1 \n",
       "Hermione          1 \n",
       "Cheesy            1 \n",
       "Beya              1 \n",
       "Shadoe            1 \n",
       "Ralph             1 \n",
       "Caryl             1 \n",
       "Kellogg           1 \n",
       "Tycho             1 \n",
       "Bluebert          1 \n",
       "Pinot             1 \n",
       "Pawnd             1 \n",
       "Jaspers           1 \n",
       "Orion             1 \n",
       "Fletcher          1 \n",
       "Darby             1 \n",
       "Freddery          1 \n",
       "Gromit            1 \n",
       "Rumpole           1 \n",
       "Jeffri            1 \n",
       "Bilbo             1 \n",
       "Kramer            1 \n",
       "Kobe              1 \n",
       "Jarod             1 \n",
       "Mona              1 \n",
       "Sandra            1 \n",
       "Bronte            1 \n",
       "Daryl             1 \n",
       "Ralphus           1 \n",
       "Kendall           1 \n",
       "Skye              1 \n",
       "Ito               1 \n",
       "Brownie           1 \n",
       "Maude             1 \n",
       "Bradlay           1 \n",
       "Lulu              1 \n",
       "Tanner            1 \n",
       "Grizzie           1 \n",
       "Reptar            1 \n",
       "Bobbay            1 \n",
       "Spark             1 \n",
       "Bobble            1 \n",
       "Dale              1 \n",
       "Jomathan          1 \n",
       "Rocco             1 \n",
       "Fabio             1 \n",
       "Venti             1 \n",
       "Rodney            1 \n",
       "Jameson           1 \n",
       "Kona              1 \n",
       "Chase             1 \n",
       "Kollin            1 \n",
       "Geoff             1 \n",
       "Rupert            1 \n",
       "Daniel            1 \n",
       "Ivar              1 \n",
       "Rinna             1 \n",
       "Doobert           1 \n",
       "Cupid             1 \n",
       "Dotsy             1 \n",
       "Furzey            1 \n",
       "Burt              1 \n",
       "Kota              1 \n",
       "Clarq             1 \n",
       "Tonks             1 \n",
       "Pepe              1 \n",
       "Monkey            1 \n",
       "Name: name, dtype: int64"
      ]
     },
     "execution_count": 423,
     "metadata": {},
     "output_type": "execute_result"
    }
   ],
   "source": [
    "pd.set_option('display.max_rows', None)\n",
    "twitter_archive_df_clean.name.value_counts()"
   ]
  },
  {
   "cell_type": "code",
   "execution_count": 474,
   "metadata": {},
   "outputs": [
    {
     "data": {
      "text/plain": [
       "\"O'Malley\""
      ]
     },
     "execution_count": 474,
     "metadata": {},
     "output_type": "execute_result"
    }
   ],
   "source": [
    "twitter_archive_df_clean['name'][775]"
   ]
  },
  {
   "cell_type": "code",
   "execution_count": 475,
   "metadata": {},
   "outputs": [
    {
     "data": {
      "text/plain": [
       "'Al Cabone'"
      ]
     },
     "execution_count": 475,
     "metadata": {},
     "output_type": "execute_result"
    }
   ],
   "source": [
    "twitter_archive_df_clean['name'][820]"
   ]
  },
  {
   "cell_type": "markdown",
   "metadata": {},
   "source": [
    "#### Define\n",
    "- Convert the `rating_numerator` column's data type from a int to a float using astype."
   ]
  },
  {
   "cell_type": "markdown",
   "metadata": {},
   "source": [
    "#### Code"
   ]
  },
  {
   "cell_type": "code",
   "execution_count": 424,
   "metadata": {},
   "outputs": [],
   "source": [
    "# Convert 'rating_numerator' from int into float.\n",
    "twitter_archive_df_clean.rating_numerator = twitter_archive_df_clean.rating_numerator.astype(float)"
   ]
  },
  {
   "cell_type": "markdown",
   "metadata": {},
   "source": [
    "#### Test"
   ]
  },
  {
   "cell_type": "code",
   "execution_count": 425,
   "metadata": {},
   "outputs": [
    {
     "data": {
      "text/plain": [
       "dtype('float64')"
      ]
     },
     "execution_count": 425,
     "metadata": {},
     "output_type": "execute_result"
    }
   ],
   "source": [
    "# Get datatype of rating_numerator.\n",
    "twitter_archive_df_clean.dtypes.rating_numerator"
   ]
  },
  {
   "cell_type": "markdown",
   "metadata": {},
   "source": [
    "#### Define\n",
    "    Group #1\n",
    "- Extract the fraction numbers from `text` column to get rating_numerator."
   ]
  },
  {
   "cell_type": "markdown",
   "metadata": {},
   "source": [
    "#### Code"
   ]
  },
  {
   "cell_type": "code",
   "execution_count": 426,
   "metadata": {},
   "outputs": [],
   "source": [
    "# Get the fraction number \n",
    "# Get all records that have fraction number in `text` column\n",
    "fraction_df = twitter_archive_df_clean[twitter_archive_df_clean.text.str.contains( r'(\\d+\\.\\d?\\d?)\\/(\\d{1,3})')]\n",
    "\n",
    "pattern = re.compile('(\\d+\\.\\d?\\d?)\\/(\\d{1,3})')\n",
    "for index, row in fraction_df.iterrows():\n",
    "    num = re.findall(pattern, row['text'])[0][0]\n",
    "    twitter_archive_df_clean.loc[index,'rating_numerator'] = float(num)"
   ]
  },
  {
   "cell_type": "markdown",
   "metadata": {},
   "source": [
    "#### Test"
   ]
  },
  {
   "cell_type": "code",
   "execution_count": 427,
   "metadata": {},
   "outputs": [
    {
     "data": {
      "text/plain": [
       "12.00      446\n",
       "10.00      417\n",
       "11.00      392\n",
       "13.00      253\n",
       "9.00       150\n",
       "8.00       95 \n",
       "7.00       52 \n",
       "14.00      33 \n",
       "6.00       32 \n",
       "5.00       32 \n",
       "3.00       19 \n",
       "4.00       16 \n",
       "2.00       9  \n",
       "1.00       5  \n",
       "60.00      1  \n",
       "24.00      1  \n",
       "99.00      1  \n",
       "1776.00    1  \n",
       "13.50      1  \n",
       "11.27      1  \n",
       "165.00     1  \n",
       "11.26      1  \n",
       "0.00       1  \n",
       "84.00      1  \n",
       "9.75       1  \n",
       "45.00      1  \n",
       "88.00      1  \n",
       "144.00     1  \n",
       "44.00      1  \n",
       "121.00     1  \n",
       "204.00     1  \n",
       "50.00      1  \n",
       "80.00      1  \n",
       "420.00     1  \n",
       "Name: rating_numerator, dtype: int64"
      ]
     },
     "execution_count": 427,
     "metadata": {},
     "output_type": "execute_result"
    }
   ],
   "source": [
    "# get all rating_numerator\n",
    "twitter_archive_df_clean.rating_numerator.value_counts()"
   ]
  },
  {
   "cell_type": "markdown",
   "metadata": {},
   "source": [
    "#### Define\n",
    "    Group #2\n",
    "- Recalculte rating_numerator & rating_denominator to get the real value."
   ]
  },
  {
   "cell_type": "markdown",
   "metadata": {},
   "source": [
    "#### Code"
   ]
  },
  {
   "cell_type": "code",
   "execution_count": 428,
   "metadata": {},
   "outputs": [],
   "source": [
    "# Calculate the dogs counts in the tweets having many dogs\n",
    "for index, row in twitter_archive_df_clean.iterrows():\n",
    "    if row['rating_denominator'] >= 40:\n",
    "        dogs_count = row['rating_denominator']/10\n",
    "\n",
    "        # Perform the Calculations\n",
    "        twitter_archive_df_clean.loc[index, ['rating_numerator', 'rating_denominator']] = [row['rating_numerator']/dogs_count , 10]"
   ]
  },
  {
   "cell_type": "markdown",
   "metadata": {},
   "source": [
    "#### Test"
   ]
  },
  {
   "cell_type": "code",
   "execution_count": 429,
   "metadata": {},
   "outputs": [
    {
     "data": {
      "text/plain": [
       "12.00      450\n",
       "10.00      419\n",
       "11.00      397\n",
       "13.00      253\n",
       "9.00       150\n",
       "8.00       95 \n",
       "7.00       51 \n",
       "14.00      33 \n",
       "5.00       32 \n",
       "6.00       32 \n",
       "3.00       19 \n",
       "4.00       15 \n",
       "2.00       9  \n",
       "1.00       4  \n",
       "1776.00    1  \n",
       "9.75       1  \n",
       "0.00       1  \n",
       "13.50      1  \n",
       "11.26      1  \n",
       "11.27      1  \n",
       "420.00     1  \n",
       "Name: rating_numerator, dtype: int64"
      ]
     },
     "execution_count": 429,
     "metadata": {},
     "output_type": "execute_result"
    }
   ],
   "source": [
    "twitter_archive_df_clean[twitter_archive_df_clean['rating_denominator'] == 10 ].rating_numerator.value_counts()"
   ]
  },
  {
   "cell_type": "code",
   "execution_count": 430,
   "metadata": {
    "scrolled": true
   },
   "outputs": [
    {
     "data": {
      "text/plain": [
       "11    2\n",
       "7     1\n",
       "20    1\n",
       "2     1\n",
       "Name: rating_denominator, dtype: int64"
      ]
     },
     "execution_count": 430,
     "metadata": {},
     "output_type": "execute_result"
    }
   ],
   "source": [
    "twitter_archive_df_clean[twitter_archive_df_clean['rating_denominator'] != 10 ].rating_denominator.value_counts()"
   ]
  },
  {
   "cell_type": "code",
   "execution_count": 431,
   "metadata": {
    "scrolled": true
   },
   "outputs": [
    {
     "data": {
      "text/plain": [
       "516     Meet Sam. She smiles 24/7 &amp; secretly aspires to be a reindeer. \\nKeep Sam smiling by clicking and sharing this link:\\nhttps://t.co/98tB8y7y7t https://t.co/LouL5vdvxx\n",
       "1068    After so many requests, this is Bretagne. She was the last surviving 9/11 search dog, and our second ever 14/10. RIP https://t.co/XAVDNDaVgQ                             \n",
       "1165    Happy 4/20 from the squad! 13/10 for all https://t.co/eV1diwds8a                                                                                                         \n",
       "1662    This is Darrel. He just robbed a 7/11 and is in a high speed police chase. Was just spotted by the helicopter 10/10 https://t.co/7EsP8LmSp5                              \n",
       "2335    This is an Albanian 3 1/2 legged  Episcopalian. Loves well-polished hardwood flooring. Penis on the collar. 9/10 https://t.co/d9NcXFKwLv                                 \n",
       "Name: text, dtype: object"
      ]
     },
     "execution_count": 431,
     "metadata": {},
     "output_type": "execute_result"
    }
   ],
   "source": [
    "twitter_archive_df_clean[twitter_archive_df_clean['rating_denominator'] != 10 ].text"
   ]
  },
  {
   "cell_type": "code",
   "execution_count": 432,
   "metadata": {},
   "outputs": [],
   "source": [
    "# Get real value of `rating_numerator` and `rating_denominator` from `text` column for '9/11', '4/20', '7/11' and '1/2'\n",
    "twitter_archive_df_clean['rating_denominator'][1068] = 10\n",
    "twitter_archive_df_clean['rating_denominator'][1165] = 10\n",
    "twitter_archive_df_clean['rating_denominator'][1662] = 10\n",
    "twitter_archive_df_clean['rating_denominator'][2335] = 10\n",
    "\n",
    "twitter_archive_df_clean['rating_numerator'][1068] = 14\n",
    "twitter_archive_df_clean['rating_numerator'][1165] = 13\n",
    "twitter_archive_df_clean['rating_numerator'][1662] = 10\n",
    "twitter_archive_df_clean['rating_numerator'][2335] = 9"
   ]
  },
  {
   "cell_type": "code",
   "execution_count": 433,
   "metadata": {
    "scrolled": false
   },
   "outputs": [
    {
     "data": {
      "text/plain": [
       "7    1\n",
       "Name: rating_denominator, dtype: int64"
      ]
     },
     "execution_count": 433,
     "metadata": {},
     "output_type": "execute_result"
    }
   ],
   "source": [
    "twitter_archive_df_clean[twitter_archive_df_clean['rating_denominator'] != 10 ].rating_denominator.value_counts()"
   ]
  },
  {
   "cell_type": "code",
   "execution_count": 434,
   "metadata": {
    "scrolled": false
   },
   "outputs": [
    {
     "data": {
      "text/plain": [
       "420.0     1\n",
       "1776.0    1\n",
       "24.0      1\n",
       "Name: rating_numerator, dtype: int64"
      ]
     },
     "execution_count": 434,
     "metadata": {},
     "output_type": "execute_result"
    }
   ],
   "source": [
    "twitter_archive_df_clean[twitter_archive_df_clean['rating_numerator'] > 15 ].rating_numerator.value_counts()"
   ]
  },
  {
   "cell_type": "code",
   "execution_count": 435,
   "metadata": {
    "scrolled": false
   },
   "outputs": [
    {
     "data": {
      "text/plain": [
       "516     Meet Sam. She smiles 24/7 &amp; secretly aspires to be a reindeer. \\nKeep Sam smiling by clicking and sharing this link:\\nhttps://t.co/98tB8y7y7t https://t.co/LouL5vdvxx\n",
       "979     This is Atticus. He's quite simply America af. 1776/10 https://t.co/GRXwMxLBkh                                                                                           \n",
       "2074    After so many requests... here you go.\\n\\nGood dogg. 420/10 https://t.co/yfAAo1gdeY                                                                                      \n",
       "Name: text, dtype: object"
      ]
     },
     "execution_count": 435,
     "metadata": {},
     "output_type": "execute_result"
    }
   ],
   "source": [
    "twitter_archive_df_clean[twitter_archive_df_clean['rating_numerator'] > 15].text"
   ]
  },
  {
   "cell_type": "code",
   "execution_count": 436,
   "metadata": {},
   "outputs": [
    {
     "data": {
      "text/plain": [
       "[810984652412424192, 749981277374128128, 670842764863651840]"
      ]
     },
     "execution_count": 436,
     "metadata": {},
     "output_type": "execute_result"
    }
   ],
   "source": [
    "# Get tweet ids for all outliers\n",
    "outliers_ids = twitter_archive_df_clean['tweet_id'][twitter_archive_df_clean['rating_numerator'] > 15].tolist()\n",
    "outliers_ids"
   ]
  },
  {
   "cell_type": "markdown",
   "metadata": {},
   "source": [
    "#### Define\n",
    "- one variable in four columns.\n",
    "- Concatenate 4 columns in one column (`doggo`, `floofer`, `pupper`, `puppo`) to (`dog_stages`)"
   ]
  },
  {
   "cell_type": "markdown",
   "metadata": {},
   "source": [
    "#### Code"
   ]
  },
  {
   "cell_type": "code",
   "execution_count": 437,
   "metadata": {},
   "outputs": [],
   "source": [
    "# Replace all \"None\" value to empty string\n",
    "twitter_archive_df_clean.doggo.replace('None', \"\", inplace=True)\n",
    "twitter_archive_df_clean.floofer.replace('None', \"\", inplace=True)\n",
    "twitter_archive_df_clean.pupper.replace('None', \"\", inplace=True)\n",
    "twitter_archive_df_clean.puppo.replace('None', \"\", inplace=True)"
   ]
  },
  {
   "cell_type": "code",
   "execution_count": 438,
   "metadata": {},
   "outputs": [],
   "source": [
    "# Concatenate four columns in one column named `dog_stages`\n",
    "twitter_archive_df_clean['dog_stages'] = twitter_archive_df_clean['doggo'] + twitter_archive_df_clean['floofer'] + twitter_archive_df_clean['pupper'] + twitter_archive_df_clean['puppo']"
   ]
  },
  {
   "cell_type": "code",
   "execution_count": 439,
   "metadata": {},
   "outputs": [],
   "source": [
    "# Drop 4 columns in twitter_archive_df_clean dataset\n",
    "twitter_archive_df_clean.drop('doggo', axis='columns', inplace=True)\n",
    "twitter_archive_df_clean.drop('floofer', axis='columns', inplace=True)\n",
    "twitter_archive_df_clean.drop('pupper', axis='columns', inplace=True)\n",
    "twitter_archive_df_clean.drop('puppo', axis='columns', inplace=True)"
   ]
  },
  {
   "cell_type": "code",
   "execution_count": 440,
   "metadata": {},
   "outputs": [],
   "source": [
    "# Replace the empty strings with np.nan\n",
    "twitter_archive_df_clean.dog_stages.replace(\"\", np.nan, inplace=True)"
   ]
  },
  {
   "cell_type": "code",
   "execution_count": 441,
   "metadata": {},
   "outputs": [],
   "source": [
    "# Add separator between values that contain multiple stages.\n",
    "twitter_archive_df_clean.loc[twitter_archive_df_clean.dog_stages == 'doggopupper', 'dog_stages'] = 'doggo-pupper'\n",
    "twitter_archive_df_clean.loc[twitter_archive_df_clean.dog_stages == 'doggofloofer', 'dog_stages'] = 'doggo-floofer'\n",
    "twitter_archive_df_clean.loc[twitter_archive_df_clean.dog_stages == 'doggopuppo', 'dog_stages'] = 'doggo-puppo'"
   ]
  },
  {
   "cell_type": "markdown",
   "metadata": {},
   "source": [
    "#### Test"
   ]
  },
  {
   "cell_type": "code",
   "execution_count": 442,
   "metadata": {},
   "outputs": [
    {
     "data": {
      "text/plain": [
       "Index(['tweet_id', 'in_reply_to_status_id', 'in_reply_to_user_id', 'timestamp',\n",
       "       'source', 'text', 'retweeted_status_id', 'retweeted_status_user_id',\n",
       "       'retweeted_status_timestamp', 'expanded_urls', 'rating_numerator',\n",
       "       'rating_denominator', 'name', 'dog_stages'],\n",
       "      dtype='object')"
      ]
     },
     "execution_count": 442,
     "metadata": {},
     "output_type": "execute_result"
    }
   ],
   "source": [
    "# Get Columns name\n",
    "twitter_archive_df_clean.columns"
   ]
  },
  {
   "cell_type": "code",
   "execution_count": 443,
   "metadata": {},
   "outputs": [
    {
     "data": {
      "text/plain": [
       "pupper           201\n",
       "doggo            63 \n",
       "puppo            22 \n",
       "doggo-pupper     8  \n",
       "floofer          7  \n",
       "doggo-floofer    1  \n",
       "doggo-puppo      1  \n",
       "Name: dog_stages, dtype: int64"
      ]
     },
     "execution_count": 443,
     "metadata": {},
     "output_type": "execute_result"
    }
   ],
   "source": [
    "# Get dog_stage value\n",
    "twitter_archive_df_clean.dog_stages.value_counts()"
   ]
  },
  {
   "cell_type": "markdown",
   "metadata": {},
   "source": [
    "#### Define\n",
    "- Rename columns in *image_predictions_df_clean* dataset"
   ]
  },
  {
   "cell_type": "code",
   "execution_count": 444,
   "metadata": {},
   "outputs": [],
   "source": [
    "# Rename the image_predictions_df_clean dataset\n",
    "cols = ['tweet_id', 'jpg_url', 'img_num',\n",
    "       'prediction_1', 'confidence_1', 'breed_1',\n",
    "       'prediction_2', 'confidence_2', 'breed_2',\n",
    "       'prediction_3', 'confidence_3', 'breed_3']\n",
    "image_predictions_df_clean.columns = cols"
   ]
  },
  {
   "cell_type": "markdown",
   "metadata": {},
   "source": [
    "#### Test"
   ]
  },
  {
   "cell_type": "code",
   "execution_count": 445,
   "metadata": {},
   "outputs": [
    {
     "data": {
      "text/plain": [
       "Index(['tweet_id', 'jpg_url', 'img_num', 'prediction_1', 'confidence_1',\n",
       "       'breed_1', 'prediction_2', 'confidence_2', 'breed_2', 'prediction_3',\n",
       "       'confidence_3', 'breed_3'],\n",
       "      dtype='object')"
      ]
     },
     "execution_count": 445,
     "metadata": {},
     "output_type": "execute_result"
    }
   ],
   "source": [
    "# Get columns name\n",
    "image_predictions_df_clean.columns"
   ]
  },
  {
   "cell_type": "markdown",
   "metadata": {},
   "source": [
    "#### Define\n",
    "- Reshape the image_predictions_df_clean dataset using *wide_to_long*"
   ]
  },
  {
   "cell_type": "markdown",
   "metadata": {},
   "source": [
    "#### Code"
   ]
  },
  {
   "cell_type": "code",
   "execution_count": 446,
   "metadata": {},
   "outputs": [],
   "source": [
    "# Reshape the image_predictions_df_clean dataframe\n",
    "image_predictions_df_clean = pd.wide_to_long(image_predictions_df_clean, stubnames=['prediction', 'confidence', 'breed'],\n",
    "    i=['tweet_id', 'jpg_url', 'img_num'], j='prediction_level', sep=\"_\").reset_index()"
   ]
  },
  {
   "cell_type": "markdown",
   "metadata": {},
   "source": [
    "#### Test"
   ]
  },
  {
   "cell_type": "code",
   "execution_count": 447,
   "metadata": {
    "scrolled": true
   },
   "outputs": [
    {
     "data": {
      "text/html": [
       "<div>\n",
       "<style scoped>\n",
       "    .dataframe tbody tr th:only-of-type {\n",
       "        vertical-align: middle;\n",
       "    }\n",
       "\n",
       "    .dataframe tbody tr th {\n",
       "        vertical-align: top;\n",
       "    }\n",
       "\n",
       "    .dataframe thead th {\n",
       "        text-align: right;\n",
       "    }\n",
       "</style>\n",
       "<table border=\"1\" class=\"dataframe\">\n",
       "  <thead>\n",
       "    <tr style=\"text-align: right;\">\n",
       "      <th></th>\n",
       "      <th>tweet_id</th>\n",
       "      <th>jpg_url</th>\n",
       "      <th>img_num</th>\n",
       "      <th>prediction_level</th>\n",
       "      <th>prediction</th>\n",
       "      <th>confidence</th>\n",
       "      <th>breed</th>\n",
       "    </tr>\n",
       "  </thead>\n",
       "  <tbody>\n",
       "    <tr>\n",
       "      <th>0</th>\n",
       "      <td>666020888022790149</td>\n",
       "      <td>https://pbs.twimg.com/media/CT4udn0WwAA0aMy.jpg</td>\n",
       "      <td>1</td>\n",
       "      <td>1</td>\n",
       "      <td>Welsh_springer_spaniel</td>\n",
       "      <td>0.465074</td>\n",
       "      <td>True</td>\n",
       "    </tr>\n",
       "    <tr>\n",
       "      <th>1</th>\n",
       "      <td>666020888022790149</td>\n",
       "      <td>https://pbs.twimg.com/media/CT4udn0WwAA0aMy.jpg</td>\n",
       "      <td>1</td>\n",
       "      <td>2</td>\n",
       "      <td>collie</td>\n",
       "      <td>0.156665</td>\n",
       "      <td>True</td>\n",
       "    </tr>\n",
       "    <tr>\n",
       "      <th>2</th>\n",
       "      <td>666020888022790149</td>\n",
       "      <td>https://pbs.twimg.com/media/CT4udn0WwAA0aMy.jpg</td>\n",
       "      <td>1</td>\n",
       "      <td>3</td>\n",
       "      <td>Shetland_sheepdog</td>\n",
       "      <td>0.061428</td>\n",
       "      <td>True</td>\n",
       "    </tr>\n",
       "    <tr>\n",
       "      <th>3</th>\n",
       "      <td>666029285002620928</td>\n",
       "      <td>https://pbs.twimg.com/media/CT42GRgUYAA5iDo.jpg</td>\n",
       "      <td>1</td>\n",
       "      <td>1</td>\n",
       "      <td>redbone</td>\n",
       "      <td>0.506826</td>\n",
       "      <td>True</td>\n",
       "    </tr>\n",
       "    <tr>\n",
       "      <th>4</th>\n",
       "      <td>666029285002620928</td>\n",
       "      <td>https://pbs.twimg.com/media/CT42GRgUYAA5iDo.jpg</td>\n",
       "      <td>1</td>\n",
       "      <td>2</td>\n",
       "      <td>miniature_pinscher</td>\n",
       "      <td>0.074192</td>\n",
       "      <td>True</td>\n",
       "    </tr>\n",
       "  </tbody>\n",
       "</table>\n",
       "</div>"
      ],
      "text/plain": [
       "             tweet_id                                          jpg_url  \\\n",
       "0  666020888022790149  https://pbs.twimg.com/media/CT4udn0WwAA0aMy.jpg   \n",
       "1  666020888022790149  https://pbs.twimg.com/media/CT4udn0WwAA0aMy.jpg   \n",
       "2  666020888022790149  https://pbs.twimg.com/media/CT4udn0WwAA0aMy.jpg   \n",
       "3  666029285002620928  https://pbs.twimg.com/media/CT42GRgUYAA5iDo.jpg   \n",
       "4  666029285002620928  https://pbs.twimg.com/media/CT42GRgUYAA5iDo.jpg   \n",
       "\n",
       "   img_num  prediction_level              prediction  confidence  breed  \n",
       "0  1        1                 Welsh_springer_spaniel  0.465074    True   \n",
       "1  1        2                 collie                  0.156665    True   \n",
       "2  1        3                 Shetland_sheepdog       0.061428    True   \n",
       "3  1        1                 redbone                 0.506826    True   \n",
       "4  1        2                 miniature_pinscher      0.074192    True   "
      ]
     },
     "execution_count": 447,
     "metadata": {},
     "output_type": "execute_result"
    }
   ],
   "source": [
    "# Get the first 5 rows\n",
    "image_predictions_df_clean.head()"
   ]
  },
  {
   "cell_type": "markdown",
   "metadata": {},
   "source": [
    "#### Define\n",
    "- Drop the extra columns `in_reply_to_status_id`, `in_reply_to_user_id`, `retweeted_status_id`, `retweeted_status_user_id` and `retweeted_status_timestamp` in `twitter_archive_df_clean` dataset."
   ]
  },
  {
   "cell_type": "markdown",
   "metadata": {},
   "source": [
    "#### Code"
   ]
  },
  {
   "cell_type": "code",
   "execution_count": 448,
   "metadata": {},
   "outputs": [],
   "source": [
    "# Drop 5 columns in twitter_archive_df_clean dataset.\n",
    "twitter_archive_df_clean.drop('in_reply_to_status_id', axis='columns', inplace=True)\n",
    "twitter_archive_df_clean.drop('in_reply_to_user_id', axis='columns', inplace=True)\n",
    "twitter_archive_df_clean.drop('retweeted_status_id', axis='columns', inplace=True)\n",
    "twitter_archive_df_clean.drop('retweeted_status_user_id', axis='columns', inplace=True)\n",
    "twitter_archive_df_clean.drop('retweeted_status_timestamp', axis='columns', inplace=True)"
   ]
  },
  {
   "cell_type": "markdown",
   "metadata": {},
   "source": [
    "#### Test"
   ]
  },
  {
   "cell_type": "code",
   "execution_count": 449,
   "metadata": {},
   "outputs": [
    {
     "data": {
      "text/plain": [
       "Index(['tweet_id', 'timestamp', 'source', 'text', 'expanded_urls',\n",
       "       'rating_numerator', 'rating_denominator', 'name', 'dog_stages'],\n",
       "      dtype='object')"
      ]
     },
     "execution_count": 449,
     "metadata": {},
     "output_type": "execute_result"
    }
   ],
   "source": [
    "twitter_archive_df_clean.columns"
   ]
  },
  {
   "cell_type": "markdown",
   "metadata": {},
   "source": [
    "#### Define\n",
    "- Merge `api_df_clean` and `twitter_archive_df_clean` in one dataset `twitter_archive_master`"
   ]
  },
  {
   "cell_type": "markdown",
   "metadata": {},
   "source": [
    "#### Code"
   ]
  },
  {
   "cell_type": "code",
   "execution_count": 450,
   "metadata": {},
   "outputs": [],
   "source": [
    "twitter_archive_master = pd.merge(twitter_archive_df_clean, api_df_clean, how = 'inner', on = 'tweet_id')"
   ]
  },
  {
   "cell_type": "markdown",
   "metadata": {},
   "source": [
    "#### Test"
   ]
  },
  {
   "cell_type": "code",
   "execution_count": 451,
   "metadata": {
    "scrolled": true
   },
   "outputs": [
    {
     "data": {
      "text/html": [
       "<div>\n",
       "<style scoped>\n",
       "    .dataframe tbody tr th:only-of-type {\n",
       "        vertical-align: middle;\n",
       "    }\n",
       "\n",
       "    .dataframe tbody tr th {\n",
       "        vertical-align: top;\n",
       "    }\n",
       "\n",
       "    .dataframe thead th {\n",
       "        text-align: right;\n",
       "    }\n",
       "</style>\n",
       "<table border=\"1\" class=\"dataframe\">\n",
       "  <thead>\n",
       "    <tr style=\"text-align: right;\">\n",
       "      <th></th>\n",
       "      <th>tweet_id</th>\n",
       "      <th>timestamp</th>\n",
       "      <th>source</th>\n",
       "      <th>text</th>\n",
       "      <th>expanded_urls</th>\n",
       "      <th>rating_numerator</th>\n",
       "      <th>rating_denominator</th>\n",
       "      <th>name</th>\n",
       "      <th>dog_stages</th>\n",
       "      <th>retweet_count</th>\n",
       "      <th>favorite_count</th>\n",
       "    </tr>\n",
       "  </thead>\n",
       "  <tbody>\n",
       "    <tr>\n",
       "      <th>0</th>\n",
       "      <td>892420643555336193</td>\n",
       "      <td>2017-08-01 16:23:56</td>\n",
       "      <td>&lt;a href=\"http://twitter.com/download/iphone\" rel=\"nofollow\"&gt;Twitter for iPhone&lt;/a&gt;</td>\n",
       "      <td>This is Phineas. He's a mystical boy. Only ever appears in the hole of a donut. 13/10 https://t.co/MgUWQ76dJU</td>\n",
       "      <td>https://twitter.com/dog_rates/status/892420643555336193/photo/1</td>\n",
       "      <td>13.0</td>\n",
       "      <td>10</td>\n",
       "      <td>Phineas</td>\n",
       "      <td>NaN</td>\n",
       "      <td>7542</td>\n",
       "      <td>35563</td>\n",
       "    </tr>\n",
       "    <tr>\n",
       "      <th>1</th>\n",
       "      <td>892177421306343426</td>\n",
       "      <td>2017-08-01 00:17:27</td>\n",
       "      <td>&lt;a href=\"http://twitter.com/download/iphone\" rel=\"nofollow\"&gt;Twitter for iPhone&lt;/a&gt;</td>\n",
       "      <td>This is Tilly. She's just checking pup on you. Hopes you're doing ok. If not, she's available for pats, snugs, boops, the whole bit. 13/10 https://t.co/0Xxu71qeIV</td>\n",
       "      <td>https://twitter.com/dog_rates/status/892177421306343426/photo/1</td>\n",
       "      <td>13.0</td>\n",
       "      <td>10</td>\n",
       "      <td>Tilly</td>\n",
       "      <td>NaN</td>\n",
       "      <td>5591</td>\n",
       "      <td>30756</td>\n",
       "    </tr>\n",
       "    <tr>\n",
       "      <th>2</th>\n",
       "      <td>891815181378084864</td>\n",
       "      <td>2017-07-31 00:18:03</td>\n",
       "      <td>&lt;a href=\"http://twitter.com/download/iphone\" rel=\"nofollow\"&gt;Twitter for iPhone&lt;/a&gt;</td>\n",
       "      <td>This is Archie. He is a rare Norwegian Pouncing Corgo. Lives in the tall grass. You never know when one may strike. 12/10 https://t.co/wUnZnhtVJB</td>\n",
       "      <td>https://twitter.com/dog_rates/status/891815181378084864/photo/1</td>\n",
       "      <td>12.0</td>\n",
       "      <td>10</td>\n",
       "      <td>Archie</td>\n",
       "      <td>NaN</td>\n",
       "      <td>3705</td>\n",
       "      <td>23126</td>\n",
       "    </tr>\n",
       "    <tr>\n",
       "      <th>3</th>\n",
       "      <td>891689557279858688</td>\n",
       "      <td>2017-07-30 15:58:51</td>\n",
       "      <td>&lt;a href=\"http://twitter.com/download/iphone\" rel=\"nofollow\"&gt;Twitter for iPhone&lt;/a&gt;</td>\n",
       "      <td>This is Darla. She commenced a snooze mid meal. 13/10 happens to the best of us https://t.co/tD36da7qLQ</td>\n",
       "      <td>https://twitter.com/dog_rates/status/891689557279858688/photo/1</td>\n",
       "      <td>13.0</td>\n",
       "      <td>10</td>\n",
       "      <td>Darla</td>\n",
       "      <td>NaN</td>\n",
       "      <td>7723</td>\n",
       "      <td>38878</td>\n",
       "    </tr>\n",
       "    <tr>\n",
       "      <th>4</th>\n",
       "      <td>891327558926688256</td>\n",
       "      <td>2017-07-29 16:00:24</td>\n",
       "      <td>&lt;a href=\"http://twitter.com/download/iphone\" rel=\"nofollow\"&gt;Twitter for iPhone&lt;/a&gt;</td>\n",
       "      <td>This is Franklin. He would like you to stop calling him \"cute.\" He is a very fierce shark and should be respected as such. 12/10 #BarkWeek https://t.co/AtUZn91f7f</td>\n",
       "      <td>https://twitter.com/dog_rates/status/891327558926688256/photo/1,https://twitter.com/dog_rates/status/891327558926688256/photo/1</td>\n",
       "      <td>12.0</td>\n",
       "      <td>10</td>\n",
       "      <td>Franklin</td>\n",
       "      <td>NaN</td>\n",
       "      <td>8322</td>\n",
       "      <td>37136</td>\n",
       "    </tr>\n",
       "  </tbody>\n",
       "</table>\n",
       "</div>"
      ],
      "text/plain": [
       "             tweet_id           timestamp  \\\n",
       "0  892420643555336193 2017-08-01 16:23:56   \n",
       "1  892177421306343426 2017-08-01 00:17:27   \n",
       "2  891815181378084864 2017-07-31 00:18:03   \n",
       "3  891689557279858688 2017-07-30 15:58:51   \n",
       "4  891327558926688256 2017-07-29 16:00:24   \n",
       "\n",
       "                                                                               source  \\\n",
       "0  <a href=\"http://twitter.com/download/iphone\" rel=\"nofollow\">Twitter for iPhone</a>   \n",
       "1  <a href=\"http://twitter.com/download/iphone\" rel=\"nofollow\">Twitter for iPhone</a>   \n",
       "2  <a href=\"http://twitter.com/download/iphone\" rel=\"nofollow\">Twitter for iPhone</a>   \n",
       "3  <a href=\"http://twitter.com/download/iphone\" rel=\"nofollow\">Twitter for iPhone</a>   \n",
       "4  <a href=\"http://twitter.com/download/iphone\" rel=\"nofollow\">Twitter for iPhone</a>   \n",
       "\n",
       "                                                                                                                                                                 text  \\\n",
       "0  This is Phineas. He's a mystical boy. Only ever appears in the hole of a donut. 13/10 https://t.co/MgUWQ76dJU                                                        \n",
       "1  This is Tilly. She's just checking pup on you. Hopes you're doing ok. If not, she's available for pats, snugs, boops, the whole bit. 13/10 https://t.co/0Xxu71qeIV   \n",
       "2  This is Archie. He is a rare Norwegian Pouncing Corgo. Lives in the tall grass. You never know when one may strike. 12/10 https://t.co/wUnZnhtVJB                    \n",
       "3  This is Darla. She commenced a snooze mid meal. 13/10 happens to the best of us https://t.co/tD36da7qLQ                                                              \n",
       "4  This is Franklin. He would like you to stop calling him \"cute.\" He is a very fierce shark and should be respected as such. 12/10 #BarkWeek https://t.co/AtUZn91f7f   \n",
       "\n",
       "                                                                                                                     expanded_urls  \\\n",
       "0  https://twitter.com/dog_rates/status/892420643555336193/photo/1                                                                   \n",
       "1  https://twitter.com/dog_rates/status/892177421306343426/photo/1                                                                   \n",
       "2  https://twitter.com/dog_rates/status/891815181378084864/photo/1                                                                   \n",
       "3  https://twitter.com/dog_rates/status/891689557279858688/photo/1                                                                   \n",
       "4  https://twitter.com/dog_rates/status/891327558926688256/photo/1,https://twitter.com/dog_rates/status/891327558926688256/photo/1   \n",
       "\n",
       "   rating_numerator  rating_denominator      name dog_stages  retweet_count  \\\n",
       "0  13.0              10                  Phineas   NaN        7542            \n",
       "1  13.0              10                  Tilly     NaN        5591            \n",
       "2  12.0              10                  Archie    NaN        3705            \n",
       "3  13.0              10                  Darla     NaN        7723            \n",
       "4  12.0              10                  Franklin  NaN        8322            \n",
       "\n",
       "   favorite_count  \n",
       "0  35563           \n",
       "1  30756           \n",
       "2  23126           \n",
       "3  38878           \n",
       "4  37136           "
      ]
     },
     "execution_count": 451,
     "metadata": {},
     "output_type": "execute_result"
    }
   ],
   "source": [
    "twitter_archive_master.head()"
   ]
  },
  {
   "cell_type": "code",
   "execution_count": 126,
   "metadata": {},
   "outputs": [
    {
     "data": {
      "text/plain": [
       "(1964, 11)"
      ]
     },
     "execution_count": 126,
     "metadata": {},
     "output_type": "execute_result"
    }
   ],
   "source": [
    "twitter_archive_master.shape"
   ]
  },
  {
   "cell_type": "code",
   "execution_count": 476,
   "metadata": {},
   "outputs": [],
   "source": [
    "# Save twitter_archive_master dataframe as csv\n",
    "twitter_archive_master.to_csv(\"twitter_archive_master.csv\", index=False)\n",
    "\n",
    "# Save image_predictions_df_clean dataframe as csv\n",
    "image_predictions_df_clean.to_csv(\"image_predictions_master.csv\", index=False)"
   ]
  },
  {
   "cell_type": "code",
   "execution_count": 11,
   "metadata": {},
   "outputs": [],
   "source": [
    "# Read twitter_archive_master and image_predictions_master\n",
    "twitter_archive_master_df = pd.read_csv('twitter_archive_master.csv', index_col='timestamp', parse_dates=True)\n",
    "image_predictions_master_df = pd.read_csv('image_predictions_master.csv')"
   ]
  },
  {
   "cell_type": "code",
   "execution_count": 6,
   "metadata": {
    "scrolled": false
   },
   "outputs": [
    {
     "name": "stdout",
     "output_type": "stream",
     "text": [
      "<class 'pandas.core.frame.DataFrame'>\n",
      "DatetimeIndex: 1964 entries, 2017-08-01 16:23:56 to 2015-11-15 22:32:08\n",
      "Data columns (total 10 columns):\n",
      " #   Column              Non-Null Count  Dtype  \n",
      "---  ------              --------------  -----  \n",
      " 0   tweet_id            1964 non-null   int64  \n",
      " 1   source              1964 non-null   object \n",
      " 2   text                1964 non-null   object \n",
      " 3   expanded_urls       1964 non-null   object \n",
      " 4   rating_numerator    1964 non-null   float64\n",
      " 5   rating_denominator  1964 non-null   int64  \n",
      " 6   name                1364 non-null   object \n",
      " 7   dog_stages          302 non-null    object \n",
      " 8   retweet_count       1964 non-null   int64  \n",
      " 9   favorite_count      1964 non-null   int64  \n",
      "dtypes: float64(1), int64(4), object(5)\n",
      "memory usage: 168.8+ KB\n"
     ]
    }
   ],
   "source": [
    "twitter_archive_master_df.info()"
   ]
  },
  {
   "cell_type": "code",
   "execution_count": 479,
   "metadata": {
    "scrolled": false
   },
   "outputs": [
    {
     "data": {
      "text/html": [
       "<div>\n",
       "<style scoped>\n",
       "    .dataframe tbody tr th:only-of-type {\n",
       "        vertical-align: middle;\n",
       "    }\n",
       "\n",
       "    .dataframe tbody tr th {\n",
       "        vertical-align: top;\n",
       "    }\n",
       "\n",
       "    .dataframe thead th {\n",
       "        text-align: right;\n",
       "    }\n",
       "</style>\n",
       "<table border=\"1\" class=\"dataframe\">\n",
       "  <thead>\n",
       "    <tr style=\"text-align: right;\">\n",
       "      <th></th>\n",
       "      <th>tweet_id</th>\n",
       "      <th>source</th>\n",
       "      <th>text</th>\n",
       "      <th>expanded_urls</th>\n",
       "      <th>rating_numerator</th>\n",
       "      <th>rating_denominator</th>\n",
       "      <th>name</th>\n",
       "      <th>dog_stages</th>\n",
       "      <th>retweet_count</th>\n",
       "      <th>favorite_count</th>\n",
       "    </tr>\n",
       "    <tr>\n",
       "      <th>timestamp</th>\n",
       "      <th></th>\n",
       "      <th></th>\n",
       "      <th></th>\n",
       "      <th></th>\n",
       "      <th></th>\n",
       "      <th></th>\n",
       "      <th></th>\n",
       "      <th></th>\n",
       "      <th></th>\n",
       "      <th></th>\n",
       "    </tr>\n",
       "  </thead>\n",
       "  <tbody>\n",
       "    <tr>\n",
       "      <th>2017-08-01 16:23:56</th>\n",
       "      <td>892420643555336193</td>\n",
       "      <td>&lt;a href=\"http://twitter.com/download/iphone\" rel=\"nofollow\"&gt;Twitter for iPhone&lt;/a&gt;</td>\n",
       "      <td>This is Phineas. He's a mystical boy. Only ever appears in the hole of a donut. 13/10 https://t.co/MgUWQ76dJU</td>\n",
       "      <td>https://twitter.com/dog_rates/status/892420643555336193/photo/1</td>\n",
       "      <td>13.0</td>\n",
       "      <td>10</td>\n",
       "      <td>Phineas</td>\n",
       "      <td>NaN</td>\n",
       "      <td>7542</td>\n",
       "      <td>35563</td>\n",
       "    </tr>\n",
       "    <tr>\n",
       "      <th>2017-08-01 00:17:27</th>\n",
       "      <td>892177421306343426</td>\n",
       "      <td>&lt;a href=\"http://twitter.com/download/iphone\" rel=\"nofollow\"&gt;Twitter for iPhone&lt;/a&gt;</td>\n",
       "      <td>This is Tilly. She's just checking pup on you. Hopes you're doing ok. If not, she's available for pats, snugs, boops, the whole bit. 13/10 https://t.co/0Xxu71qeIV</td>\n",
       "      <td>https://twitter.com/dog_rates/status/892177421306343426/photo/1</td>\n",
       "      <td>13.0</td>\n",
       "      <td>10</td>\n",
       "      <td>Tilly</td>\n",
       "      <td>NaN</td>\n",
       "      <td>5591</td>\n",
       "      <td>30756</td>\n",
       "    </tr>\n",
       "    <tr>\n",
       "      <th>2017-07-31 00:18:03</th>\n",
       "      <td>891815181378084864</td>\n",
       "      <td>&lt;a href=\"http://twitter.com/download/iphone\" rel=\"nofollow\"&gt;Twitter for iPhone&lt;/a&gt;</td>\n",
       "      <td>This is Archie. He is a rare Norwegian Pouncing Corgo. Lives in the tall grass. You never know when one may strike. 12/10 https://t.co/wUnZnhtVJB</td>\n",
       "      <td>https://twitter.com/dog_rates/status/891815181378084864/photo/1</td>\n",
       "      <td>12.0</td>\n",
       "      <td>10</td>\n",
       "      <td>Archie</td>\n",
       "      <td>NaN</td>\n",
       "      <td>3705</td>\n",
       "      <td>23126</td>\n",
       "    </tr>\n",
       "    <tr>\n",
       "      <th>2017-07-30 15:58:51</th>\n",
       "      <td>891689557279858688</td>\n",
       "      <td>&lt;a href=\"http://twitter.com/download/iphone\" rel=\"nofollow\"&gt;Twitter for iPhone&lt;/a&gt;</td>\n",
       "      <td>This is Darla. She commenced a snooze mid meal. 13/10 happens to the best of us https://t.co/tD36da7qLQ</td>\n",
       "      <td>https://twitter.com/dog_rates/status/891689557279858688/photo/1</td>\n",
       "      <td>13.0</td>\n",
       "      <td>10</td>\n",
       "      <td>Darla</td>\n",
       "      <td>NaN</td>\n",
       "      <td>7723</td>\n",
       "      <td>38878</td>\n",
       "    </tr>\n",
       "    <tr>\n",
       "      <th>2017-07-29 16:00:24</th>\n",
       "      <td>891327558926688256</td>\n",
       "      <td>&lt;a href=\"http://twitter.com/download/iphone\" rel=\"nofollow\"&gt;Twitter for iPhone&lt;/a&gt;</td>\n",
       "      <td>This is Franklin. He would like you to stop calling him \"cute.\" He is a very fierce shark and should be respected as such. 12/10 #BarkWeek https://t.co/AtUZn91f7f</td>\n",
       "      <td>https://twitter.com/dog_rates/status/891327558926688256/photo/1,https://twitter.com/dog_rates/status/891327558926688256/photo/1</td>\n",
       "      <td>12.0</td>\n",
       "      <td>10</td>\n",
       "      <td>Franklin</td>\n",
       "      <td>NaN</td>\n",
       "      <td>8322</td>\n",
       "      <td>37136</td>\n",
       "    </tr>\n",
       "  </tbody>\n",
       "</table>\n",
       "</div>"
      ],
      "text/plain": [
       "                               tweet_id  \\\n",
       "timestamp                                 \n",
       "2017-08-01 16:23:56  892420643555336193   \n",
       "2017-08-01 00:17:27  892177421306343426   \n",
       "2017-07-31 00:18:03  891815181378084864   \n",
       "2017-07-30 15:58:51  891689557279858688   \n",
       "2017-07-29 16:00:24  891327558926688256   \n",
       "\n",
       "                                                                                                 source  \\\n",
       "timestamp                                                                                                 \n",
       "2017-08-01 16:23:56  <a href=\"http://twitter.com/download/iphone\" rel=\"nofollow\">Twitter for iPhone</a>   \n",
       "2017-08-01 00:17:27  <a href=\"http://twitter.com/download/iphone\" rel=\"nofollow\">Twitter for iPhone</a>   \n",
       "2017-07-31 00:18:03  <a href=\"http://twitter.com/download/iphone\" rel=\"nofollow\">Twitter for iPhone</a>   \n",
       "2017-07-30 15:58:51  <a href=\"http://twitter.com/download/iphone\" rel=\"nofollow\">Twitter for iPhone</a>   \n",
       "2017-07-29 16:00:24  <a href=\"http://twitter.com/download/iphone\" rel=\"nofollow\">Twitter for iPhone</a>   \n",
       "\n",
       "                                                                                                                                                                                   text  \\\n",
       "timestamp                                                                                                                                                                                 \n",
       "2017-08-01 16:23:56  This is Phineas. He's a mystical boy. Only ever appears in the hole of a donut. 13/10 https://t.co/MgUWQ76dJU                                                        \n",
       "2017-08-01 00:17:27  This is Tilly. She's just checking pup on you. Hopes you're doing ok. If not, she's available for pats, snugs, boops, the whole bit. 13/10 https://t.co/0Xxu71qeIV   \n",
       "2017-07-31 00:18:03  This is Archie. He is a rare Norwegian Pouncing Corgo. Lives in the tall grass. You never know when one may strike. 12/10 https://t.co/wUnZnhtVJB                    \n",
       "2017-07-30 15:58:51  This is Darla. She commenced a snooze mid meal. 13/10 happens to the best of us https://t.co/tD36da7qLQ                                                              \n",
       "2017-07-29 16:00:24  This is Franklin. He would like you to stop calling him \"cute.\" He is a very fierce shark and should be respected as such. 12/10 #BarkWeek https://t.co/AtUZn91f7f   \n",
       "\n",
       "                                                                                                                                       expanded_urls  \\\n",
       "timestamp                                                                                                                                              \n",
       "2017-08-01 16:23:56  https://twitter.com/dog_rates/status/892420643555336193/photo/1                                                                   \n",
       "2017-08-01 00:17:27  https://twitter.com/dog_rates/status/892177421306343426/photo/1                                                                   \n",
       "2017-07-31 00:18:03  https://twitter.com/dog_rates/status/891815181378084864/photo/1                                                                   \n",
       "2017-07-30 15:58:51  https://twitter.com/dog_rates/status/891689557279858688/photo/1                                                                   \n",
       "2017-07-29 16:00:24  https://twitter.com/dog_rates/status/891327558926688256/photo/1,https://twitter.com/dog_rates/status/891327558926688256/photo/1   \n",
       "\n",
       "                     rating_numerator  rating_denominator      name  \\\n",
       "timestamp                                                             \n",
       "2017-08-01 16:23:56  13.0              10                  Phineas    \n",
       "2017-08-01 00:17:27  13.0              10                  Tilly      \n",
       "2017-07-31 00:18:03  12.0              10                  Archie     \n",
       "2017-07-30 15:58:51  13.0              10                  Darla      \n",
       "2017-07-29 16:00:24  12.0              10                  Franklin   \n",
       "\n",
       "                    dog_stages  retweet_count  favorite_count  \n",
       "timestamp                                                      \n",
       "2017-08-01 16:23:56  NaN        7542           35563           \n",
       "2017-08-01 00:17:27  NaN        5591           30756           \n",
       "2017-07-31 00:18:03  NaN        3705           23126           \n",
       "2017-07-30 15:58:51  NaN        7723           38878           \n",
       "2017-07-29 16:00:24  NaN        8322           37136           "
      ]
     },
     "execution_count": 479,
     "metadata": {},
     "output_type": "execute_result"
    }
   ],
   "source": [
    "twitter_archive_master_df.head()"
   ]
  },
  {
   "cell_type": "code",
   "execution_count": 480,
   "metadata": {},
   "outputs": [
    {
     "data": {
      "text/plain": [
       "DatetimeIndex(['2017-08-01 16:23:56', '2017-08-01 00:17:27',\n",
       "               '2017-07-31 00:18:03', '2017-07-30 15:58:51',\n",
       "               '2017-07-29 16:00:24', '2017-07-29 00:08:17',\n",
       "               '2017-07-28 16:27:12', '2017-07-28 00:22:40',\n",
       "               '2017-07-27 16:25:51', '2017-07-26 15:59:51',\n",
       "               ...\n",
       "               '2015-11-16 01:01:59', '2015-11-16 00:55:59',\n",
       "               '2015-11-16 00:49:46', '2015-11-16 00:35:11',\n",
       "               '2015-11-16 00:30:50', '2015-11-16 00:24:50',\n",
       "               '2015-11-16 00:04:52', '2015-11-15 23:21:54',\n",
       "               '2015-11-15 23:05:30', '2015-11-15 22:32:08'],\n",
       "              dtype='datetime64[ns]', name='timestamp', length=1964, freq=None)"
      ]
     },
     "execution_count": 480,
     "metadata": {},
     "output_type": "execute_result"
    }
   ],
   "source": [
    "twitter_archive_master_df.index"
   ]
  },
  {
   "cell_type": "code",
   "execution_count": 481,
   "metadata": {
    "scrolled": true
   },
   "outputs": [
    {
     "name": "stdout",
     "output_type": "stream",
     "text": [
      "Int64Index([2017, 2017, 2017, 2017, 2017, 2017, 2017, 2017, 2017, 2017,\n",
      "            ...\n",
      "            2015, 2015, 2015, 2015, 2015, 2015, 2015, 2015, 2015, 2015],\n",
      "           dtype='int64', name='timestamp', length=1964)\n",
      "Int64Index([ 8,  8,  7,  7,  7,  7,  7,  7,  7,  7,\n",
      "            ...\n",
      "            11, 11, 11, 11, 11, 11, 11, 11, 11, 11],\n",
      "           dtype='int64', name='timestamp', length=1964)\n"
     ]
    }
   ],
   "source": [
    "print(twitter_archive_master_df.index.year)\n",
    "print(twitter_archive_master_df.index.month)"
   ]
  },
  {
   "cell_type": "code",
   "execution_count": 14,
   "metadata": {
    "scrolled": false
   },
   "outputs": [
    {
     "data": {
      "text/plain": [
       "76180"
      ]
     },
     "execution_count": 14,
     "metadata": {},
     "output_type": "execute_result"
    }
   ],
   "source": [
    "# Get the tweet that has the most retweets\n",
    "twitter_archive_master_df.retweet_count.max()"
   ]
  },
  {
   "cell_type": "code",
   "execution_count": 16,
   "metadata": {},
   "outputs": [
    {
     "data": {
      "text/plain": [
       "153545"
      ]
     },
     "execution_count": 16,
     "metadata": {},
     "output_type": "execute_result"
    }
   ],
   "source": [
    "# Get the tweet that has the most favorites\n",
    "twitter_archive_master_df.favorite_count.max()"
   ]
  },
  {
   "cell_type": "code",
   "execution_count": 15,
   "metadata": {},
   "outputs": [
    {
     "data": {
      "text/html": [
       "<div>\n",
       "<style scoped>\n",
       "    .dataframe tbody tr th:only-of-type {\n",
       "        vertical-align: middle;\n",
       "    }\n",
       "\n",
       "    .dataframe tbody tr th {\n",
       "        vertical-align: top;\n",
       "    }\n",
       "\n",
       "    .dataframe thead th {\n",
       "        text-align: right;\n",
       "    }\n",
       "</style>\n",
       "<table border=\"1\" class=\"dataframe\">\n",
       "  <thead>\n",
       "    <tr style=\"text-align: right;\">\n",
       "      <th></th>\n",
       "      <th>tweet_id</th>\n",
       "      <th>source</th>\n",
       "      <th>text</th>\n",
       "      <th>expanded_urls</th>\n",
       "      <th>rating_numerator</th>\n",
       "      <th>rating_denominator</th>\n",
       "      <th>name</th>\n",
       "      <th>dog_stages</th>\n",
       "      <th>retweet_count</th>\n",
       "      <th>favorite_count</th>\n",
       "    </tr>\n",
       "    <tr>\n",
       "      <th>timestamp</th>\n",
       "      <th></th>\n",
       "      <th></th>\n",
       "      <th></th>\n",
       "      <th></th>\n",
       "      <th></th>\n",
       "      <th></th>\n",
       "      <th></th>\n",
       "      <th></th>\n",
       "      <th></th>\n",
       "      <th></th>\n",
       "    </tr>\n",
       "  </thead>\n",
       "  <tbody>\n",
       "    <tr>\n",
       "      <th>2016-06-18 18:26:18</th>\n",
       "      <td>744234799360020481</td>\n",
       "      <td>&lt;a href=\"http://twitter.com/download/iphone\" rel=\"nofollow\"&gt;Twitter for iPhone&lt;/a&gt;</td>\n",
       "      <td>Here's a doggo realizing you can stand in a pool. 13/10 enlightened af (vid by Tina Conrad) https://t.co/7wE9LTEXC4</td>\n",
       "      <td>https://twitter.com/dog_rates/status/744234799360020481/video/1</td>\n",
       "      <td>13.0</td>\n",
       "      <td>10</td>\n",
       "      <td>NaN</td>\n",
       "      <td>doggo</td>\n",
       "      <td>76180</td>\n",
       "      <td>153545</td>\n",
       "    </tr>\n",
       "  </tbody>\n",
       "</table>\n",
       "</div>"
      ],
      "text/plain": [
       "                               tweet_id  \\\n",
       "timestamp                                 \n",
       "2016-06-18 18:26:18  744234799360020481   \n",
       "\n",
       "                                                                                                 source  \\\n",
       "timestamp                                                                                                 \n",
       "2016-06-18 18:26:18  <a href=\"http://twitter.com/download/iphone\" rel=\"nofollow\">Twitter for iPhone</a>   \n",
       "\n",
       "                                                                                                                                    text  \\\n",
       "timestamp                                                                                                                                  \n",
       "2016-06-18 18:26:18  Here's a doggo realizing you can stand in a pool. 13/10 enlightened af (vid by Tina Conrad) https://t.co/7wE9LTEXC4   \n",
       "\n",
       "                                                                       expanded_urls  \\\n",
       "timestamp                                                                              \n",
       "2016-06-18 18:26:18  https://twitter.com/dog_rates/status/744234799360020481/video/1   \n",
       "\n",
       "                     rating_numerator  rating_denominator name dog_stages  \\\n",
       "timestamp                                                                   \n",
       "2016-06-18 18:26:18  13.0              10                  NaN  doggo       \n",
       "\n",
       "                     retweet_count  favorite_count  \n",
       "timestamp                                           \n",
       "2016-06-18 18:26:18  76180          153545          "
      ]
     },
     "execution_count": 15,
     "metadata": {},
     "output_type": "execute_result"
    }
   ],
   "source": [
    "twitter_archive_master_df[twitter_archive_master_df.retweet_count == 76180]"
   ]
  },
  {
   "cell_type": "code",
   "execution_count": 17,
   "metadata": {},
   "outputs": [
    {
     "data": {
      "text/html": [
       "<div>\n",
       "<style scoped>\n",
       "    .dataframe tbody tr th:only-of-type {\n",
       "        vertical-align: middle;\n",
       "    }\n",
       "\n",
       "    .dataframe tbody tr th {\n",
       "        vertical-align: top;\n",
       "    }\n",
       "\n",
       "    .dataframe thead th {\n",
       "        text-align: right;\n",
       "    }\n",
       "</style>\n",
       "<table border=\"1\" class=\"dataframe\">\n",
       "  <thead>\n",
       "    <tr style=\"text-align: right;\">\n",
       "      <th></th>\n",
       "      <th>tweet_id</th>\n",
       "      <th>source</th>\n",
       "      <th>text</th>\n",
       "      <th>expanded_urls</th>\n",
       "      <th>rating_numerator</th>\n",
       "      <th>rating_denominator</th>\n",
       "      <th>name</th>\n",
       "      <th>dog_stages</th>\n",
       "      <th>retweet_count</th>\n",
       "      <th>favorite_count</th>\n",
       "    </tr>\n",
       "    <tr>\n",
       "      <th>timestamp</th>\n",
       "      <th></th>\n",
       "      <th></th>\n",
       "      <th></th>\n",
       "      <th></th>\n",
       "      <th></th>\n",
       "      <th></th>\n",
       "      <th></th>\n",
       "      <th></th>\n",
       "      <th></th>\n",
       "      <th></th>\n",
       "    </tr>\n",
       "  </thead>\n",
       "  <tbody>\n",
       "    <tr>\n",
       "      <th>2016-06-18 18:26:18</th>\n",
       "      <td>744234799360020481</td>\n",
       "      <td>&lt;a href=\"http://twitter.com/download/iphone\" rel=\"nofollow\"&gt;Twitter for iPhone&lt;/a&gt;</td>\n",
       "      <td>Here's a doggo realizing you can stand in a pool. 13/10 enlightened af (vid by Tina Conrad) https://t.co/7wE9LTEXC4</td>\n",
       "      <td>https://twitter.com/dog_rates/status/744234799360020481/video/1</td>\n",
       "      <td>13.0</td>\n",
       "      <td>10</td>\n",
       "      <td>NaN</td>\n",
       "      <td>doggo</td>\n",
       "      <td>76180</td>\n",
       "      <td>153545</td>\n",
       "    </tr>\n",
       "  </tbody>\n",
       "</table>\n",
       "</div>"
      ],
      "text/plain": [
       "                               tweet_id  \\\n",
       "timestamp                                 \n",
       "2016-06-18 18:26:18  744234799360020481   \n",
       "\n",
       "                                                                                                 source  \\\n",
       "timestamp                                                                                                 \n",
       "2016-06-18 18:26:18  <a href=\"http://twitter.com/download/iphone\" rel=\"nofollow\">Twitter for iPhone</a>   \n",
       "\n",
       "                                                                                                                                    text  \\\n",
       "timestamp                                                                                                                                  \n",
       "2016-06-18 18:26:18  Here's a doggo realizing you can stand in a pool. 13/10 enlightened af (vid by Tina Conrad) https://t.co/7wE9LTEXC4   \n",
       "\n",
       "                                                                       expanded_urls  \\\n",
       "timestamp                                                                              \n",
       "2016-06-18 18:26:18  https://twitter.com/dog_rates/status/744234799360020481/video/1   \n",
       "\n",
       "                     rating_numerator  rating_denominator name dog_stages  \\\n",
       "timestamp                                                                   \n",
       "2016-06-18 18:26:18  13.0              10                  NaN  doggo       \n",
       "\n",
       "                     retweet_count  favorite_count  \n",
       "timestamp                                           \n",
       "2016-06-18 18:26:18  76180          153545          "
      ]
     },
     "execution_count": 17,
     "metadata": {},
     "output_type": "execute_result"
    }
   ],
   "source": [
    "twitter_archive_master_df[twitter_archive_master_df.favorite_count == 153545]"
   ]
  },
  {
   "cell_type": "code",
   "execution_count": 7,
   "metadata": {
    "scrolled": true
   },
   "outputs": [
    {
     "name": "stdout",
     "output_type": "stream",
     "text": [
      "timestamp\n",
      "2015-12-31    927.371560 \n",
      "2016-03-31    1379.933673\n",
      "2016-06-30    2587.068783\n",
      "2016-09-30    2749.807692\n",
      "2016-12-31    4208.456140\n",
      "2017-03-31    4520.994253\n",
      "2017-06-30    5901.720000\n",
      "2017-09-30    6030.333333\n",
      "Freq: Q-DEC, Name: retweet_count, dtype: float64\n",
      "------------------------------------------------------------------------------------------------------------------------\n",
      "timestamp\n",
      "2015-12-31    2271.732416 \n",
      "2016-03-31    3886.533163 \n",
      "2016-06-30    6992.164021 \n",
      "2016-09-30    8381.682692 \n",
      "2016-12-31    13370.549708\n",
      "2017-03-31    17581.252874\n",
      "2017-06-30    25188.744000\n",
      "2017-09-30    29516.294118\n",
      "Freq: Q-DEC, Name: favorite_count, dtype: float64\n"
     ]
    }
   ],
   "source": [
    "# Calculate the average monthly Retweet Count for each the quarter.\n",
    "avg_retweet_count_resample = twitter_archive_master_df.retweet_count.resample('Q').mean()\n",
    "\n",
    "# Calculate the average monthly Favorite Count each for the quarter.\n",
    "avg_favorite_count_resample = twitter_archive_master_df.favorite_count.resample('Q').mean()\n",
    "\n",
    "print(avg_retweet_count_resample)\n",
    "print('---'*40)\n",
    "print(avg_favorite_count_resample)"
   ]
  },
  {
   "cell_type": "code",
   "execution_count": 8,
   "metadata": {},
   "outputs": [
    {
     "data": {
      "text/plain": [
       "<matplotlib.legend.Legend at 0x21568638ca0>"
      ]
     },
     "execution_count": 8,
     "metadata": {},
     "output_type": "execute_result"
    },
    {
     "data": {
      "image/png": "[encoded data removed]",
      "text/plain": [
       "<Figure size 720x432 with 1 Axes>"
      ]
     },
     "metadata": {},
     "output_type": "display_data"
    }
   ],
   "source": [
    "avg_retweet_count_resample.plot(label='Retweet Count')\n",
    "avg_favorite_count_resample.plot(label='Favorite Count')\n",
    "\n",
    "# title and labels\n",
    "plt.ylabel('Average Count')\n",
    "plt.xlabel('Date')\n",
    "plt.title('Trend of Retweets and Favorites over Time')\n",
    "# Save graph image\n",
    "plt.savefig(\"images/Trend_Retweets_Favorites.jpg\")\n",
    "# legend\n",
    "plt.legend()"
   ]
  },
  {
   "cell_type": "markdown",
   "metadata": {},
   "source": [
    "- We see that there are more favorites than retweets. The favorite count increases strongly, the retweet count seems increases slowly."
   ]
  },
  {
   "cell_type": "code",
   "execution_count": 9,
   "metadata": {
    "scrolled": true
   },
   "outputs": [
    {
     "data": {
      "image/png": "[encoded data removed]",
      "text/plain": [
       "<Figure size 720x432 with 1 Axes>"
      ]
     },
     "metadata": {},
     "output_type": "display_data"
    }
   ],
   "source": [
    "# The 10 most frequent distribution about dog breed inside level 1 (Algorithm #1).\n",
    "merged_p1_df = twitter_archive_master_df.merge(image_predictions_master_df[image_predictions_master_df.prediction_level == 1],\n",
    "         on='tweet_id', how='inner')\n",
    "top_breed = merged_p1_df.prediction.value_counts().head(10).sort_values(ascending=True)\n",
    "top_breed.plot(kind='barh')\n",
    "plt.title('The 10 Most Frequent Dog\\'s Breed - Algorithm #1')\n",
    "plt.xlabel('Count');\n",
    "plt.ylabel('Dog\\'s Breed');\n",
    "# Save graph image\n",
    "plt.savefig(\"images/Most_Frequent_Dogs_Breed_P1.jpg\")"
   ]
  },
  {
   "cell_type": "code",
   "execution_count": 10,
   "metadata": {},
   "outputs": [
    {
     "data": {
      "image/png": "[encoded data removed]",
      "text/plain": [
       "<Figure size 720x432 with 1 Axes>"
      ]
     },
     "metadata": {},
     "output_type": "display_data"
    }
   ],
   "source": [
    "# The 10 most frequent distribution about dog breed inside level 2 (Algorithm #2).\n",
    "merged_p2_df = twitter_archive_master_df.merge(image_predictions_master_df[image_predictions_master_df.prediction_level == 2],\n",
    "         on='tweet_id', how='inner')\n",
    "top_breed = merged_p2_df.prediction.value_counts().head(10).sort_values(ascending=True)\n",
    "top_breed.plot(kind='barh')\n",
    "plt.title('The 10 Most Frequent Dog\\'s Breed - Algorithm #2')\n",
    "plt.xlabel('Count');\n",
    "plt.ylabel('Dog\\'s Breed');\n",
    "# Save graph image\n",
    "plt.savefig(\"images/Most_Frequent_Dogs_Breed_P2.jpg\")"
   ]
  },
  {
   "cell_type": "code",
   "execution_count": 11,
   "metadata": {
    "scrolled": false
   },
   "outputs": [
    {
     "data": {
      "image/png": "[encoded data removed]",
      "text/plain": [
       "<Figure size 720x432 with 1 Axes>"
      ]
     },
     "metadata": {},
     "output_type": "display_data"
    }
   ],
   "source": [
    "# The 10 most frequent distribution about dog breed inside level 3 (Algorithm #3).\n",
    "merged_p3_df = twitter_archive_master_df.merge(image_predictions_master_df[image_predictions_master_df.prediction_level == 3],\n",
    "         on='tweet_id', how='inner')\n",
    "top_breed = merged_p3_df.prediction.value_counts().head(10).sort_values(ascending=True)\n",
    "top_breed.plot(kind='barh')\n",
    "plt.title('The 10 Most Frequent Dog\\'s Breed - Algorithm #3')\n",
    "plt.xlabel('Count');\n",
    "plt.ylabel('Dog\\'s Breed');\n",
    "# Save graph image\n",
    "plt.savefig(\"images/Most_Frequent_Dogs_Breed_P3.jpg\")"
   ]
  },
  {
   "cell_type": "code",
   "execution_count": 13,
   "metadata": {},
   "outputs": [
    {
     "name": "stdout",
     "output_type": "stream",
     "text": [
      "P1: 15 breed.\n",
      "P2: 18 breed.\n",
      "P3: 21 breed.\n"
     ]
    }
   ],
   "source": [
    "# Calculate the number of breeds in each algorithm with more than 20\n",
    "p1 = sum(merged_p1_df.prediction.value_counts() > 20)\n",
    "p2 = sum(merged_p2_df.prediction.value_counts() > 20)\n",
    "p3 = sum(merged_p3_df.prediction.value_counts() > 20)\n",
    "\n",
    "# Print breeds count for each algorithm.\n",
    "print(\"P1: {} breed.\\nP2: {} breed.\\nP3: {} breed.\".format(p1,p2,p3))"
   ]
  },
  {
   "cell_type": "markdown",
   "metadata": {},
   "source": [
    "- Algorithm #1 has fewer breeds and high frequence in some breeds.\n",
    "- Algorithm #3 has more breeds and the dogs are spread in more breeds and also it has less frequence."
   ]
  },
  {
   "cell_type": "code",
   "execution_count": 23,
   "metadata": {
    "scrolled": true
   },
   "outputs": [
    {
     "data": {
      "text/plain": [
       "prediction\n",
       "oscilloscope       13873.5\n",
       "gondola            14475.5\n",
       "theater_curtain    15395.0\n",
       "upright            16005.0\n",
       "pool_table         16071.0\n",
       "guillotine         16185.0\n",
       "conch              16805.0\n",
       "tiger_cat          17452.0\n",
       "palace             18932.0\n",
       "house_finch        34737.0\n",
       "Name: retweet_count, dtype: float64"
      ]
     },
     "execution_count": 23,
     "metadata": {},
     "output_type": "execute_result"
    }
   ],
   "source": [
    "# the 10 breeds that receive the highest interaction in terms of average retweet count.\n",
    "merged_df = twitter_archive_master_df.merge(image_predictions_master_df, on='tweet_id', how='inner')\n",
    "breed_avg_retweet = merged_df.groupby(['prediction']).retweet_count.mean().sort_values(ascending=False)[9::-1]\n",
    "\n",
    "breed_avg_retweet"
   ]
  },
  {
   "cell_type": "code",
   "execution_count": 24,
   "metadata": {
    "scrolled": true
   },
   "outputs": [
    {
     "data": {
      "image/png": "[encoded data removed]",
      "text/plain": [
       "<Figure size 720x432 with 1 Axes>"
      ]
     },
     "metadata": {},
     "output_type": "display_data"
    }
   ],
   "source": [
    "breed_avg_retweet.plot(kind='barh');\n",
    "plt.title('Interaction With Different Dog\\'s Breed');\n",
    "plt.xlabel('Average Retweet Count');\n",
    "plt.ylabel('Dog\\'s Breed');\n",
    "# Save graph image\n",
    "plt.savefig(\"images/Interaction_With_Different_Dogs_Breed_Retweets.jpg\")"
   ]
  },
  {
   "cell_type": "code",
   "execution_count": 25,
   "metadata": {},
   "outputs": [
    {
     "data": {
      "text/plain": [
       "prediction\n",
       "trombone              96.0\n",
       "hair_spray            77.0\n",
       "piggy_bank            77.0\n",
       "pitcher               74.0\n",
       "spotted_salamander    60.0\n",
       "wing                  53.0\n",
       "power_drill           45.0\n",
       "crash_helmet          37.0\n",
       "toaster               37.0\n",
       "desk                  32.0\n",
       "Name: retweet_count, dtype: float64"
      ]
     },
     "execution_count": 25,
     "metadata": {},
     "output_type": "execute_result"
    }
   ],
   "source": [
    "# the 10 breeds that receive the lowest interaction in terms of average retweet count.\n",
    "breed_low_avg_retweet = merged_df.groupby(['prediction']).retweet_count.mean().sort_values(ascending=True)[9::-1]\n",
    "\n",
    "breed_low_avg_retweet"
   ]
  },
  {
   "cell_type": "code",
   "execution_count": 26,
   "metadata": {
    "scrolled": true
   },
   "outputs": [
    {
     "data": {
      "text/plain": [
       "prediction\n",
       "dumbbell       31970.0\n",
       "go-kart        31970.0\n",
       "projectile     32035.0\n",
       "revolver       32035.0\n",
       "laptop         33109.0\n",
       "tiger_cat      43513.0\n",
       "guillotine     44579.0\n",
       "palace         45212.0\n",
       "conch          48103.5\n",
       "house_finch    74815.0\n",
       "Name: favorite_count, dtype: float64"
      ]
     },
     "execution_count": 26,
     "metadata": {},
     "output_type": "execute_result"
    }
   ],
   "source": [
    "# the 10 breeds that receive the highest interaction in terms of average favorite count.\n",
    "merged_df = twitter_archive_master_df.merge(image_predictions_master_df, on='tweet_id', how='inner')\n",
    "breed_avg_favorite = merged_df.groupby(['prediction']).favorite_count.mean().sort_values(ascending=False)[9::-1]\n",
    "breed_avg_favorite"
   ]
  },
  {
   "cell_type": "code",
   "execution_count": 27,
   "metadata": {
    "scrolled": true
   },
   "outputs": [
    {
     "data": {
      "image/png": "[encoded data removed]",
      "text/plain": [
       "<Figure size 720x432 with 1 Axes>"
      ]
     },
     "metadata": {},
     "output_type": "display_data"
    }
   ],
   "source": [
    "breed_avg_favorite.plot(kind='barh')\n",
    "plt.title('Interaction With Different Dog\\'s Breed')\n",
    "plt.xlabel('Average Favorite Count');\n",
    "plt.ylabel('Dog\\'s Breed');\n",
    "\n",
    "# Save graph image\n",
    "plt.savefig(\"images/Interaction_With_Different_Dogs_Breed_Favorites.jpg\")"
   ]
  },
  {
   "cell_type": "code",
   "execution_count": 28,
   "metadata": {
    "scrolled": true
   },
   "outputs": [
    {
     "data": {
      "text/plain": [
       "prediction\n",
       "hair_spray      304.0\n",
       "piggy_bank      304.0\n",
       "trombone        277.0\n",
       "French_horn     277.0\n",
       "cornet          277.0\n",
       "wing            221.0\n",
       "toaster         186.0\n",
       "crash_helmet    186.0\n",
       "power_drill     151.0\n",
       "desk            93.0 \n",
       "Name: favorite_count, dtype: float64"
      ]
     },
     "execution_count": 28,
     "metadata": {},
     "output_type": "execute_result"
    }
   ],
   "source": [
    "# the 10 breeds that receive the lowest interaction in terms of average favorite count.\n",
    "breed_low_avg_favorite = merged_df.groupby(['prediction']).favorite_count.mean().sort_values(ascending=True)[9::-1]\n",
    "breed_low_avg_favorite"
   ]
  },
  {
   "cell_type": "markdown",
   "metadata": {},
   "source": [
    "- *house_finch* breed has highest interaction.\n",
    "- *desk* breed has lowest interaction."
   ]
  },
  {
   "cell_type": "code",
   "execution_count": 29,
   "metadata": {
    "scrolled": true
   },
   "outputs": [
    {
     "data": {
      "text/plain": [
       "pupper           201\n",
       "doggo            62 \n",
       "puppo            22 \n",
       "doggo-pupper     8  \n",
       "floofer          7  \n",
       "doggo-floofer    1  \n",
       "doggo-puppo      1  \n",
       "Name: dog_stages, dtype: int64"
      ]
     },
     "execution_count": 29,
     "metadata": {},
     "output_type": "execute_result"
    }
   ],
   "source": [
    "# Which dog stage is found most?\n",
    "dog_stages = twitter_archive_master_df.dog_stages.value_counts()\n",
    "\n",
    "dog_stages"
   ]
  },
  {
   "cell_type": "code",
   "execution_count": 30,
   "metadata": {},
   "outputs": [
    {
     "data": {
      "image/png": "[encoded data removed]",
      "text/plain": [
       "<Figure size 720x432 with 1 Axes>"
      ]
     },
     "metadata": {},
     "output_type": "display_data"
    }
   ],
   "source": [
    "dog_stages.plot(kind='bar')\n",
    "plt.xlabel('Dog Stages')\n",
    "plt.ylabel('Count')\n",
    "plt.title('The Most Dog Stage')\n",
    "# Save graph image\n",
    "plt.savefig(\"images/Most_Dog_Stage.jpg\")"
   ]
  },
  {
   "cell_type": "markdown",
   "metadata": {},
   "source": [
    "- We can see `pupper` is found maximum (201), followed by `doggo` (62)."
   ]
  },
  {
   "cell_type": "code",
   "execution_count": 31,
   "metadata": {
    "scrolled": false
   },
   "outputs": [
    {
     "name": "stdout",
     "output_type": "stream",
     "text": [
      "dog_stages\n",
      "doggo            6405.967742 \n",
      "doggo-floofer    2999.000000 \n",
      "doggo-pupper     3962.125000 \n",
      "doggo-puppo      17092.000000\n",
      "floofer          4267.571429 \n",
      "pupper           2067.497512 \n",
      "puppo            5712.000000 \n",
      "Name: retweet_count, dtype: float64\n",
      "------------------------------------------------------------------------------------------------------------------------\n",
      "dog_stages\n",
      "doggo            18570.903226\n",
      "doggo-floofer    15604.000000\n",
      "doggo-pupper     13024.250000\n",
      "doggo-puppo      43794.000000\n",
      "floofer          11844.857143\n",
      "pupper           6601.940299 \n",
      "puppo            20604.590909\n",
      "Name: favorite_count, dtype: float64\n"
     ]
    }
   ],
   "source": [
    "# Interaction with different dog stages\n",
    "\n",
    "avg_retweet_count_dog_stage = twitter_archive_master_df.groupby('dog_stages').retweet_count.mean()\n",
    "\n",
    "print(avg_retweet_count_dog_stage)\n",
    "\n",
    "print('---'*40)\n",
    "\n",
    "avg_favorite_count_dog_stage = twitter_archive_master_df.groupby('dog_stages').favorite_count.mean()\n",
    "\n",
    "print(avg_favorite_count_dog_stage)"
   ]
  },
  {
   "cell_type": "code",
   "execution_count": 32,
   "metadata": {},
   "outputs": [
    {
     "data": {
      "text/plain": [
       "<matplotlib.legend.Legend at 0x2156e6abaf0>"
      ]
     },
     "execution_count": 32,
     "metadata": {},
     "output_type": "execute_result"
    },
    {
     "data": {
      "image/png": "[encoded data removed]",
      "text/plain": [
       "<Figure size 720x432 with 1 Axes>"
      ]
     },
     "metadata": {},
     "output_type": "display_data"
    }
   ],
   "source": [
    "ind = np.arange(len(avg_favorite_count_dog_stage))\n",
    "width = 0.35\n",
    "\n",
    "# plot bars\n",
    "retweet_bars = plt.bar(ind, avg_retweet_count_dog_stage, width, color='r', alpha=.7, label='Average Retweet Count')\n",
    "favorite_bars = plt.bar(ind + width, avg_favorite_count_dog_stage, width, color='w', alpha=.7, label='Average Favorite Count')\n",
    "\n",
    "# title and labels\n",
    "plt.title('Interaction With Different Dog Stages')\n",
    "\n",
    "#plt.ylabel('Average')\n",
    "plt.xlabel('Dog\\'s Breeds')\n",
    "\n",
    "locations = ind + width / 2  # xtick locations\n",
    " \n",
    "#twitter_archive_master_df[twitter_archive_master_df.dog_stages.notnull()].dog_stages.unique()\n",
    "labels = ['doggo', 'doggo-floofer', 'doggo-pupper', 'doggo-puppo', 'floofer', 'pupper', 'puppo']\n",
    "\n",
    "plt.xticks(locations, labels)\n",
    "\n",
    "# Save graph image\n",
    "plt.savefig(\"images/Interaction_With_Dogs_Stages_Retweets_Favorites.jpg\")\n",
    "\n",
    "# legend\n",
    "plt.legend()"
   ]
  },
  {
   "cell_type": "markdown",
   "metadata": {},
   "source": [
    "- *doggo_puppo* breed is the most retweeted and favorited dog stage."
   ]
  },
  {
   "cell_type": "code",
   "execution_count": 33,
   "metadata": {
    "scrolled": true
   },
   "outputs": [
    {
     "data": {
      "image/png": "[encoded data removed]",
      "text/plain": [
       "<Figure size 720x432 with 1 Axes>"
      ]
     },
     "metadata": {},
     "output_type": "display_data"
    }
   ],
   "source": [
    "# Rating numerator distribution\n",
    "rating_distribution = twitter_archive_master_df.rating_numerator.value_counts().sort_index().iloc[0:19]\n",
    "rating_distribution.plot(kind='bar')\n",
    "plt.title ('Rating Numerator Distribution')\n",
    "plt.xlabel('Rating Numerator')\n",
    "plt.ylabel('Number of Rating')\n",
    "# Save graph image\n",
    "plt.savefig(\"images/Rating_Numerator_Distribution.jpg\")"
   ]
  },
  {
   "cell_type": "markdown",
   "metadata": {},
   "source": [
    "- We see the most assigned numerator is `12`. "
   ]
  },
  {
   "cell_type": "code",
   "execution_count": 36,
   "metadata": {},
   "outputs": [
    {
     "name": "stdout",
     "output_type": "stream",
     "text": [
      "1551 tweets are rated above 9.\n"
     ]
    }
   ],
   "source": [
    "# How many tweets rated above 9\n",
    "# Get all tweets that have rating_numerator >= 10\n",
    "tweets_list = twitter_archive_master_df[twitter_archive_master_df.rating_numerator >= 10]\n",
    "\n",
    "# Drop tweets inside outliers\n",
    "tweets_list = tweets_list[~tweets_list.tweet_id.isin(outliers_ids)]\n",
    "\n",
    "print('{} tweets are rated above 9.'.format(tweets_list.rating_numerator.count()))"
   ]
  },
  {
   "cell_type": "code",
   "execution_count": 37,
   "metadata": {},
   "outputs": [
    {
     "name": "stdout",
     "output_type": "stream",
     "text": [
      "362 tweets are rated between 10 and 5.\n"
     ]
    }
   ],
   "source": [
    "# How many tweets rated between 10 and 5\n",
    "# Get all tweets that have rating_numerator > 10 & <= 5\n",
    "tweets_list = twitter_archive_master_df[(twitter_archive_master_df.rating_numerator < 10) & (twitter_archive_master_df.rating_numerator >= 5)]\n",
    "\n",
    "print('{} tweets are rated between 10 and 5.'.format(tweets_list.rating_numerator.count()))"
   ]
  },
  {
   "cell_type": "code",
   "execution_count": 38,
   "metadata": {},
   "outputs": [
    {
     "name": "stdout",
     "output_type": "stream",
     "text": [
      "48 tweets are rated under 5.\n"
     ]
    }
   ],
   "source": [
    "# How many tweets have low rating\n",
    "# Get all tweets that have rating_numerator < 5\n",
    "tweets_list = twitter_archive_master_df[twitter_archive_master_df.rating_numerator < 5]\n",
    "\n",
    "print('{} tweets are rated under 5.'.format(tweets_list.rating_numerator.count()))"
   ]
  },
  {
   "cell_type": "code",
   "execution_count": 39,
   "metadata": {
    "scrolled": true
   },
   "outputs": [
    {
     "data": {
      "text/html": [
       "<div>\n",
       "<style scoped>\n",
       "    .dataframe tbody tr th:only-of-type {\n",
       "        vertical-align: middle;\n",
       "    }\n",
       "\n",
       "    .dataframe tbody tr th {\n",
       "        vertical-align: top;\n",
       "    }\n",
       "\n",
       "    .dataframe thead th {\n",
       "        text-align: right;\n",
       "    }\n",
       "</style>\n",
       "<table border=\"1\" class=\"dataframe\">\n",
       "  <thead>\n",
       "    <tr style=\"text-align: right;\">\n",
       "      <th></th>\n",
       "      <th>retweet_count</th>\n",
       "      <th>favorite_count</th>\n",
       "    </tr>\n",
       "  </thead>\n",
       "  <tbody>\n",
       "    <tr>\n",
       "      <th>count</th>\n",
       "      <td>1961.000000</td>\n",
       "      <td>1961.000000</td>\n",
       "    </tr>\n",
       "    <tr>\n",
       "      <th>mean</th>\n",
       "      <td>2421.165732</td>\n",
       "      <td>8179.427843</td>\n",
       "    </tr>\n",
       "    <tr>\n",
       "      <th>std</th>\n",
       "      <td>4331.252184</td>\n",
       "      <td>12039.377364</td>\n",
       "    </tr>\n",
       "    <tr>\n",
       "      <th>min</th>\n",
       "      <td>11.000000</td>\n",
       "      <td>69.000000</td>\n",
       "    </tr>\n",
       "    <tr>\n",
       "      <th>25%</th>\n",
       "      <td>539.000000</td>\n",
       "      <td>1752.000000</td>\n",
       "    </tr>\n",
       "    <tr>\n",
       "      <th>50%</th>\n",
       "      <td>1172.000000</td>\n",
       "      <td>3690.000000</td>\n",
       "    </tr>\n",
       "    <tr>\n",
       "      <th>75%</th>\n",
       "      <td>2773.000000</td>\n",
       "      <td>10191.000000</td>\n",
       "    </tr>\n",
       "    <tr>\n",
       "      <th>max</th>\n",
       "      <td>76180.000000</td>\n",
       "      <td>153545.000000</td>\n",
       "    </tr>\n",
       "  </tbody>\n",
       "</table>\n",
       "</div>"
      ],
      "text/plain": [
       "       retweet_count  favorite_count\n",
       "count  1961.000000    1961.000000   \n",
       "mean   2421.165732    8179.427843   \n",
       "std    4331.252184    12039.377364  \n",
       "min    11.000000      69.000000     \n",
       "25%    539.000000     1752.000000   \n",
       "50%    1172.000000    3690.000000   \n",
       "75%    2773.000000    10191.000000  \n",
       "max    76180.000000   153545.000000 "
      ]
     },
     "execution_count": 39,
     "metadata": {},
     "output_type": "execute_result"
    }
   ],
   "source": [
    "# retweet_count and favorite_count\n",
    "tweets_list_without_outliers = twitter_archive_master_df[~twitter_archive_master_df.tweet_id.isin(outliers_ids)]\n",
    "\n",
    "tweets_list_without_outliers.loc[:,['retweet_count','favorite_count']].describe()"
   ]
  },
  {
   "cell_type": "code",
   "execution_count": 40,
   "metadata": {},
   "outputs": [
    {
     "name": "stdout",
     "output_type": "stream",
     "text": [
      "Retweet Count mean for rating numerators above 9 is 2841.1798839458415.\n",
      "Retweet Count mean for rating numerators between 10 to 5 is 794.4337016574585.\n",
      "Retweet Count mean for rating numerators under 5 is 1117.7291666666667.\n"
     ]
    }
   ],
   "source": [
    "# Retweet count depending on rating numerator\n",
    "\n",
    "print('Retweet Count mean for rating numerators above 9 is {}.'.format\n",
    "      (tweets_list_without_outliers[tweets_list_without_outliers.rating_numerator >= 10].retweet_count.mean()))\n",
    "\n",
    "\n",
    "print('Retweet Count mean for rating numerators between 10 to 5 is {}.'.format\n",
    "      (tweets_list_without_outliers.retweet_count[(tweets_list_without_outliers.rating_numerator < 10) & (tweets_list_without_outliers.rating_numerator >= 5)].mean()))\n",
    "\n",
    "print('Retweet Count mean for rating numerators under 5 is {}.'.format\n",
    "      (tweets_list_without_outliers.retweet_count[tweets_list_without_outliers.rating_numerator < 5].mean()))"
   ]
  },
  {
   "cell_type": "code",
   "execution_count": 41,
   "metadata": {
    "scrolled": true
   },
   "outputs": [
    {
     "name": "stdout",
     "output_type": "stream",
     "text": [
      "Favorite Count mean for rating numerators above 9 is 9708.976144422953.\n",
      "Favorite Count mean for rating numerators between 10 to 5 is 2316.7127071823206.\n",
      "Favorite Count mean rating numerators under 5 is 2970.5416666666665.\n"
     ]
    }
   ],
   "source": [
    "# favorite count depending on rating numerator\n",
    "\n",
    "print('Favorite Count mean for rating numerators above 9 is {}.'.format\n",
    "      (tweets_list_without_outliers[tweets_list_without_outliers.rating_numerator >= 10].favorite_count.mean()))\n",
    "\n",
    "print('Favorite Count mean for rating numerators between 10 to 5 is {}.'.format\n",
    "      (tweets_list_without_outliers.favorite_count[(tweets_list_without_outliers.rating_numerator < 10) & ((tweets_list_without_outliers.rating_numerator >= 5))].mean()))\n",
    "\n",
    "print('Favorite Count mean rating numerators under 5 is {}.'.format\n",
    "      (tweets_list_without_outliers.favorite_count[tweets_list_without_outliers.rating_numerator < 5].mean()))"
   ]
  },
  {
   "cell_type": "markdown",
   "metadata": {},
   "source": [
    "- if your dog got a rating numerator above 10 there is a good chance your dog will get more likes."
   ]
  },
  {
   "cell_type": "code",
   "execution_count": 42,
   "metadata": {},
   "outputs": [
    {
     "name": "stdout",
     "output_type": "stream",
     "text": [
      "rating_numerator\n",
      "0.00     2954.000000\n",
      "1.00     2693.250000\n",
      "2.00     1147.444444\n",
      "3.00     813.421053 \n",
      "4.00     942.800000 \n",
      "5.00     898.843750 \n",
      "6.00     893.031250 \n",
      "7.00     912.882353 \n",
      "8.00     773.736842 \n",
      "9.00     689.079470 \n",
      "9.75     6132.000000\n",
      "10.00    1325.264916\n",
      "11.00    1903.085642\n",
      "11.26    473.000000 \n",
      "11.27    1604.000000\n",
      "12.00    2738.533482\n",
      "13.00    6253.372000\n",
      "13.50    8840.000000\n",
      "14.00    8668.705882\n",
      "Name: retweet_count, dtype: float64\n"
     ]
    }
   ],
   "source": [
    "# The relation between ratings and the retweet_count and favorite_count\n",
    "rating_avg_retweet = twitter_archive_master_df.groupby(['rating_numerator']).retweet_count.mean().iloc[0:19]\n",
    "print(rating_avg_retweet)"
   ]
  },
  {
   "cell_type": "code",
   "execution_count": 43,
   "metadata": {},
   "outputs": [
    {
     "data": {
      "image/png": "[encoded data removed]",
      "text/plain": [
       "<Figure size 720x432 with 1 Axes>"
      ]
     },
     "metadata": {},
     "output_type": "display_data"
    }
   ],
   "source": [
    "rating_avg_retweet.plot(kind='barh')\n",
    "plt.title('The relation between ratings and the Retweet Count')\n",
    "plt.xlabel('Retweet Average');\n",
    "plt.ylabel('Rating');\n",
    "plt.savefig(\"images/The_Relation_Between_Ratings_And_Retweets.jpg\")"
   ]
  },
  {
   "cell_type": "code",
   "execution_count": 44,
   "metadata": {},
   "outputs": [
    {
     "name": "stdout",
     "output_type": "stream",
     "text": [
      "rating_numerator\n",
      "0.00     22090.000000\n",
      "1.00     6383.000000 \n",
      "2.00     1995.000000 \n",
      "3.00     2122.578947 \n",
      "4.00     2445.333333 \n",
      "5.00     2334.906250 \n",
      "6.00     2419.625000 \n",
      "7.00     2692.705882 \n",
      "8.00     2185.410526 \n",
      "9.00     2141.178808 \n",
      "9.75     18245.000000\n",
      "10.00    3767.868735 \n",
      "11.00    6193.256927 \n",
      "11.26    1676.000000 \n",
      "11.27    6524.000000 \n",
      "12.00    10384.301339\n",
      "13.00    21497.984000\n",
      "13.50    42268.000000\n",
      "14.00    27765.617647\n",
      "Name: favorite_count, dtype: float64\n"
     ]
    }
   ],
   "source": [
    "rating_avg_favorite = twitter_archive_master_df.groupby(['rating_numerator']).favorite_count.mean().iloc[0:19]\n",
    "print(rating_avg_favorite)"
   ]
  },
  {
   "cell_type": "code",
   "execution_count": 45,
   "metadata": {},
   "outputs": [
    {
     "data": {
      "image/png": "[encoded data removed]",
      "text/plain": [
       "<Figure size 720x432 with 1 Axes>"
      ]
     },
     "metadata": {},
     "output_type": "display_data"
    }
   ],
   "source": [
    "rating_avg_favorite.plot(kind='barh')\n",
    "plt.title('The relation between ratings and the Favorite Count')\n",
    "plt.xlabel('Favorite Average');\n",
    "plt.ylabel('Rating');\n",
    "plt.savefig(\"images/The_Relation_Between_Ratings_And_Favorites.jpg\")"
   ]
  },
  {
   "cell_type": "markdown",
   "metadata": {},
   "source": [
    "- We see the degree of audience interaction with tweets.\n",
    "- With high rating, we get a good chance your dog will get more likes and retweets. "
   ]
  },
  {
   "cell_type": "code",
   "execution_count": 46,
   "metadata": {},
   "outputs": [
    {
     "data": {
      "text/plain": [
       "timestamp  timestamp\n",
       "2015       11           295\n",
       "           12           359\n",
       "2016       1            166\n",
       "           2            108\n",
       "           3            118\n",
       "           4            54 \n",
       "           5            56 \n",
       "           6            79 \n",
       "           7            87 \n",
       "           8            59 \n",
       "           9            62 \n",
       "           10           65 \n",
       "           11           52 \n",
       "           12           54 \n",
       "2017       1            66 \n",
       "           2            63 \n",
       "           3            45 \n",
       "           4            40 \n",
       "           5            42 \n",
       "           6            43 \n",
       "           7            49 \n",
       "           8            2  \n",
       "Name: tweet_id, dtype: int64"
      ]
     },
     "execution_count": 46,
     "metadata": {},
     "output_type": "execute_result"
    }
   ],
   "source": [
    "# What is number of tweets monthly\n",
    "selected_data = twitter_archive_master_df['tweet_id'].groupby([twitter_archive_master_df.index.year, twitter_archive_master_df.index.month]).count()\n",
    "selected_data"
   ]
  },
  {
   "cell_type": "code",
   "execution_count": 47,
   "metadata": {
    "scrolled": true
   },
   "outputs": [
    {
     "data": {
      "image/png": "[encoded data removed]",
      "text/plain": [
       "<Figure size 720x432 with 1 Axes>"
      ]
     },
     "metadata": {},
     "output_type": "display_data"
    }
   ],
   "source": [
    "selected_data.plot(kind='line')\n",
    "plt.title('Monthly Number of Tweets')\n",
    "plt.xlabel('Time (Year, Month)')\n",
    "plt.ylabel('Number of Tweets')\n",
    "plt.savefig(\"images/Monthly_Number_Of_Tweets.jpg\")"
   ]
  },
  {
   "cell_type": "markdown",
   "metadata": {},
   "source": [
    "- We see the most tweets were posted in December 2015 (359 tweets). The number of tweets decreased rapidly April 2016 and remained fairly constant since then until July 2017."
   ]
  }
 ],
 "metadata": {
  "kernelspec": {
   "display_name": "Python 3",
   "language": "python",
   "name": "python3"
  },
  "language_info": {
   "codemirror_mode": {
    "name": "ipython",
    "version": 3
   },
   "file_extension": ".py",
   "mimetype": "text/x-python",
   "name": "python",
   "nbconvert_exporter": "python",
   "pygments_lexer": "ipython3",
   "version": "3.8.5"
  }
 },
 "nbformat": 4,
 "nbformat_minor": 4
}
